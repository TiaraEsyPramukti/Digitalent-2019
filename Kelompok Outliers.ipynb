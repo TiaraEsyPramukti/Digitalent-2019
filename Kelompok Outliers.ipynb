{
 "cells": [
  {
   "cell_type": "markdown",
   "metadata": {},
   "source": [
    "# Data Understanding"
   ]
  },
  {
   "cell_type": "markdown",
   "metadata": {},
   "source": [
    "#### Peeking Dataset"
   ]
  },
  {
   "cell_type": "code",
   "execution_count": 1,
   "metadata": {
    "scrolled": true
   },
   "outputs": [
    {
     "data": {
      "text/html": [
       "<div>\n",
       "<style scoped>\n",
       "    .dataframe tbody tr th:only-of-type {\n",
       "        vertical-align: middle;\n",
       "    }\n",
       "\n",
       "    .dataframe tbody tr th {\n",
       "        vertical-align: top;\n",
       "    }\n",
       "\n",
       "    .dataframe thead th {\n",
       "        text-align: right;\n",
       "    }\n",
       "</style>\n",
       "<table border=\"1\" class=\"dataframe\">\n",
       "  <thead>\n",
       "    <tr style=\"text-align: right;\">\n",
       "      <th></th>\n",
       "      <th>Sector_score</th>\n",
       "      <th>LOCATION_ID</th>\n",
       "      <th>PARA_A</th>\n",
       "      <th>SCORE_A</th>\n",
       "      <th>PARA_B</th>\n",
       "      <th>SCORE_B</th>\n",
       "      <th>TOTAL</th>\n",
       "      <th>numbers</th>\n",
       "      <th>Marks</th>\n",
       "      <th>Money_Value</th>\n",
       "      <th>MONEY_Marks</th>\n",
       "      <th>District</th>\n",
       "      <th>Loss</th>\n",
       "      <th>LOSS_SCORE</th>\n",
       "      <th>History</th>\n",
       "      <th>History_score</th>\n",
       "      <th>Score</th>\n",
       "      <th>Risk</th>\n",
       "    </tr>\n",
       "  </thead>\n",
       "  <tbody>\n",
       "    <tr>\n",
       "      <th>0</th>\n",
       "      <td>3.89</td>\n",
       "      <td>23</td>\n",
       "      <td>4.18</td>\n",
       "      <td>6</td>\n",
       "      <td>2.50</td>\n",
       "      <td>2</td>\n",
       "      <td>6.68</td>\n",
       "      <td>5.0</td>\n",
       "      <td>2</td>\n",
       "      <td>3.38</td>\n",
       "      <td>2</td>\n",
       "      <td>2</td>\n",
       "      <td>0</td>\n",
       "      <td>2</td>\n",
       "      <td>0</td>\n",
       "      <td>2</td>\n",
       "      <td>2.4</td>\n",
       "      <td>1</td>\n",
       "    </tr>\n",
       "    <tr>\n",
       "      <th>1</th>\n",
       "      <td>3.89</td>\n",
       "      <td>6</td>\n",
       "      <td>0.00</td>\n",
       "      <td>2</td>\n",
       "      <td>4.83</td>\n",
       "      <td>2</td>\n",
       "      <td>4.83</td>\n",
       "      <td>5.0</td>\n",
       "      <td>2</td>\n",
       "      <td>0.94</td>\n",
       "      <td>2</td>\n",
       "      <td>2</td>\n",
       "      <td>0</td>\n",
       "      <td>2</td>\n",
       "      <td>0</td>\n",
       "      <td>2</td>\n",
       "      <td>2.0</td>\n",
       "      <td>0</td>\n",
       "    </tr>\n",
       "    <tr>\n",
       "      <th>2</th>\n",
       "      <td>3.89</td>\n",
       "      <td>6</td>\n",
       "      <td>0.51</td>\n",
       "      <td>2</td>\n",
       "      <td>0.23</td>\n",
       "      <td>2</td>\n",
       "      <td>0.74</td>\n",
       "      <td>5.0</td>\n",
       "      <td>2</td>\n",
       "      <td>0.00</td>\n",
       "      <td>2</td>\n",
       "      <td>2</td>\n",
       "      <td>0</td>\n",
       "      <td>2</td>\n",
       "      <td>0</td>\n",
       "      <td>2</td>\n",
       "      <td>2.0</td>\n",
       "      <td>0</td>\n",
       "    </tr>\n",
       "    <tr>\n",
       "      <th>3</th>\n",
       "      <td>3.89</td>\n",
       "      <td>6</td>\n",
       "      <td>0.00</td>\n",
       "      <td>2</td>\n",
       "      <td>10.80</td>\n",
       "      <td>6</td>\n",
       "      <td>10.80</td>\n",
       "      <td>6.0</td>\n",
       "      <td>6</td>\n",
       "      <td>11.75</td>\n",
       "      <td>6</td>\n",
       "      <td>2</td>\n",
       "      <td>0</td>\n",
       "      <td>2</td>\n",
       "      <td>0</td>\n",
       "      <td>2</td>\n",
       "      <td>4.4</td>\n",
       "      <td>1</td>\n",
       "    </tr>\n",
       "    <tr>\n",
       "      <th>4</th>\n",
       "      <td>3.89</td>\n",
       "      <td>6</td>\n",
       "      <td>0.00</td>\n",
       "      <td>2</td>\n",
       "      <td>0.08</td>\n",
       "      <td>2</td>\n",
       "      <td>0.08</td>\n",
       "      <td>5.0</td>\n",
       "      <td>2</td>\n",
       "      <td>0.00</td>\n",
       "      <td>2</td>\n",
       "      <td>2</td>\n",
       "      <td>0</td>\n",
       "      <td>2</td>\n",
       "      <td>0</td>\n",
       "      <td>2</td>\n",
       "      <td>2.0</td>\n",
       "      <td>0</td>\n",
       "    </tr>\n",
       "    <tr>\n",
       "      <th>5</th>\n",
       "      <td>3.89</td>\n",
       "      <td>6</td>\n",
       "      <td>0.00</td>\n",
       "      <td>2</td>\n",
       "      <td>0.83</td>\n",
       "      <td>2</td>\n",
       "      <td>0.83</td>\n",
       "      <td>5.0</td>\n",
       "      <td>2</td>\n",
       "      <td>2.95</td>\n",
       "      <td>2</td>\n",
       "      <td>2</td>\n",
       "      <td>0</td>\n",
       "      <td>2</td>\n",
       "      <td>0</td>\n",
       "      <td>2</td>\n",
       "      <td>2.0</td>\n",
       "      <td>0</td>\n",
       "    </tr>\n",
       "    <tr>\n",
       "      <th>6</th>\n",
       "      <td>3.89</td>\n",
       "      <td>7</td>\n",
       "      <td>1.10</td>\n",
       "      <td>4</td>\n",
       "      <td>7.41</td>\n",
       "      <td>4</td>\n",
       "      <td>8.51</td>\n",
       "      <td>5.0</td>\n",
       "      <td>2</td>\n",
       "      <td>44.95</td>\n",
       "      <td>6</td>\n",
       "      <td>2</td>\n",
       "      <td>0</td>\n",
       "      <td>2</td>\n",
       "      <td>0</td>\n",
       "      <td>2</td>\n",
       "      <td>3.2</td>\n",
       "      <td>1</td>\n",
       "    </tr>\n",
       "    <tr>\n",
       "      <th>7</th>\n",
       "      <td>3.89</td>\n",
       "      <td>8</td>\n",
       "      <td>8.50</td>\n",
       "      <td>6</td>\n",
       "      <td>12.03</td>\n",
       "      <td>6</td>\n",
       "      <td>20.53</td>\n",
       "      <td>5.5</td>\n",
       "      <td>4</td>\n",
       "      <td>7.79</td>\n",
       "      <td>4</td>\n",
       "      <td>2</td>\n",
       "      <td>0</td>\n",
       "      <td>2</td>\n",
       "      <td>0</td>\n",
       "      <td>2</td>\n",
       "      <td>4.2</td>\n",
       "      <td>1</td>\n",
       "    </tr>\n",
       "    <tr>\n",
       "      <th>8</th>\n",
       "      <td>3.89</td>\n",
       "      <td>8</td>\n",
       "      <td>8.40</td>\n",
       "      <td>6</td>\n",
       "      <td>11.05</td>\n",
       "      <td>6</td>\n",
       "      <td>19.45</td>\n",
       "      <td>5.5</td>\n",
       "      <td>4</td>\n",
       "      <td>7.34</td>\n",
       "      <td>4</td>\n",
       "      <td>2</td>\n",
       "      <td>0</td>\n",
       "      <td>2</td>\n",
       "      <td>0</td>\n",
       "      <td>2</td>\n",
       "      <td>4.2</td>\n",
       "      <td>1</td>\n",
       "    </tr>\n",
       "    <tr>\n",
       "      <th>9</th>\n",
       "      <td>3.89</td>\n",
       "      <td>8</td>\n",
       "      <td>3.98</td>\n",
       "      <td>6</td>\n",
       "      <td>0.99</td>\n",
       "      <td>2</td>\n",
       "      <td>4.97</td>\n",
       "      <td>5.0</td>\n",
       "      <td>2</td>\n",
       "      <td>1.93</td>\n",
       "      <td>2</td>\n",
       "      <td>2</td>\n",
       "      <td>0</td>\n",
       "      <td>2</td>\n",
       "      <td>0</td>\n",
       "      <td>2</td>\n",
       "      <td>2.4</td>\n",
       "      <td>1</td>\n",
       "    </tr>\n",
       "  </tbody>\n",
       "</table>\n",
       "</div>"
      ],
      "text/plain": [
       "   Sector_score LOCATION_ID  PARA_A  SCORE_A  PARA_B  SCORE_B  TOTAL  numbers  \\\n",
       "0          3.89          23    4.18        6    2.50        2   6.68      5.0   \n",
       "1          3.89           6    0.00        2    4.83        2   4.83      5.0   \n",
       "2          3.89           6    0.51        2    0.23        2   0.74      5.0   \n",
       "3          3.89           6    0.00        2   10.80        6  10.80      6.0   \n",
       "4          3.89           6    0.00        2    0.08        2   0.08      5.0   \n",
       "5          3.89           6    0.00        2    0.83        2   0.83      5.0   \n",
       "6          3.89           7    1.10        4    7.41        4   8.51      5.0   \n",
       "7          3.89           8    8.50        6   12.03        6  20.53      5.5   \n",
       "8          3.89           8    8.40        6   11.05        6  19.45      5.5   \n",
       "9          3.89           8    3.98        6    0.99        2   4.97      5.0   \n",
       "\n",
       "   Marks  Money_Value  MONEY_Marks  District  Loss  LOSS_SCORE  History  \\\n",
       "0      2         3.38            2         2     0           2        0   \n",
       "1      2         0.94            2         2     0           2        0   \n",
       "2      2         0.00            2         2     0           2        0   \n",
       "3      6        11.75            6         2     0           2        0   \n",
       "4      2         0.00            2         2     0           2        0   \n",
       "5      2         2.95            2         2     0           2        0   \n",
       "6      2        44.95            6         2     0           2        0   \n",
       "7      4         7.79            4         2     0           2        0   \n",
       "8      4         7.34            4         2     0           2        0   \n",
       "9      2         1.93            2         2     0           2        0   \n",
       "\n",
       "   History_score  Score  Risk  \n",
       "0              2    2.4     1  \n",
       "1              2    2.0     0  \n",
       "2              2    2.0     0  \n",
       "3              2    4.4     1  \n",
       "4              2    2.0     0  \n",
       "5              2    2.0     0  \n",
       "6              2    3.2     1  \n",
       "7              2    4.2     1  \n",
       "8              2    4.2     1  \n",
       "9              2    2.4     1  "
      ]
     },
     "execution_count": 1,
     "metadata": {},
     "output_type": "execute_result"
    }
   ],
   "source": [
    "# mengimpor dataset dan menampilkannya\n",
    "import pandas as pd\n",
    "import numpy as np\n",
    "\n",
    "audit = pd.read_csv(\"audit_dataset.csv\")\n",
    "audit.head(10)"
   ]
  },
  {
   "cell_type": "markdown",
   "metadata": {},
   "source": [
    "#### Dimension of Data"
   ]
  },
  {
   "cell_type": "code",
   "execution_count": 2,
   "metadata": {},
   "outputs": [
    {
     "data": {
      "text/plain": [
       "(776, 18)"
      ]
     },
     "execution_count": 2,
     "metadata": {},
     "output_type": "execute_result"
    }
   ],
   "source": [
    "# Menampilkan ukuran dataset dengan (banyaknya instance, banyaknya atribut)\n",
    "audit.shape"
   ]
  },
  {
   "cell_type": "markdown",
   "metadata": {},
   "source": [
    "#### Data Types"
   ]
  },
  {
   "cell_type": "code",
   "execution_count": 3,
   "metadata": {},
   "outputs": [
    {
     "data": {
      "text/plain": [
       "Sector_score     float64\n",
       "LOCATION_ID       object\n",
       "PARA_A           float64\n",
       "SCORE_A            int64\n",
       "PARA_B           float64\n",
       "SCORE_B            int64\n",
       "TOTAL            float64\n",
       "numbers          float64\n",
       "Marks              int64\n",
       "Money_Value      float64\n",
       "MONEY_Marks        int64\n",
       "District           int64\n",
       "Loss               int64\n",
       "LOSS_SCORE         int64\n",
       "History            int64\n",
       "History_score      int64\n",
       "Score            float64\n",
       "Risk               int64\n",
       "dtype: object"
      ]
     },
     "execution_count": 3,
     "metadata": {},
     "output_type": "execute_result"
    }
   ],
   "source": [
    "# Menampilkan tipe data pada tiap atribut\n",
    "audit.dtypes"
   ]
  },
  {
   "cell_type": "markdown",
   "metadata": {},
   "source": [
    "#### Class Distribution"
   ]
  },
  {
   "cell_type": "code",
   "execution_count": 4,
   "metadata": {
    "scrolled": true
   },
   "outputs": [
    {
     "data": {
      "text/plain": [
       "[Text(0, 0.5, 'Frequency'), Text(0.5, 0, 'Risk')]"
      ]
     },
     "execution_count": 4,
     "metadata": {},
     "output_type": "execute_result"
    }
   ],
   "source": [
    "# Menampilkan histogram atribut target\n",
    "import seaborn as sns\n",
    "sns.countplot(audit['Risk']).set(xlabel='Risk', ylabel='Frequency')"
   ]
  },
  {
   "cell_type": "markdown",
   "metadata": {},
   "source": [
    "#### Data Summary"
   ]
  },
  {
   "cell_type": "code",
   "execution_count": 5,
   "metadata": {},
   "outputs": [
    {
     "data": {
      "text/html": [
       "<div>\n",
       "<style scoped>\n",
       "    .dataframe tbody tr th:only-of-type {\n",
       "        vertical-align: middle;\n",
       "    }\n",
       "\n",
       "    .dataframe tbody tr th {\n",
       "        vertical-align: top;\n",
       "    }\n",
       "\n",
       "    .dataframe thead th {\n",
       "        text-align: right;\n",
       "    }\n",
       "</style>\n",
       "<table border=\"1\" class=\"dataframe\">\n",
       "  <thead>\n",
       "    <tr style=\"text-align: right;\">\n",
       "      <th></th>\n",
       "      <th>Sector_score</th>\n",
       "      <th>PARA_A</th>\n",
       "      <th>SCORE_A</th>\n",
       "      <th>PARA_B</th>\n",
       "      <th>SCORE_B</th>\n",
       "      <th>TOTAL</th>\n",
       "      <th>numbers</th>\n",
       "      <th>Marks</th>\n",
       "      <th>Money_Value</th>\n",
       "      <th>MONEY_Marks</th>\n",
       "      <th>District</th>\n",
       "      <th>Loss</th>\n",
       "      <th>LOSS_SCORE</th>\n",
       "      <th>History</th>\n",
       "      <th>History_score</th>\n",
       "      <th>Score</th>\n",
       "      <th>Risk</th>\n",
       "    </tr>\n",
       "  </thead>\n",
       "  <tbody>\n",
       "    <tr>\n",
       "      <th>count</th>\n",
       "      <td>776.000000</td>\n",
       "      <td>776.000000</td>\n",
       "      <td>776.000000</td>\n",
       "      <td>776.000000</td>\n",
       "      <td>776.000000</td>\n",
       "      <td>776.000000</td>\n",
       "      <td>776.000000</td>\n",
       "      <td>776.000000</td>\n",
       "      <td>775.000000</td>\n",
       "      <td>776.000000</td>\n",
       "      <td>776.000000</td>\n",
       "      <td>776.000000</td>\n",
       "      <td>776.000000</td>\n",
       "      <td>776.000000</td>\n",
       "      <td>776.000000</td>\n",
       "      <td>776.000000</td>\n",
       "      <td>776.000000</td>\n",
       "    </tr>\n",
       "    <tr>\n",
       "      <th>mean</th>\n",
       "      <td>20.184536</td>\n",
       "      <td>2.450194</td>\n",
       "      <td>3.512887</td>\n",
       "      <td>10.799988</td>\n",
       "      <td>3.131443</td>\n",
       "      <td>13.218481</td>\n",
       "      <td>5.067655</td>\n",
       "      <td>2.237113</td>\n",
       "      <td>14.137631</td>\n",
       "      <td>2.909794</td>\n",
       "      <td>2.505155</td>\n",
       "      <td>0.029639</td>\n",
       "      <td>2.061856</td>\n",
       "      <td>0.104381</td>\n",
       "      <td>2.167526</td>\n",
       "      <td>2.702577</td>\n",
       "      <td>0.626289</td>\n",
       "    </tr>\n",
       "    <tr>\n",
       "      <th>std</th>\n",
       "      <td>24.319017</td>\n",
       "      <td>5.678870</td>\n",
       "      <td>1.740549</td>\n",
       "      <td>50.083624</td>\n",
       "      <td>1.698042</td>\n",
       "      <td>51.312829</td>\n",
       "      <td>0.264449</td>\n",
       "      <td>0.803517</td>\n",
       "      <td>66.606519</td>\n",
       "      <td>1.597452</td>\n",
       "      <td>1.228678</td>\n",
       "      <td>0.184280</td>\n",
       "      <td>0.375080</td>\n",
       "      <td>0.531031</td>\n",
       "      <td>0.679869</td>\n",
       "      <td>0.858923</td>\n",
       "      <td>0.484100</td>\n",
       "    </tr>\n",
       "    <tr>\n",
       "      <th>min</th>\n",
       "      <td>1.850000</td>\n",
       "      <td>0.000000</td>\n",
       "      <td>2.000000</td>\n",
       "      <td>0.000000</td>\n",
       "      <td>2.000000</td>\n",
       "      <td>0.000000</td>\n",
       "      <td>5.000000</td>\n",
       "      <td>2.000000</td>\n",
       "      <td>0.000000</td>\n",
       "      <td>2.000000</td>\n",
       "      <td>2.000000</td>\n",
       "      <td>0.000000</td>\n",
       "      <td>2.000000</td>\n",
       "      <td>0.000000</td>\n",
       "      <td>2.000000</td>\n",
       "      <td>2.000000</td>\n",
       "      <td>0.000000</td>\n",
       "    </tr>\n",
       "    <tr>\n",
       "      <th>25%</th>\n",
       "      <td>2.370000</td>\n",
       "      <td>0.210000</td>\n",
       "      <td>2.000000</td>\n",
       "      <td>0.000000</td>\n",
       "      <td>2.000000</td>\n",
       "      <td>0.537500</td>\n",
       "      <td>5.000000</td>\n",
       "      <td>2.000000</td>\n",
       "      <td>0.000000</td>\n",
       "      <td>2.000000</td>\n",
       "      <td>2.000000</td>\n",
       "      <td>0.000000</td>\n",
       "      <td>2.000000</td>\n",
       "      <td>0.000000</td>\n",
       "      <td>2.000000</td>\n",
       "      <td>2.000000</td>\n",
       "      <td>0.000000</td>\n",
       "    </tr>\n",
       "    <tr>\n",
       "      <th>50%</th>\n",
       "      <td>3.890000</td>\n",
       "      <td>0.875000</td>\n",
       "      <td>2.000000</td>\n",
       "      <td>0.405000</td>\n",
       "      <td>2.000000</td>\n",
       "      <td>1.370000</td>\n",
       "      <td>5.000000</td>\n",
       "      <td>2.000000</td>\n",
       "      <td>0.090000</td>\n",
       "      <td>2.000000</td>\n",
       "      <td>2.000000</td>\n",
       "      <td>0.000000</td>\n",
       "      <td>2.000000</td>\n",
       "      <td>0.000000</td>\n",
       "      <td>2.000000</td>\n",
       "      <td>2.400000</td>\n",
       "      <td>1.000000</td>\n",
       "    </tr>\n",
       "    <tr>\n",
       "      <th>75%</th>\n",
       "      <td>55.570000</td>\n",
       "      <td>2.480000</td>\n",
       "      <td>6.000000</td>\n",
       "      <td>4.160000</td>\n",
       "      <td>4.000000</td>\n",
       "      <td>7.707500</td>\n",
       "      <td>5.000000</td>\n",
       "      <td>2.000000</td>\n",
       "      <td>5.595000</td>\n",
       "      <td>4.000000</td>\n",
       "      <td>2.000000</td>\n",
       "      <td>0.000000</td>\n",
       "      <td>2.000000</td>\n",
       "      <td>0.000000</td>\n",
       "      <td>2.000000</td>\n",
       "      <td>3.250000</td>\n",
       "      <td>1.000000</td>\n",
       "    </tr>\n",
       "    <tr>\n",
       "      <th>max</th>\n",
       "      <td>59.850000</td>\n",
       "      <td>85.000000</td>\n",
       "      <td>6.000000</td>\n",
       "      <td>1264.630000</td>\n",
       "      <td>6.000000</td>\n",
       "      <td>1268.910000</td>\n",
       "      <td>9.000000</td>\n",
       "      <td>6.000000</td>\n",
       "      <td>935.030000</td>\n",
       "      <td>6.000000</td>\n",
       "      <td>6.000000</td>\n",
       "      <td>2.000000</td>\n",
       "      <td>6.000000</td>\n",
       "      <td>9.000000</td>\n",
       "      <td>6.000000</td>\n",
       "      <td>5.200000</td>\n",
       "      <td>1.000000</td>\n",
       "    </tr>\n",
       "  </tbody>\n",
       "</table>\n",
       "</div>"
      ],
      "text/plain": [
       "       Sector_score      PARA_A     SCORE_A       PARA_B     SCORE_B  \\\n",
       "count    776.000000  776.000000  776.000000   776.000000  776.000000   \n",
       "mean      20.184536    2.450194    3.512887    10.799988    3.131443   \n",
       "std       24.319017    5.678870    1.740549    50.083624    1.698042   \n",
       "min        1.850000    0.000000    2.000000     0.000000    2.000000   \n",
       "25%        2.370000    0.210000    2.000000     0.000000    2.000000   \n",
       "50%        3.890000    0.875000    2.000000     0.405000    2.000000   \n",
       "75%       55.570000    2.480000    6.000000     4.160000    4.000000   \n",
       "max       59.850000   85.000000    6.000000  1264.630000    6.000000   \n",
       "\n",
       "             TOTAL     numbers       Marks  Money_Value  MONEY_Marks  \\\n",
       "count   776.000000  776.000000  776.000000   775.000000   776.000000   \n",
       "mean     13.218481    5.067655    2.237113    14.137631     2.909794   \n",
       "std      51.312829    0.264449    0.803517    66.606519     1.597452   \n",
       "min       0.000000    5.000000    2.000000     0.000000     2.000000   \n",
       "25%       0.537500    5.000000    2.000000     0.000000     2.000000   \n",
       "50%       1.370000    5.000000    2.000000     0.090000     2.000000   \n",
       "75%       7.707500    5.000000    2.000000     5.595000     4.000000   \n",
       "max    1268.910000    9.000000    6.000000   935.030000     6.000000   \n",
       "\n",
       "         District        Loss  LOSS_SCORE     History  History_score  \\\n",
       "count  776.000000  776.000000  776.000000  776.000000     776.000000   \n",
       "mean     2.505155    0.029639    2.061856    0.104381       2.167526   \n",
       "std      1.228678    0.184280    0.375080    0.531031       0.679869   \n",
       "min      2.000000    0.000000    2.000000    0.000000       2.000000   \n",
       "25%      2.000000    0.000000    2.000000    0.000000       2.000000   \n",
       "50%      2.000000    0.000000    2.000000    0.000000       2.000000   \n",
       "75%      2.000000    0.000000    2.000000    0.000000       2.000000   \n",
       "max      6.000000    2.000000    6.000000    9.000000       6.000000   \n",
       "\n",
       "            Score        Risk  \n",
       "count  776.000000  776.000000  \n",
       "mean     2.702577    0.626289  \n",
       "std      0.858923    0.484100  \n",
       "min      2.000000    0.000000  \n",
       "25%      2.000000    0.000000  \n",
       "50%      2.400000    1.000000  \n",
       "75%      3.250000    1.000000  \n",
       "max      5.200000    1.000000  "
      ]
     },
     "execution_count": 5,
     "metadata": {},
     "output_type": "execute_result"
    }
   ],
   "source": [
    "# Menampilkan statistika deskriptif pada data\n",
    "audit.describe()"
   ]
  },
  {
   "cell_type": "markdown",
   "metadata": {},
   "source": [
    "#### Correlation"
   ]
  },
  {
   "cell_type": "code",
   "execution_count": 6,
   "metadata": {},
   "outputs": [
    {
     "data": {
      "text/plain": [
       "<matplotlib.axes._subplots.AxesSubplot at 0x186064c12e8>"
      ]
     },
     "execution_count": 6,
     "metadata": {},
     "output_type": "execute_result"
    },
    {
     "data": {
      "image/png": "[encoded data removed]",
      "text/plain": [
       "<Figure size 720x720 with 2 Axes>"
      ]
     },
     "metadata": {
      "needs_background": "light"
     },
     "output_type": "display_data"
    }
   ],
   "source": [
    "# Meanmpilkan nilai korelasi antar atribut menggunakan heatmap\n",
    "import matplotlib as mpl\n",
    "import matplotlib.pyplot as plt\n",
    "\n",
    "corr = audit.corr()\n",
    "f, axes = plt.subplots(1, 1, figsize=(10,10))\n",
    "sns.heatmap(corr, annot=True, fmt='.2f')"
   ]
  },
  {
   "cell_type": "markdown",
   "metadata": {},
   "source": [
    "#### Skewness"
   ]
  },
  {
   "cell_type": "code",
   "execution_count": 7,
   "metadata": {},
   "outputs": [
    {
     "name": "stdout",
     "output_type": "stream",
     "text": [
      "Sector_score      0.769987\n",
      "PARA_A            8.505663\n",
      "SCORE_A           0.492813\n",
      "PARA_B           20.538288\n",
      "SCORE_B           0.960477\n",
      "TOTAL            19.261745\n",
      "numbers           6.742206\n",
      "Marks             3.555230\n",
      "Money_Value      10.529463\n",
      "MONEY_Marks       1.297880\n",
      "District          2.231033\n",
      "Loss              6.747303\n",
      "LOSS_SCORE        6.560046\n",
      "History           9.275458\n",
      "History_score     4.348489\n",
      "Score             1.055717\n",
      "Risk             -0.523094\n",
      "dtype: float64\n"
     ]
    }
   ],
   "source": [
    "# Menampilkan nilai kemiringan data\n",
    "skew = audit.skew()\n",
    "print(skew)"
   ]
  },
  {
   "cell_type": "markdown",
   "metadata": {},
   "source": [
    "# Data Preprocessing"
   ]
  },
  {
   "cell_type": "markdown",
   "metadata": {},
   "source": [
    "#### Incorrectness of Data Type Assignment\n",
    "\n",
    "Berdasarkan pengecekan tipe data (di atas), terdapat data bertipe object pada attribute 'LOCATION_ID'. Seharusnya attribute tersebut bertipe int64."
   ]
  },
  {
   "cell_type": "markdown",
   "metadata": {},
   "source": [
    "#### Inconsistent Value\n",
    "\n",
    "Berdasarkan pengecekan tipe data (di atas), terdapat data bertipe object. Dicurigai terdapat ketidakkonsistenan dalam penulisan data. Sehingga perlu dicek nilai setiap instance pada attribute bertipe object, yaitu 'LOCATION_ID'."
   ]
  },
  {
   "cell_type": "code",
   "execution_count": 8,
   "metadata": {},
   "outputs": [
    {
     "data": {
      "text/plain": [
       "8          76\n",
       "19         68\n",
       "9          53\n",
       "16         52\n",
       "12         47\n",
       "5          44\n",
       "2          41\n",
       "4          37\n",
       "13         35\n",
       "15         35\n",
       "6          33\n",
       "32         29\n",
       "11         26\n",
       "22         24\n",
       "29         21\n",
       "14         20\n",
       "18         16\n",
       "31         12\n",
       "1          11\n",
       "37         10\n",
       "39          9\n",
       "27          8\n",
       "21          8\n",
       "28          8\n",
       "43          7\n",
       "25          6\n",
       "20          5\n",
       "36          4\n",
       "7           4\n",
       "38          4\n",
       "30          4\n",
       "3           3\n",
       "40          3\n",
       "35          2\n",
       "17          1\n",
       "23          1\n",
       "33          1\n",
       "SAFIDON     1\n",
       "LOHARU      1\n",
       "34          1\n",
       "42          1\n",
       "24          1\n",
       "44          1\n",
       "NUH         1\n",
       "41          1\n",
       "Name: LOCATION_ID, dtype: int64"
      ]
     },
     "execution_count": 8,
     "metadata": {},
     "output_type": "execute_result"
    }
   ],
   "source": [
    "# Menampilkan label unik pada atribut 'LOCATION_ID' beserta frekuensinya\n",
    "audit[\"LOCATION_ID\"].value_counts()"
   ]
  },
  {
   "cell_type": "markdown",
   "metadata": {},
   "source": [
    "_Berdasarkan output di atas, terdapat tiga ketidakkonsistenan penulisan pada attribute tersebut, yaitu LOHARU, NUH dan SAFIDON. Sehingga, baris yang bersesuaian dengan ketiga nilai tersebut perlu dibuang._"
   ]
  },
  {
   "cell_type": "code",
   "execution_count": 9,
   "metadata": {},
   "outputs": [
    {
     "name": "stdout",
     "output_type": "stream",
     "text": [
      "\n",
      "Row- LOHARU 351\n",
      "\n",
      "Row- NUH 355\n",
      "\n",
      "Row- SAFIDON 367\n"
     ]
    }
   ],
   "source": [
    "# Membuang baris yang mengandung ketidakkonsistenan penulisan data\n",
    "for i in range(len(audit['LOCATION_ID'])):\n",
    "    if ((audit['LOCATION_ID'][i]=='NUH')|(audit['LOCATION_ID'][i]=='LOHARU')|(audit['LOCATION_ID'][i]=='SAFIDON')):\n",
    "   \n",
    "        print('\\nRow-',audit['LOCATION_ID'][i], i)\n",
    "        audit = audit.drop(i)\n",
    "\n",
    "# Mengganti tipe attribute 'LOCATION_ID' menjadi float\n",
    "audit['LOCATION_ID'] = audit['LOCATION_ID'].astype('float64')"
   ]
  },
  {
   "cell_type": "markdown",
   "metadata": {},
   "source": [
    "#### Missing Value"
   ]
  },
  {
   "cell_type": "code",
   "execution_count": 10,
   "metadata": {
    "scrolled": true
   },
   "outputs": [
    {
     "data": {
      "text/plain": [
       "Sector_score     False\n",
       "LOCATION_ID      False\n",
       "PARA_A           False\n",
       "SCORE_A          False\n",
       "PARA_B           False\n",
       "SCORE_B          False\n",
       "TOTAL            False\n",
       "numbers          False\n",
       "Marks            False\n",
       "Money_Value       True\n",
       "MONEY_Marks      False\n",
       "District         False\n",
       "Loss             False\n",
       "LOSS_SCORE       False\n",
       "History          False\n",
       "History_score    False\n",
       "Score            False\n",
       "Risk             False\n",
       "dtype: bool"
      ]
     },
     "execution_count": 10,
     "metadata": {},
     "output_type": "execute_result"
    }
   ],
   "source": [
    "# Mengidentifikasi adanya missing value untuk semua atribut\n",
    "audit.isnull().any()"
   ]
  },
  {
   "cell_type": "code",
   "execution_count": 11,
   "metadata": {},
   "outputs": [
    {
     "data": {
      "text/plain": [
       "False    772\n",
       "True       1\n",
       "Name: Money_Value, dtype: int64"
      ]
     },
     "execution_count": 11,
     "metadata": {},
     "output_type": "execute_result"
    }
   ],
   "source": [
    "# Melihat banyaknya missing value yang ada pada atribut 'Money_Value'\n",
    "audit['Money_Value'].isnull().value_counts()"
   ]
  },
  {
   "cell_type": "markdown",
   "metadata": {},
   "source": [
    "_Pada attribute 'Money-Value', terdapat satu missing value. Sehingga baris yang bersesuaian akan dibuang._"
   ]
  },
  {
   "cell_type": "code",
   "execution_count": 12,
   "metadata": {},
   "outputs": [
    {
     "data": {
      "text/plain": [
       "(772, 18)"
      ]
     },
     "execution_count": 12,
     "metadata": {},
     "output_type": "execute_result"
    }
   ],
   "source": [
    "# Membuang missing value\n",
    "audit = audit.dropna()\n",
    "audit.shape"
   ]
  },
  {
   "cell_type": "markdown",
   "metadata": {},
   "source": [
    "#### Outliers\n",
    "\n",
    "Akan diidentifikasi apakah terdapat outliers dengan menggunakan boxplot. Menurut 'data understanding' penulis, ditetapkan 4 atribut bertipe numerik, yaitu PARA_A, PARA_B, TOTAL, Money_Value. Sehingga outliers yang diperhatikan hanyalah pada 4 atribut tersebut."
   ]
  },
  {
   "cell_type": "code",
   "execution_count": 13,
   "metadata": {},
   "outputs": [
    {
     "data": {
      "image/png": "[encoded data removed]",
      "text/plain": [
       "<Figure size 1296x360 with 4 Axes>"
      ]
     },
     "metadata": {
      "needs_background": "light"
     },
     "output_type": "display_data"
    }
   ],
   "source": [
    "# Menampilkan boxplot untuk 4 atribut\n",
    "f, axes = plt.subplots(1,4, figsize=(18, 5), sharex=True)\n",
    "f.subplots_adjust(hspace = 0.5, wspace = 0.4)\n",
    "\n",
    "sns.boxplot(y=audit['PARA_A'], ax=axes[0]).set_title('PARA_A')\n",
    "sns.boxplot(y=audit['PARA_B'], ax=axes[1]).set_title('PARA_B')\n",
    "sns.boxplot(y=audit['TOTAL'], ax=axes[2]).set_title('TOTAL')\n",
    "sns.boxplot(y=audit['Money_Value'], ax=axes[3]).set_title('Money_Value')\n",
    "\n",
    "f.savefig('outliers.png', dpi = 400)"
   ]
  },
  {
   "cell_type": "code",
   "execution_count": 14,
   "metadata": {},
   "outputs": [],
   "source": [
    "def detect_outlier(data_1):\n",
    "    \n",
    "    Q1 = data_1.quantile(0.25)\n",
    "    Q3 = data_1.quantile(0.75)\n",
    "    IQR = Q3 - Q1\n",
    "    \n",
    "    min = data_1.min()\n",
    "    max = data_1.max()\n",
    "    min_IQR = Q1-1.5*IQR\n",
    "    max_IQR = Q3+1.5*IQR\n",
    "    \n",
    "    outliers=[]\n",
    "    for y in data_1:\n",
    "        if (y<min_IQR) or (y>max_IQR):\n",
    "            outliers.append(y)\n",
    "    \n",
    "    return outliers"
   ]
  },
  {
   "cell_type": "code",
   "execution_count": 15,
   "metadata": {},
   "outputs": [
    {
     "name": "stdout",
     "output_type": "stream",
     "text": [
      "82\n",
      "138\n",
      "130\n",
      "117\n"
     ]
    }
   ],
   "source": [
    "outliers_paraa = detect_outlier(audit['PARA_A'])\n",
    "outliers_parab = detect_outlier(audit['PARA_B'])\n",
    "outliers_total = detect_outlier(audit['TOTAL'])\n",
    "outliers_moneyvalue = detect_outlier(audit['Money_Value'])\n",
    "print(len(outliers_paraa))\n",
    "print(len(outliers_parab))\n",
    "print(len(outliers_total))\n",
    "print(len(outliers_moneyvalue))"
   ]
  },
  {
   "cell_type": "markdown",
   "metadata": {},
   "source": [
    "#### Imbalanced Dataset"
   ]
  },
  {
   "cell_type": "code",
   "execution_count": 16,
   "metadata": {},
   "outputs": [
    {
     "data": {
      "text/plain": [
       "1    486\n",
       "0    286\n",
       "Name: Risk, dtype: int64"
      ]
     },
     "execution_count": 16,
     "metadata": {},
     "output_type": "execute_result"
    }
   ],
   "source": [
    "# Menampilkan label unik pada atribut 'Risk' beserta frekuensinya\n",
    "audit['Risk'].value_counts()"
   ]
  },
  {
   "cell_type": "markdown",
   "metadata": {},
   "source": [
    "_Berdasarkan output di atas, dataset tersebut merupakan imbalanced dataset_\n",
    "Persentase kelas minor adalah 37.04%, berdasarkan referensi, tingkatan kesenjangan data termasuk biasa. Sehingga pertimbangan untuk melakukan resampling data."
   ]
  },
  {
   "cell_type": "markdown",
   "metadata": {},
   "source": [
    "# Modelling"
   ]
  },
  {
   "cell_type": "code",
   "execution_count": 17,
   "metadata": {},
   "outputs": [
    {
     "name": "stderr",
     "output_type": "stream",
     "text": [
      "Using TensorFlow backend.\n"
     ]
    },
    {
     "name": "stdout",
     "output_type": "stream",
     "text": [
      "[Stat] Importing necessary packages...\n"
     ]
    }
   ],
   "source": [
    "# Import important packages\n",
    "import pandas as pd\n",
    "import numpy as np\n",
    "import pandas as pd\n",
    "import numpy as np\n",
    "import matplotlib.pyplot as plt\n",
    "\n",
    "from sklearn.model_selection import KFold\n",
    "from sklearn.model_selection import train_test_split\n",
    "from sklearn.preprocessing import StandardScaler\n",
    "from sklearn.metrics import accuracy_score, f1_score, precision_score, recall_score, confusion_matrix\n",
    "\n",
    "\n",
    "from sklearn.neighbors import KNeighborsClassifier\n",
    "from sklearn.naive_bayes import GaussianNB\n",
    "from sklearn.linear_model import LogisticRegression\n",
    "from sklearn.svm import SVC\n",
    "from sklearn.tree import DecisionTreeClassifier\n",
    "from sklearn.ensemble import RandomForestClassifier\n",
    "from sklearn.neural_network import MLPClassifier\n",
    "from sklearn.linear_model import Perceptron\n",
    "\n",
    "from sklearn.metrics import confusion_matrix\n",
    "from collections import Counter\n",
    "from imblearn.over_sampling import SMOTE\n",
    "from imblearn.under_sampling import ClusterCentroids\n",
    "\n",
    "print(\"[Stat] Importing necessary packages...\")"
   ]
  },
  {
   "cell_type": "code",
   "execution_count": 18,
   "metadata": {},
   "outputs": [],
   "source": [
    "class color:\n",
    "   PURPLE = '\\033[95m'\n",
    "   CYAN = '\\033[96m'\n",
    "   DARKCYAN = '\\033[36m'\n",
    "   BLUE = '\\033[94m'\n",
    "   GREEN = '\\033[92m'\n",
    "   YELLOW = '\\033[93m'\n",
    "   RED = '\\033[91m'\n",
    "   BOLD = '\\033[1m'\n",
    "   UNDERLINE = '\\033[4m'\n",
    "   END = '\\033[0m'"
   ]
  },
  {
   "cell_type": "markdown",
   "metadata": {},
   "source": [
    "## Tanpa _Data Resampling_"
   ]
  },
  {
   "cell_type": "code",
   "execution_count": 19,
   "metadata": {},
   "outputs": [],
   "source": [
    "# Pendefinisian Model Classifier dengan input :\n",
    "# xdev = training data untuk attribute selain target attribute\n",
    "# xunseen = validation data untuk attribute selain target attribute\n",
    "# ydev = training data untuk target attribute\n",
    "# yunseen = validation data untuk target attribute\n",
    "# n = nilai k untuk K-Flod Cross Validation\n",
    "# models = model classifier yang digunakan\n",
    "# list_model = Daftar nama model classifier yang digunakan\n",
    "\n",
    "def class_model (xdev, xunseen, ydev, yunseen, n, models, list_model):\n",
    "\n",
    "    # train model terhadap dev data\n",
    "    for i in range (len(list_model)):\n",
    "        kf = KFold(n_splits=n)     \n",
    "        ntrain, psc, rsc, fsc, acc = [], [], [], [], []\n",
    "        \n",
    "        print (color.BOLD + color.PURPLE + \"Hasil training model -\", list_model[i] + color.END)\n",
    "        j = 0\n",
    "        for train_index, test_index in kf.split(xdev):\n",
    "            X_train, X_test = xdev[train_index], xdev[test_index]\n",
    "            Y_train, Y_test = ydev[train_index], ydev[test_index] \n",
    "            model = models[list_model[i]]\n",
    "            model.fit(X_train, Y_train)\n",
    "            y_pred = model.predict(X_test)\n",
    "            \n",
    "            j = j+1\n",
    "            ntrain.append(j)\n",
    "            psc.append(precision_score(Y_test, y_pred))\n",
    "            rsc.append(recall_score(Y_test, y_pred))\n",
    "            fsc.append(f1_score(Y_test, y_pred))\n",
    "            acc.append(model.score(X_test, Y_test))\n",
    "            \n",
    "        # Tabulasi hasil per model\n",
    "        from prettytable import PrettyTable\n",
    "        table = PrettyTable(['Train ke -', 'Precision', 'Recall', 'F1-Score', 'Accuracy'])\n",
    "        for r in range (n):\n",
    "            table.add_row([ntrain[r], psc[r], rsc[r], fsc[r], acc[r]])\n",
    "        \n",
    " \n",
    "        print(table)\n",
    "        print('Rata-rata Precision', list_model[i], \"=\", np.mean(psc))\n",
    "        print('Rata-rata Recall', list_model[i], \"=\", np.mean(rsc))\n",
    "        print('Rata-rata F1-Score', list_model[i], \"=\", np.mean(fsc))\n",
    "        print('Rata-rata Akurasi', list_model[i], \"=\", np.mean(acc))\n",
    "        \n",
    "        # Akurasi data validasi\n",
    "        yay = model.predict(xunseen)\n",
    "        print('akurasi validasi', list_model[i], '=', accuracy_score(yunseen, yay))\n",
    "        print('selisih akurasi', list_model[i], '=', (np.mean(acc) - accuracy_score(yunseen,yay)))\n",
    "        print(\"\\n\\n\")\n",
    "        \n",
    "        #Build confusion matrix for validation data \n",
    "        f, axes = plt.subplots(1, 1, figsize=(2,2))\n",
    "        sns.heatmap(confusion_matrix(yunseen, yay), annot=True, \n",
    "                    fmt='.2f').set(title = list_model[i])\n",
    "  "
   ]
  },
  {
   "cell_type": "code",
   "execution_count": 20,
   "metadata": {},
   "outputs": [
    {
     "name": "stdout",
     "output_type": "stream",
     "text": [
      "[Stat] Defining models...\n"
     ]
    }
   ],
   "source": [
    "# array yg berisi sekumpulan model untuk undiscretization data\n",
    "print(\"[Stat] Defining models...\")\n",
    "models = {\n",
    "    \"knn\" : KNeighborsClassifier(),\n",
    "    \"logit\": LogisticRegression(),\n",
    "    \"svm\": SVC(),\n",
    "    \"rf\": RandomForestClassifier(),\n",
    "    \"slp\" : Perceptron(),\n",
    "    \"mlp\" : MLPClassifier()\n",
    "}\n",
    "modelname = [\"knn\", \"logit\", \"svm\", \"rf\", \"slp\", \"mlp\"]"
   ]
  },
  {
   "cell_type": "code",
   "execution_count": 21,
   "metadata": {},
   "outputs": [],
   "source": [
    "# Ignoring Warnings\n",
    "import sys\n",
    "import warnings\n",
    "\n",
    "if not sys.warnoptions:\n",
    "    warnings.simplefilter(\"ignore\")"
   ]
  },
  {
   "cell_type": "code",
   "execution_count": 22,
   "metadata": {
    "scrolled": true
   },
   "outputs": [
    {
     "name": "stdout",
     "output_type": "stream",
     "text": [
      "\u001b[1m\u001b[95mHasil training model - knn\u001b[0m\n",
      "+------------+--------------------+--------------------+--------------------+--------------------+\n",
      "| Train ke - |     Precision      |       Recall       |      F1-Score      |      Accuracy      |\n",
      "+------------+--------------------+--------------------+--------------------+--------------------+\n",
      "|     1      |        1.0         | 0.7692307692307693 | 0.8695652173913044 | 0.8714285714285714 |\n",
      "|     2      |       0.975        |       0.8125       | 0.8863636363636362 | 0.8571428571428571 |\n",
      "|     3      | 0.9714285714285714 | 0.8292682926829268 | 0.8947368421052632 | 0.8857142857142857 |\n",
      "|     4      |        1.0         |        0.9         | 0.9473684210526316 | 0.9428571428571428 |\n",
      "|     5      | 0.9791666666666666 | 0.9215686274509803 | 0.9494949494949494 | 0.927536231884058  |\n",
      "|     6      |        1.0         | 0.9148936170212766 | 0.9555555555555556 | 0.9420289855072463 |\n",
      "|     7      |        1.0         | 0.9791666666666666 | 0.9894736842105264 | 0.9855072463768116 |\n",
      "|     8      |        1.0         | 0.8333333333333334 | 0.9090909090909091 | 0.8985507246376812 |\n",
      "|     9      | 0.9523809523809523 | 0.9090909090909091 | 0.9302325581395349 | 0.9130434782608695 |\n",
      "|     10     | 0.9722222222222222 | 0.9210526315789473 | 0.9459459459459458 | 0.9420289855072463 |\n",
      "+------------+--------------------+--------------------+--------------------+--------------------+\n",
      "Rata-rata Precision knn = 0.9850198412698411\n",
      "Rata-rata Recall knn = 0.879010484705581\n",
      "Rata-rata F1-Score knn = 0.9277827719350256\n",
      "Rata-rata Akurasi knn = 0.9165838509316769\n",
      "akurasi validasi knn = 0.9358974358974359\n",
      "selisih akurasi knn = -0.019313584965758968\n",
      "\n",
      "\n",
      "\n",
      "\u001b[1m\u001b[95mHasil training model - logit\u001b[0m\n",
      "+------------+-------------------+--------------------+--------------------+--------------------+\n",
      "| Train ke - |     Precision     |       Recall       |      F1-Score      |      Accuracy      |\n",
      "+------------+-------------------+--------------------+--------------------+--------------------+\n",
      "|     1      |        1.0        |        1.0         |        1.0         |        1.0         |\n",
      "|     2      |        1.0        |        1.0         |        1.0         |        1.0         |\n",
      "|     3      | 0.975609756097561 | 0.975609756097561  | 0.975609756097561  | 0.9714285714285714 |\n",
      "|     4      |        1.0        |       0.975        | 0.9873417721518987 | 0.9857142857142858 |\n",
      "|     5      |        1.0        |        1.0         |        1.0         |        1.0         |\n",
      "|     6      |        1.0        |        1.0         |        1.0         |        1.0         |\n",
      "|     7      |        1.0        |        1.0         |        1.0         |        1.0         |\n",
      "|     8      |        1.0        | 0.9761904761904762 | 0.9879518072289156 | 0.9855072463768116 |\n",
      "|     9      |        1.0        | 0.9772727272727273 | 0.9885057471264368 | 0.9855072463768116 |\n",
      "|     10     |        1.0        |        1.0         |        1.0         |        1.0         |\n",
      "+------------+-------------------+--------------------+--------------------+--------------------+\n",
      "Rata-rata Precision logit = 0.9975609756097562\n",
      "Rata-rata Recall logit = 0.9904072959560765\n",
      "Rata-rata F1-Score logit = 0.9939409082604811\n",
      "Rata-rata Akurasi logit = 0.992815734989648\n",
      "akurasi validasi logit = 0.9871794871794872\n",
      "selisih akurasi logit = 0.0056362478101608104\n",
      "\n",
      "\n",
      "\n",
      "\u001b[1m\u001b[95mHasil training model - svm\u001b[0m\n",
      "+------------+--------------------+--------------------+--------------------+--------------------+\n",
      "| Train ke - |     Precision      |       Recall       |      F1-Score      |      Accuracy      |\n",
      "+------------+--------------------+--------------------+--------------------+--------------------+\n",
      "|     1      |        1.0         |        1.0         |        1.0         |        1.0         |\n",
      "|     2      | 0.9591836734693877 | 0.9791666666666666 | 0.9690721649484536 | 0.9571428571428572 |\n",
      "|     3      |       0.975        | 0.9512195121951219 | 0.9629629629629629 | 0.9571428571428572 |\n",
      "|     4      |       0.975        |       0.975        |       0.975        | 0.9714285714285714 |\n",
      "|     5      | 0.9803921568627451 | 0.9803921568627451 | 0.9803921568627451 | 0.9710144927536232 |\n",
      "|     6      | 0.9787234042553191 | 0.9787234042553191 | 0.9787234042553191 | 0.9710144927536232 |\n",
      "|     7      | 0.9795918367346939 |        1.0         | 0.9896907216494846 | 0.9855072463768116 |\n",
      "|     8      |        1.0         | 0.9761904761904762 | 0.9879518072289156 | 0.9855072463768116 |\n",
      "|     9      | 0.9347826086956522 | 0.9772727272727273 | 0.9555555555555557 | 0.9420289855072463 |\n",
      "|     10     | 0.9743589743589743 |        1.0         | 0.9870129870129869 | 0.9855072463768116 |\n",
      "+------------+--------------------+--------------------+--------------------+--------------------+\n",
      "Rata-rata Precision svm = 0.9757032654376772\n",
      "Rata-rata Recall svm = 0.9817964943443055\n",
      "Rata-rata F1-Score svm = 0.9786361760476423\n",
      "Rata-rata Akurasi svm = 0.9726293995859214\n",
      "akurasi validasi svm = 0.9487179487179487\n",
      "selisih akurasi svm = 0.02391145086797275\n",
      "\n",
      "\n",
      "\n",
      "\u001b[1m\u001b[95mHasil training model - rf\u001b[0m\n",
      "+------------+-----------+--------+----------+----------+\n",
      "| Train ke - | Precision | Recall | F1-Score | Accuracy |\n",
      "+------------+-----------+--------+----------+----------+\n",
      "|     1      |    1.0    |  1.0   |   1.0    |   1.0    |\n",
      "|     2      |    1.0    |  1.0   |   1.0    |   1.0    |\n",
      "|     3      |    1.0    |  1.0   |   1.0    |   1.0    |\n",
      "|     4      |    1.0    |  1.0   |   1.0    |   1.0    |\n",
      "|     5      |    1.0    |  1.0   |   1.0    |   1.0    |\n",
      "|     6      |    1.0    |  1.0   |   1.0    |   1.0    |\n",
      "|     7      |    1.0    |  1.0   |   1.0    |   1.0    |\n",
      "|     8      |    1.0    |  1.0   |   1.0    |   1.0    |\n",
      "|     9      |    1.0    |  1.0   |   1.0    |   1.0    |\n",
      "|     10     |    1.0    |  1.0   |   1.0    |   1.0    |\n",
      "+------------+-----------+--------+----------+----------+\n",
      "Rata-rata Precision rf = 1.0\n",
      "Rata-rata Recall rf = 1.0\n",
      "Rata-rata F1-Score rf = 1.0\n",
      "Rata-rata Akurasi rf = 1.0\n",
      "akurasi validasi rf = 1.0\n",
      "selisih akurasi rf = 0.0\n",
      "\n",
      "\n",
      "\n",
      "\u001b[1m\u001b[95mHasil training model - slp\u001b[0m\n",
      "+------------+--------------------+--------------------+--------------------+--------------------+\n",
      "| Train ke - |     Precision      |       Recall       |      F1-Score      |      Accuracy      |\n",
      "+------------+--------------------+--------------------+--------------------+--------------------+\n",
      "|     1      |       0.975        |        1.0         | 0.9873417721518987 | 0.9857142857142858 |\n",
      "|     2      |        1.0         | 0.7916666666666666 | 0.8837209302325582 | 0.8571428571428571 |\n",
      "|     3      |      0.640625      |        1.0         | 0.780952380952381  | 0.6714285714285714 |\n",
      "|     4      | 0.9444444444444444 |        0.85        | 0.8947368421052632 | 0.8857142857142857 |\n",
      "|     5      | 0.9622641509433962 |        1.0         | 0.9807692307692307 | 0.9710144927536232 |\n",
      "|     6      | 0.9591836734693877 |        1.0         | 0.9791666666666666 | 0.9710144927536232 |\n",
      "|     7      |        0.96        |        1.0         | 0.9795918367346939 | 0.9710144927536232 |\n",
      "|     8      |        1.0         | 0.8809523809523809 | 0.9367088607594937 | 0.927536231884058  |\n",
      "|     9      |        1.0         | 0.8636363636363636 | 0.9268292682926829 | 0.9130434782608695 |\n",
      "|     10     |        1.0         | 0.868421052631579  | 0.9295774647887324 | 0.927536231884058  |\n",
      "+------------+--------------------+--------------------+--------------------+--------------------+\n",
      "Rata-rata Precision slp = 0.9441517268857229\n",
      "Rata-rata Recall slp = 0.9254676463886989\n",
      "Rata-rata F1-Score slp = 0.9279395253453601\n",
      "Rata-rata Akurasi slp = 0.9081159420289856\n",
      "akurasi validasi slp = 0.8846153846153846\n",
      "selisih akurasi slp = 0.02350055741360102\n",
      "\n",
      "\n",
      "\n",
      "\u001b[1m\u001b[95mHasil training model - mlp\u001b[0m\n",
      "+------------+--------------------+--------------------+--------------------+--------------------+\n",
      "| Train ke - |     Precision      |       Recall       |      F1-Score      |      Accuracy      |\n",
      "+------------+--------------------+--------------------+--------------------+--------------------+\n",
      "|     1      |        1.0         | 0.9743589743589743 | 0.9870129870129869 | 0.9857142857142858 |\n",
      "|     2      |        1.0         |       0.9375       | 0.967741935483871  | 0.9571428571428572 |\n",
      "|     3      | 0.9743589743589743 | 0.926829268292683  | 0.9500000000000001 | 0.9428571428571428 |\n",
      "|     4      |        1.0         |       0.975        | 0.9873417721518987 | 0.9857142857142858 |\n",
      "|     5      |        1.0         | 0.9803921568627451 |  0.99009900990099  | 0.9855072463768116 |\n",
      "|     6      | 0.9791666666666666 |        1.0         | 0.9894736842105264 | 0.9855072463768116 |\n",
      "|     7      |        1.0         |        1.0         |        1.0         |        1.0         |\n",
      "|     8      |        1.0         | 0.9761904761904762 | 0.9879518072289156 | 0.9855072463768116 |\n",
      "|     9      |        1.0         | 0.9545454545454546 | 0.9767441860465117 | 0.9710144927536232 |\n",
      "|     10     |        1.0         |        1.0         |        1.0         |        1.0         |\n",
      "+------------+--------------------+--------------------+--------------------+--------------------+\n",
      "Rata-rata Precision mlp = 0.995352564102564\n",
      "Rata-rata Recall mlp = 0.9724816330250334\n",
      "Rata-rata F1-Score mlp = 0.98363653820357\n",
      "Rata-rata Akurasi mlp = 0.9798964803312631\n",
      "akurasi validasi mlp = 0.9743589743589743\n",
      "selisih akurasi mlp = 0.005537505972288748\n",
      "\n",
      "\n",
      "\n"
     ]
    },
    {
     "data": {
      "image/png": "[encoded data removed]",
      "text/plain": [
       "<Figure size 144x144 with 2 Axes>"
      ]
     },
     "metadata": {
      "needs_background": "light"
     },
     "output_type": "display_data"
    },
    {
     "data": {
      "image/png": "[encoded data removed]",
      "text/plain": [
       "<Figure size 144x144 with 2 Axes>"
      ]
     },
     "metadata": {
      "needs_background": "light"
     },
     "output_type": "display_data"
    },
    {
     "data": {
      "image/png": "[encoded data removed]",
      "text/plain": [
       "<Figure size 144x144 with 2 Axes>"
      ]
     },
     "metadata": {
      "needs_background": "light"
     },
     "output_type": "display_data"
    },
    {
     "data": {
      "image/png": "[encoded data removed]",
      "text/plain": [
       "<Figure size 144x144 with 2 Axes>"
      ]
     },
     "metadata": {
      "needs_background": "light"
     },
     "output_type": "display_data"
    },
    {
     "data": {
      "image/png": "[encoded data removed]",
      "text/plain": [
       "<Figure size 144x144 with 2 Axes>"
      ]
     },
     "metadata": {
      "needs_background": "light"
     },
     "output_type": "display_data"
    },
    {
     "data": {
      "image/png": "[encoded data removed]",
      "text/plain": [
       "<Figure size 144x144 with 2 Axes>"
      ]
     },
     "metadata": {
      "needs_background": "light"
     },
     "output_type": "display_data"
    }
   ],
   "source": [
    "# Memodelkan data dengan semua atribut disertakan\n",
    "x_raw = np.array(audit[audit.columns[0:17]])\n",
    "y_raw = np.array(audit[audit.columns[17]])\n",
    "xd, xu, yd, yu = train_test_split(x_raw, y_raw, test_size=0.1, random_state=1)\n",
    "\n",
    "class_model(xd, xu, yd, yu, 10, models, modelname)"
   ]
  },
  {
   "cell_type": "markdown",
   "metadata": {},
   "source": [
    "Berdasarkan hasil diatas, terdapat nilai akurasi 1.0. Diduga model over-fit terhadap data. Sehingga, dilakukan pemilihan atribut untuk modelling. "
   ]
  },
  {
   "cell_type": "markdown",
   "metadata": {},
   "source": [
    "### Feature Selection\n",
    "Berdasarkan referensi utama digunakan 8 atribut"
   ]
  },
  {
   "cell_type": "code",
   "execution_count": 23,
   "metadata": {
    "scrolled": true
   },
   "outputs": [
    {
     "name": "stdout",
     "output_type": "stream",
     "text": [
      "Num Features:  8\n",
      "Selected Features:  [False False  True  True  True  True  True False False  True False  True\n",
      " False False False False  True]\n",
      "Feature Ranking:  [ 3  5  1  1  1  1  1  4  7  1  2  1  8  6 10  9  1]\n"
     ]
    },
    {
     "data": {
      "text/plain": [
       "['PARA_A',\n",
       " 'SCORE_A',\n",
       " 'PARA_B',\n",
       " 'SCORE_B',\n",
       " 'TOTAL',\n",
       " 'Money_Value',\n",
       " 'District',\n",
       " 'Score']"
      ]
     },
     "execution_count": 23,
     "metadata": {},
     "output_type": "execute_result"
    }
   ],
   "source": [
    "# Feature Extraction with RFE (Recursive Feature Elimination)\n",
    "from sklearn.feature_selection import RFE\n",
    "X = audit.drop([\"Risk\"], axis=1)\n",
    "Y = audit[\"Risk\"]\n",
    "# feature extraction\n",
    "model = RandomForestClassifier()\n",
    "rfe = RFE(model, 8)\n",
    "fit = rfe.fit(X, Y)\n",
    "print(\"Num Features: \", fit.n_features_)\n",
    "print(\"Selected Features: \", fit.support_)\n",
    "print(\"Feature Ranking: \", fit.ranking_)\n",
    "\n",
    "cols = list(X.columns)\n",
    "for i in range (len(cols)):\n",
    "    if fit.support_[i] == False:\n",
    "        cols.remove(X.columns[i])\n",
    "        \n",
    "cols"
   ]
  },
  {
   "cell_type": "code",
   "execution_count": 24,
   "metadata": {},
   "outputs": [
    {
     "name": "stdout",
     "output_type": "stream",
     "text": [
      "\u001b[1m\u001b[95mHasil training model - knn\u001b[0m\n",
      "+------------+-----------+--------------------+--------------------+--------------------+\n",
      "| Train ke - | Precision |       Recall       |      F1-Score      |      Accuracy      |\n",
      "+------------+-----------+--------------------+--------------------+--------------------+\n",
      "|     1      |    1.0    |        1.0         |        1.0         |        1.0         |\n",
      "|     2      |    1.0    |        1.0         |        1.0         |        1.0         |\n",
      "|     3      |    1.0    | 0.9512195121951219 |       0.975        | 0.9714285714285714 |\n",
      "|     4      |    1.0    |       0.975        | 0.9873417721518987 | 0.9857142857142858 |\n",
      "|     5      |    1.0    |        1.0         |        1.0         |        1.0         |\n",
      "|     6      |    1.0    |        1.0         |        1.0         |        1.0         |\n",
      "|     7      |    1.0    |        1.0         |        1.0         |        1.0         |\n",
      "|     8      |    1.0    | 0.9761904761904762 | 0.9879518072289156 | 0.9855072463768116 |\n",
      "|     9      |    1.0    | 0.9772727272727273 | 0.9885057471264368 | 0.9855072463768116 |\n",
      "|     10     |    1.0    |        1.0         |        1.0         |        1.0         |\n",
      "+------------+-----------+--------------------+--------------------+--------------------+\n",
      "Rata-rata Precision knn = 1.0\n",
      "Rata-rata Recall knn = 0.9879682715658324\n",
      "Rata-rata F1-Score knn = 0.993879932650725\n",
      "Rata-rata Akurasi knn = 0.992815734989648\n",
      "akurasi validasi knn = 0.9871794871794872\n",
      "selisih akurasi knn = 0.0056362478101608104\n",
      "\n",
      "\n",
      "\n",
      "\u001b[1m\u001b[95mHasil training model - logit\u001b[0m\n",
      "+------------+--------------------+--------------------+--------------------+--------------------+\n",
      "| Train ke - |     Precision      |       Recall       |      F1-Score      |      Accuracy      |\n",
      "+------------+--------------------+--------------------+--------------------+--------------------+\n",
      "|     1      |        1.0         |        1.0         |        1.0         |        1.0         |\n",
      "|     2      |        1.0         | 0.9791666666666666 | 0.9894736842105264 | 0.9857142857142858 |\n",
      "|     3      | 0.9743589743589743 | 0.926829268292683  | 0.9500000000000001 | 0.9428571428571428 |\n",
      "|     4      |        0.95        |        0.95        | 0.9500000000000001 | 0.9428571428571428 |\n",
      "|     5      |        1.0         |        1.0         |        1.0         |        1.0         |\n",
      "|     6      | 0.9787234042553191 | 0.9787234042553191 | 0.9787234042553191 | 0.9710144927536232 |\n",
      "|     7      |        1.0         |        1.0         |        1.0         |        1.0         |\n",
      "|     8      |        1.0         | 0.9761904761904762 | 0.9879518072289156 | 0.9855072463768116 |\n",
      "|     9      |        1.0         | 0.9318181818181818 | 0.9647058823529412 | 0.9565217391304348 |\n",
      "|     10     |        1.0         |        1.0         |        1.0         |        1.0         |\n",
      "+------------+--------------------+--------------------+--------------------+--------------------+\n",
      "Rata-rata Precision logit = 0.9903082378614293\n",
      "Rata-rata Recall logit = 0.9742727997223326\n",
      "Rata-rata F1-Score logit = 0.9820854778047702\n",
      "Rata-rata Akurasi logit = 0.9784472049689441\n",
      "akurasi validasi logit = 0.9615384615384616\n",
      "selisih akurasi logit = 0.016908743430482542\n",
      "\n",
      "\n",
      "\n",
      "\u001b[1m\u001b[95mHasil training model - svm\u001b[0m\n",
      "+------------+--------------------+--------------------+--------------------+--------------------+\n",
      "| Train ke - |     Precision      |       Recall       |      F1-Score      |      Accuracy      |\n",
      "+------------+--------------------+--------------------+--------------------+--------------------+\n",
      "|     1      |        1.0         |        1.0         |        1.0         |        1.0         |\n",
      "|     2      |        1.0         |        1.0         |        1.0         |        1.0         |\n",
      "|     3      |        1.0         | 0.9512195121951219 |       0.975        | 0.9714285714285714 |\n",
      "|     4      |       0.975        |       0.975        |       0.975        | 0.9714285714285714 |\n",
      "|     5      |        1.0         |        1.0         |        1.0         |        1.0         |\n",
      "|     6      | 0.9791666666666666 |        1.0         | 0.9894736842105264 | 0.9855072463768116 |\n",
      "|     7      |        1.0         |        1.0         |        1.0         |        1.0         |\n",
      "|     8      |        1.0         | 0.9761904761904762 | 0.9879518072289156 | 0.9855072463768116 |\n",
      "|     9      |        1.0         | 0.9772727272727273 | 0.9885057471264368 | 0.9855072463768116 |\n",
      "|     10     |        1.0         |        1.0         |        1.0         |        1.0         |\n",
      "+------------+--------------------+--------------------+--------------------+--------------------+\n",
      "Rata-rata Precision svm = 0.9954166666666666\n",
      "Rata-rata Recall svm = 0.9879682715658324\n",
      "Rata-rata F1-Score svm = 0.9915931238565878\n",
      "Rata-rata Akurasi svm = 0.9899378881987578\n",
      "akurasi validasi svm = 0.9871794871794872\n",
      "selisih akurasi svm = 0.0027584010192706065\n",
      "\n",
      "\n",
      "\n",
      "\u001b[1m\u001b[95mHasil training model - rf\u001b[0m\n",
      "+------------+--------------------+--------+-------------------+--------------------+\n",
      "| Train ke - |     Precision      | Recall |      F1-Score     |      Accuracy      |\n",
      "+------------+--------------------+--------+-------------------+--------------------+\n",
      "|     1      |        1.0         |  1.0   |        1.0        |        1.0         |\n",
      "|     2      |        1.0         |  1.0   |        1.0        |        1.0         |\n",
      "|     3      |        1.0         |  1.0   |        1.0        |        1.0         |\n",
      "|     4      |        1.0         |  1.0   |        1.0        |        1.0         |\n",
      "|     5      |        1.0         |  1.0   |        1.0        |        1.0         |\n",
      "|     6      |        1.0         |  1.0   |        1.0        |        1.0         |\n",
      "|     7      |        1.0         |  1.0   |        1.0        |        1.0         |\n",
      "|     8      | 0.9767441860465116 |  1.0   | 0.988235294117647 | 0.9855072463768116 |\n",
      "|     9      |        1.0         |  1.0   |        1.0        |        1.0         |\n",
      "|     10     |        1.0         |  1.0   |        1.0        |        1.0         |\n",
      "+------------+--------------------+--------+-------------------+--------------------+\n",
      "Rata-rata Precision rf = 0.9976744186046511\n",
      "Rata-rata Recall rf = 1.0\n",
      "Rata-rata F1-Score rf = 0.9988235294117647\n",
      "Rata-rata Akurasi rf = 0.9985507246376812\n",
      "akurasi validasi rf = 1.0\n",
      "selisih akurasi rf = -0.0014492753623187582\n",
      "\n",
      "\n",
      "\n",
      "\u001b[1m\u001b[95mHasil training model - slp\u001b[0m\n",
      "+------------+--------------------+--------------------+--------------------+--------------------+\n",
      "| Train ke - |     Precision      |       Recall       |      F1-Score      |      Accuracy      |\n",
      "+------------+--------------------+--------------------+--------------------+--------------------+\n",
      "|     1      | 0.868421052631579  | 0.8461538461538461 | 0.8571428571428572 | 0.8428571428571429 |\n",
      "|     2      |        1.0         |        1.0         |        1.0         |        1.0         |\n",
      "|     3      | 0.926829268292683  | 0.926829268292683  | 0.926829268292683  | 0.9142857142857143 |\n",
      "|     4      | 0.9512195121951219 |       0.975        | 0.9629629629629629 | 0.9571428571428572 |\n",
      "|     5      | 0.9444444444444444 |        1.0         | 0.9714285714285714 | 0.9565217391304348 |\n",
      "|     6      | 0.9791666666666666 |        1.0         | 0.9894736842105264 | 0.9855072463768116 |\n",
      "|     7      |        0.96        |        1.0         | 0.9795918367346939 | 0.9710144927536232 |\n",
      "|     8      | 0.9743589743589743 | 0.9047619047619048 | 0.9382716049382716 | 0.927536231884058  |\n",
      "|     9      |        1.0         | 0.9545454545454546 | 0.9767441860465117 | 0.9710144927536232 |\n",
      "|     10     | 0.8043478260869565 | 0.9736842105263158 | 0.8809523809523809 | 0.855072463768116  |\n",
      "+------------+--------------------+--------------------+--------------------+--------------------+\n",
      "Rata-rata Precision slp = 0.9408787744676426\n",
      "Rata-rata Recall slp = 0.9580974684280203\n",
      "Rata-rata F1-Score slp = 0.948339735270946\n",
      "Rata-rata Akurasi slp = 0.9380952380952381\n",
      "akurasi validasi slp = 0.8205128205128205\n",
      "selisih akurasi slp = 0.11758241758241761\n",
      "\n",
      "\n",
      "\n",
      "\u001b[1m\u001b[95mHasil training model - mlp\u001b[0m\n",
      "+------------+--------------------+--------------------+--------------------+--------------------+\n",
      "| Train ke - |     Precision      |       Recall       |      F1-Score      |      Accuracy      |\n",
      "+------------+--------------------+--------------------+--------------------+--------------------+\n",
      "|     1      |        1.0         |        1.0         |        1.0         |        1.0         |\n",
      "|     2      |        1.0         |        1.0         |        1.0         |        1.0         |\n",
      "|     3      |       0.975        | 0.9512195121951219 | 0.9629629629629629 | 0.9571428571428572 |\n",
      "|     4      |       0.975        |       0.975        |       0.975        | 0.9714285714285714 |\n",
      "|     5      |        1.0         |        1.0         |        1.0         |        1.0         |\n",
      "|     6      | 0.9791666666666666 |        1.0         | 0.9894736842105264 | 0.9855072463768116 |\n",
      "|     7      |        1.0         |        1.0         |        1.0         |        1.0         |\n",
      "|     8      |        1.0         | 0.9761904761904762 | 0.9879518072289156 | 0.9855072463768116 |\n",
      "|     9      |        1.0         | 0.9772727272727273 | 0.9885057471264368 | 0.9855072463768116 |\n",
      "|     10     |        1.0         |        1.0         |        1.0         |        1.0         |\n",
      "+------------+--------------------+--------------------+--------------------+--------------------+\n",
      "Rata-rata Precision mlp = 0.9929166666666667\n",
      "Rata-rata Recall mlp = 0.9879682715658324\n",
      "Rata-rata F1-Score mlp = 0.9903894201528841\n",
      "Rata-rata Akurasi mlp = 0.9885093167701864\n",
      "akurasi validasi mlp = 0.9871794871794872\n",
      "selisih akurasi mlp = 0.0013298295906991608\n",
      "\n",
      "\n",
      "\n"
     ]
    },
    {
     "data": {
      "image/png": "[encoded data removed]",
      "text/plain": [
       "<Figure size 144x144 with 2 Axes>"
      ]
     },
     "metadata": {
      "needs_background": "light"
     },
     "output_type": "display_data"
    },
    {
     "data": {
      "image/png": "[encoded data removed]",
      "text/plain": [
       "<Figure size 144x144 with 2 Axes>"
      ]
     },
     "metadata": {
      "needs_background": "light"
     },
     "output_type": "display_data"
    },
    {
     "data": {
      "image/png": "[encoded data removed]",
      "text/plain": [
       "<Figure size 144x144 with 2 Axes>"
      ]
     },
     "metadata": {
      "needs_background": "light"
     },
     "output_type": "display_data"
    },
    {
     "data": {
      "image/png": "[encoded data removed]",
      "text/plain": [
       "<Figure size 144x144 with 2 Axes>"
      ]
     },
     "metadata": {
      "needs_background": "light"
     },
     "output_type": "display_data"
    },
    {
     "data": {
      "image/png": "[encoded data removed]",
      "text/plain": [
       "<Figure size 144x144 with 2 Axes>"
      ]
     },
     "metadata": {
      "needs_background": "light"
     },
     "output_type": "display_data"
    },
    {
     "data": {
      "image/png": "[encoded data removed]",
      "text/plain": [
       "<Figure size 144x144 with 2 Axes>"
      ]
     },
     "metadata": {
      "needs_background": "light"
     },
     "output_type": "display_data"
    }
   ],
   "source": [
    "# Memodelkan data dengan 8 atribut saja yang disertakan berdasarkan feature selection\n",
    "x_f = np.array(audit[cols])\n",
    "y_f = np.array(audit[\"Risk\"])\n",
    "xdev_f, xunseen_f, ydev_f, yunseen_f = train_test_split(x_f, y_f, test_size=0.1, random_state=1)\n",
    "\n",
    "class_model(xdev_f, xunseen_f, ydev_f, yunseen_f, 10, models, modelname)"
   ]
  },
  {
   "cell_type": "code",
   "execution_count": 25,
   "metadata": {
    "scrolled": true
   },
   "outputs": [
    {
     "name": "stdout",
     "output_type": "stream",
     "text": [
      "\u001b[1m\u001b[95mHasil training model - knn\u001b[0m\n",
      "+------------+--------------------+--------------------+--------------------+--------------------+\n",
      "| Train ke - |     Precision      |       Recall       |      F1-Score      |      Accuracy      |\n",
      "+------------+--------------------+--------------------+--------------------+--------------------+\n",
      "|     1      |       0.975        |        1.0         | 0.9873417721518987 | 0.9857142857142858 |\n",
      "|     2      |        1.0         |       0.9375       | 0.967741935483871  | 0.9571428571428572 |\n",
      "|     3      | 0.9285714285714286 | 0.9512195121951219 | 0.9397590361445782 | 0.9285714285714286 |\n",
      "|     4      | 0.9743589743589743 |        0.95        | 0.9620253164556962 | 0.9571428571428572 |\n",
      "|     5      | 0.9607843137254902 | 0.9607843137254902 | 0.9607843137254902 | 0.9420289855072463 |\n",
      "|     6      | 0.9591836734693877 |        1.0         | 0.9791666666666666 | 0.9710144927536232 |\n",
      "|     7      |        0.96        |        1.0         | 0.9795918367346939 | 0.9710144927536232 |\n",
      "|     8      | 0.9761904761904762 | 0.9761904761904762 | 0.9761904761904762 | 0.9710144927536232 |\n",
      "|     9      | 0.9761904761904762 | 0.9318181818181818 | 0.9534883720930233 | 0.9420289855072463 |\n",
      "|     10     | 0.9736842105263158 | 0.9736842105263158 | 0.9736842105263158 | 0.9710144927536232 |\n",
      "+------------+--------------------+--------------------+--------------------+--------------------+\n",
      "Rata-rata Precision knn = 0.9683963553032549\n",
      "Rata-rata Recall knn = 0.9681196694455586\n",
      "Rata-rata F1-Score knn = 0.967977393617271\n",
      "Rata-rata Akurasi knn = 0.9596687370600414\n",
      "akurasi validasi knn = 0.9102564102564102\n",
      "selisih akurasi knn = 0.04941232680363117\n",
      "\n",
      "\n",
      "\n",
      "\u001b[1m\u001b[95mHasil training model - logit\u001b[0m\n",
      "+------------+--------------------+--------------------+--------------------+--------------------+\n",
      "| Train ke - |     Precision      |       Recall       |      F1-Score      |      Accuracy      |\n",
      "+------------+--------------------+--------------------+--------------------+--------------------+\n",
      "|     1      | 0.972972972972973  | 0.9230769230769231 | 0.9473684210526315 | 0.9428571428571428 |\n",
      "|     2      |        1.0         | 0.9583333333333334 | 0.9787234042553191 | 0.9714285714285714 |\n",
      "|     3      | 0.9210526315789473 | 0.8536585365853658 | 0.8860759493670887 | 0.8714285714285714 |\n",
      "|     4      |        0.95        |        0.95        | 0.9500000000000001 | 0.9428571428571428 |\n",
      "|     5      | 0.9807692307692307 |        1.0         | 0.9902912621359222 | 0.9855072463768116 |\n",
      "|     6      | 0.9565217391304348 | 0.9361702127659575 | 0.9462365591397849 | 0.927536231884058  |\n",
      "|     7      | 0.9795918367346939 |        1.0         | 0.9896907216494846 | 0.9855072463768116 |\n",
      "|     8      | 0.9761904761904762 | 0.9761904761904762 | 0.9761904761904762 | 0.9710144927536232 |\n",
      "|     9      |        1.0         | 0.9545454545454546 | 0.9767441860465117 | 0.9710144927536232 |\n",
      "|     10     |        0.95        |        1.0         | 0.9743589743589743 | 0.9710144927536232 |\n",
      "+------------+--------------------+--------------------+--------------------+--------------------+\n",
      "Rata-rata Precision logit = 0.9687098887376756\n",
      "Rata-rata Recall logit = 0.955197493649751\n",
      "Rata-rata F1-Score logit = 0.9615679954196195\n",
      "Rata-rata Akurasi logit = 0.954016563146998\n",
      "akurasi validasi logit = 0.9487179487179487\n",
      "selisih akurasi logit = 0.005298614429049331\n",
      "\n",
      "\n",
      "\n",
      "\u001b[1m\u001b[95mHasil training model - svm\u001b[0m\n",
      "+------------+--------------------+--------------------+--------------------+--------------------+\n",
      "| Train ke - |     Precision      |       Recall       |      F1-Score      |      Accuracy      |\n",
      "+------------+--------------------+--------------------+--------------------+--------------------+\n",
      "|     1      |        1.0         |        1.0         |        1.0         |        1.0         |\n",
      "|     2      |        1.0         |       0.9375       | 0.967741935483871  | 0.9571428571428572 |\n",
      "|     3      | 0.9512195121951219 | 0.9512195121951219 | 0.9512195121951219 | 0.9428571428571428 |\n",
      "|     4      |       0.975        |       0.975        |       0.975        | 0.9714285714285714 |\n",
      "|     5      | 0.9803921568627451 | 0.9803921568627451 | 0.9803921568627451 | 0.9710144927536232 |\n",
      "|     6      | 0.9583333333333334 | 0.9787234042553191 | 0.968421052631579  | 0.9565217391304348 |\n",
      "|     7      | 0.9565217391304348 | 0.9166666666666666 | 0.9361702127659574 | 0.9130434782608695 |\n",
      "|     8      |        1.0         | 0.9285714285714286 | 0.962962962962963  | 0.9565217391304348 |\n",
      "|     9      | 0.9767441860465116 | 0.9545454545454546 | 0.9655172413793104 | 0.9565217391304348 |\n",
      "|     10     | 0.9743589743589743 |        1.0         | 0.9870129870129869 | 0.9855072463768116 |\n",
      "+------------+--------------------+--------------------+--------------------+--------------------+\n",
      "Rata-rata Precision svm = 0.9772569901927121\n",
      "Rata-rata Recall svm = 0.9622618623096736\n",
      "Rata-rata F1-Score svm = 0.9694438061294534\n",
      "Rata-rata Akurasi svm = 0.9610559006211181\n",
      "akurasi validasi svm = 0.8974358974358975\n",
      "selisih akurasi svm = 0.06362000318522065\n",
      "\n",
      "\n",
      "\n",
      "\u001b[1m\u001b[95mHasil training model - rf\u001b[0m\n",
      "+------------+--------------------+--------------------+--------------------+--------------------+\n",
      "| Train ke - |     Precision      |       Recall       |      F1-Score      |      Accuracy      |\n",
      "+------------+--------------------+--------------------+--------------------+--------------------+\n",
      "|     1      |       0.975        |        1.0         | 0.9873417721518987 | 0.9857142857142858 |\n",
      "|     2      |        1.0         |        1.0         |        1.0         |        1.0         |\n",
      "|     3      | 0.975609756097561  | 0.975609756097561  | 0.975609756097561  | 0.9714285714285714 |\n",
      "|     4      | 0.9743589743589743 |        0.95        | 0.9620253164556962 | 0.9571428571428572 |\n",
      "|     5      |        1.0         |        1.0         |        1.0         |        1.0         |\n",
      "|     6      |        1.0         |        1.0         |        1.0         |        1.0         |\n",
      "|     7      |        1.0         | 0.9791666666666666 | 0.9894736842105264 | 0.9855072463768116 |\n",
      "|     8      | 0.975609756097561  | 0.9523809523809523 | 0.963855421686747  | 0.9565217391304348 |\n",
      "|     9      |        1.0         | 0.9772727272727273 | 0.9885057471264368 | 0.9855072463768116 |\n",
      "|     10     |        1.0         |        1.0         |        1.0         |        1.0         |\n",
      "+------------+--------------------+--------------------+--------------------+--------------------+\n",
      "Rata-rata Precision rf = 0.9900578486554096\n",
      "Rata-rata Recall rf = 0.9834430102417906\n",
      "Rata-rata F1-Score rf = 0.9866811697728866\n",
      "Rata-rata Akurasi rf = 0.9841821946169773\n",
      "akurasi validasi rf = 0.9871794871794872\n",
      "selisih akurasi rf = -0.0029972925625099123\n",
      "\n",
      "\n",
      "\n",
      "\u001b[1m\u001b[95mHasil training model - slp\u001b[0m\n",
      "+------------+--------------------+--------------------+--------------------+--------------------+\n",
      "| Train ke - |     Precision      |       Recall       |      F1-Score      |      Accuracy      |\n",
      "+------------+--------------------+--------------------+--------------------+--------------------+\n",
      "|     1      | 0.9705882352941176 | 0.8461538461538461 | 0.9041095890410958 |        0.9         |\n",
      "|     2      | 0.7868852459016393 |        1.0         | 0.8807339449541284 | 0.8142857142857143 |\n",
      "|     3      |       0.925        | 0.9024390243902439 | 0.9135802469135802 |        0.9         |\n",
      "|     4      | 0.6451612903225806 |        1.0         | 0.7843137254901961 | 0.6857142857142857 |\n",
      "|     5      | 0.8771929824561403 | 0.9803921568627451 | 0.9259259259259259 | 0.8840579710144928 |\n",
      "|     6      | 0.9534883720930233 | 0.8723404255319149 | 0.9111111111111112 | 0.8840579710144928 |\n",
      "|     7      | 0.8727272727272727 |        1.0         | 0.9320388349514563 | 0.8985507246376812 |\n",
      "|     8      |        1.0         | 0.9047619047619048 | 0.9500000000000001 | 0.9420289855072463 |\n",
      "|     9      |        1.0         | 0.8636363636363636 | 0.9268292682926829 | 0.9130434782608695 |\n",
      "|     10     |        1.0         | 0.8421052631578947 | 0.9142857142857143 | 0.9130434782608695 |\n",
      "+------------+--------------------+--------------------+--------------------+--------------------+\n",
      "Rata-rata Precision slp = 0.9031043398794774\n",
      "Rata-rata Recall slp = 0.9211828984494914\n",
      "Rata-rata F1-Score slp = 0.9042928360965892\n",
      "Rata-rata Akurasi slp = 0.8734782608695651\n",
      "akurasi validasi slp = 0.8717948717948718\n",
      "selisih akurasi slp = 0.0016833890746933422\n",
      "\n",
      "\n",
      "\n",
      "\u001b[1m\u001b[95mHasil training model - mlp\u001b[0m\n"
     ]
    },
    {
     "name": "stdout",
     "output_type": "stream",
     "text": [
      "+------------+--------------------+--------------------+--------------------+--------------------+\n",
      "| Train ke - |     Precision      |       Recall       |      F1-Score      |      Accuracy      |\n",
      "+------------+--------------------+--------------------+--------------------+--------------------+\n",
      "|     1      | 0.9736842105263158 | 0.9487179487179487 | 0.9610389610389611 | 0.9571428571428572 |\n",
      "|     2      |        1.0         | 0.9166666666666666 | 0.9565217391304348 | 0.9428571428571428 |\n",
      "|     3      |        0.95        | 0.926829268292683  | 0.9382716049382716 | 0.9285714285714286 |\n",
      "|     4      |        1.0         |       0.925        | 0.961038961038961  | 0.9571428571428572 |\n",
      "|     5      | 0.9615384615384616 | 0.9803921568627451 | 0.970873786407767  | 0.9565217391304348 |\n",
      "|     6      |       0.9375       | 0.9574468085106383 | 0.9473684210526315 | 0.927536231884058  |\n",
      "|     7      |        1.0         | 0.9166666666666666 | 0.9565217391304348 | 0.9420289855072463 |\n",
      "|     8      |       0.975        | 0.9285714285714286 | 0.951219512195122  | 0.9420289855072463 |\n",
      "|     9      | 0.9565217391304348 |        1.0         | 0.9777777777777777 | 0.9710144927536232 |\n",
      "|     10     | 0.9743589743589743 |        1.0         | 0.9870129870129869 | 0.9855072463768116 |\n",
      "+------------+--------------------+--------------------+--------------------+--------------------+\n",
      "Rata-rata Precision mlp = 0.9728603385554188\n",
      "Rata-rata Recall mlp = 0.9500290944288778\n",
      "Rata-rata F1-Score mlp = 0.9607645489723348\n",
      "Rata-rata Akurasi mlp = 0.9510351966873707\n",
      "akurasi validasi mlp = 0.9230769230769231\n",
      "selisih akurasi mlp = 0.02795827361044756\n",
      "\n",
      "\n",
      "\n"
     ]
    },
    {
     "data": {
      "image/png": "[encoded data removed]",
      "text/plain": [
       "<Figure size 144x144 with 2 Axes>"
      ]
     },
     "metadata": {
      "needs_background": "light"
     },
     "output_type": "display_data"
    },
    {
     "data": {
      "image/png": "[encoded data removed]",
      "text/plain": [
       "<Figure size 144x144 with 2 Axes>"
      ]
     },
     "metadata": {
      "needs_background": "light"
     },
     "output_type": "display_data"
    },
    {
     "data": {
      "image/png": "[encoded data removed]",
      "text/plain": [
       "<Figure size 144x144 with 2 Axes>"
      ]
     },
     "metadata": {
      "needs_background": "light"
     },
     "output_type": "display_data"
    },
    {
     "data": {
      "image/png": "[encoded data removed]",
      "text/plain": [
       "<Figure size 144x144 with 2 Axes>"
      ]
     },
     "metadata": {
      "needs_background": "light"
     },
     "output_type": "display_data"
    },
    {
     "data": {
      "image/png": "[encoded data removed]",
      "text/plain": [
       "<Figure size 144x144 with 2 Axes>"
      ]
     },
     "metadata": {
      "needs_background": "light"
     },
     "output_type": "display_data"
    },
    {
     "data": {
      "image/png": "[encoded data removed]",
      "text/plain": [
       "<Figure size 144x144 with 2 Axes>"
      ]
     },
     "metadata": {
      "needs_background": "light"
     },
     "output_type": "display_data"
    }
   ],
   "source": [
    "# Memodelkan data dengan 8 atribut saja yang disertakan\n",
    "# Sesuai Paper\n",
    "x = np.array(audit.iloc[:, [0,2,4,7,9,11,12,14]])\n",
    "y = np.array(audit[audit.columns[17]])\n",
    "xdev, xunseen, ydev, yunseen = train_test_split(x, y, test_size=0.1, random_state=1)\n",
    "\n",
    "class_model(xdev, xunseen, ydev, yunseen, 10, models, modelname)"
   ]
  },
  {
   "cell_type": "markdown",
   "metadata": {},
   "source": [
    "<br>Berdasarkan hasil diatas, maka untuk Re-Modelling akan digunakan :\n",
    "1. Machine Learning Classifier : LogisticRegression dan RandomForestClassifier\n",
    "2. Neural Network : MLPClassifier"
   ]
  },
  {
   "cell_type": "markdown",
   "metadata": {},
   "source": [
    "## OverSampling"
   ]
  },
  {
   "cell_type": "code",
   "execution_count": 26,
   "metadata": {},
   "outputs": [],
   "source": [
    "# Pendefinisian Model Classifier dengan input :\n",
    "# xdev = training data untuk attribute selain target attribute\n",
    "# xunseen = validation data untuk attribute selain target attribute\n",
    "# ydev = training data untuk target attribute\n",
    "# yunseen = validation data untuk target attribute\n",
    "# n = nilai k untuk K-Flod Cross Validation\n",
    "# models = model classifier yang digunakan\n",
    "# list_model = Daftar nama model classifier yang digunakan\n",
    "\n",
    "def class_model_OS (xdev, xunseen, ydev, yunseen, n, models, list_model):\n",
    "\n",
    "    # train model terhadap dev data\n",
    "    for i in range (len(list_model)):\n",
    "        kf = KFold(n_splits=n)     \n",
    "        ntrain, psc, rsc, fsc, acc = [], [], [], [], []\n",
    "        \n",
    "        print (color.BOLD + color.PURPLE + \"Hasil training data Oversampling dengan model -\", list_model[i] + color.END)\n",
    "        j = 0\n",
    "        for train_index, test_index in kf.split(xdev):\n",
    "            \n",
    "            X_train, X_test = xdev[train_index], xdev[test_index]\n",
    "            Y_train, Y_test = ydev[train_index], ydev[test_index] \n",
    "            \n",
    "            # OVER SAMPLING\n",
    "            X_OS, Y_OS = SMOTE().fit_resample(X_train, Y_train)\n",
    "            model = models[list_model[i]]\n",
    "            model.fit(X_OS, Y_OS)\n",
    "            y_pred = model.predict(X_test)\n",
    "            \n",
    "            j = j+1\n",
    "            ntrain.append(j)\n",
    "            psc.append(precision_score(Y_test, y_pred))\n",
    "            rsc.append(recall_score(Y_test, y_pred))\n",
    "            fsc.append(f1_score(Y_test, y_pred))\n",
    "            acc.append(model.score(X_test, Y_test))\n",
    "            \n",
    "        # Tabulasi hasil per model\n",
    "        from prettytable import PrettyTable\n",
    "        table = PrettyTable(['Train ke -', 'Precision', 'Recall', 'F1-Score', 'Accuracy'])\n",
    "        for r in range (n):\n",
    "            table.add_row([ntrain[r], psc[r], rsc[r], fsc[r], acc[r]])\n",
    " \n",
    "        print(table)\n",
    "        print('Rata-rata Precision', list_model[i], \"=\", np.mean(psc))\n",
    "        print('Rata-rata Recall', list_model[i], \"=\", np.mean(rsc))\n",
    "        print('Rata-rata F1-Score', list_model[i], \"=\", np.mean(fsc))\n",
    "        print('Rata-rata Akurasi', list_model[i], \"=\", np.mean(acc))\n",
    "    \n",
    "        # Akurasi data validasi\n",
    "        yay = model.predict(xunseen)\n",
    "        print('akurasi validasi',list_model[i] ,\"=\", accuracy_score(yunseen, yay))\n",
    "        print('selisih akurasi', list_model[i], '=', (np.mean(acc) - accuracy_score(yunseen,yay)))\n",
    "        print(\"\\n\\n\")\n",
    "    \n",
    "        #Build confusion matrix for validation data \n",
    "        f, axes = plt.subplots(1, 1, figsize=(2,2))\n",
    "        sns.heatmap(confusion_matrix(yunseen, yay), annot=True, \n",
    "                    fmt='.2f').set(title = list_model[i])\n",
    "  "
   ]
  },
  {
   "cell_type": "code",
   "execution_count": 27,
   "metadata": {},
   "outputs": [
    {
     "name": "stdout",
     "output_type": "stream",
     "text": [
      "\u001b[1m\u001b[95mHasil training data Oversampling dengan model - knn\u001b[0m\n",
      "+------------+--------------------+--------------------+--------------------+--------------------+\n",
      "| Train ke - |     Precision      |       Recall       |      F1-Score      |      Accuracy      |\n",
      "+------------+--------------------+--------------------+--------------------+--------------------+\n",
      "|     1      |        1.0         | 0.7692307692307693 | 0.8695652173913044 | 0.8714285714285714 |\n",
      "|     2      |        1.0         |       0.8125       | 0.896551724137931  | 0.8714285714285714 |\n",
      "|     3      | 0.9705882352941176 | 0.8048780487804879 | 0.8800000000000001 | 0.8714285714285714 |\n",
      "|     4      |        1.0         |        0.9         | 0.9473684210526316 | 0.9428571428571428 |\n",
      "|     5      | 0.9777777777777777 | 0.8627450980392157 | 0.9166666666666665 | 0.8840579710144928 |\n",
      "|     6      |        1.0         | 0.9148936170212766 | 0.9555555555555556 | 0.9420289855072463 |\n",
      "|     7      |        1.0         | 0.9791666666666666 | 0.9894736842105264 | 0.9855072463768116 |\n",
      "|     8      |        1.0         | 0.8333333333333334 | 0.9090909090909091 | 0.8985507246376812 |\n",
      "|     9      |        1.0         | 0.8636363636363636 | 0.9268292682926829 | 0.9130434782608695 |\n",
      "|     10     | 0.9722222222222222 | 0.9210526315789473 | 0.9459459459459458 | 0.9420289855072463 |\n",
      "+------------+--------------------+--------------------+--------------------+--------------------+\n",
      "Rata-rata Precision knn = 0.9920588235294117\n",
      "Rata-rata Recall knn = 0.8661436528287061\n",
      "Rata-rata F1-Score knn = 0.9237047392344154\n",
      "Rata-rata Akurasi knn = 0.9122360248447204\n",
      "akurasi validasi knn = 0.9358974358974359\n",
      "selisih akurasi knn = -0.023661411052715464\n",
      "\n",
      "\n",
      "\n",
      "\u001b[1m\u001b[95mHasil training data Oversampling dengan model - logit\u001b[0m\n",
      "+------------+-----------+--------------------+--------------------+--------------------+\n",
      "| Train ke - | Precision |       Recall       |      F1-Score      |      Accuracy      |\n",
      "+------------+-----------+--------------------+--------------------+--------------------+\n",
      "|     1      |    1.0    |        1.0         |        1.0         |        1.0         |\n",
      "|     2      |    1.0    |        1.0         |        1.0         |        1.0         |\n",
      "|     3      |   0.975   | 0.9512195121951219 | 0.9629629629629629 | 0.9571428571428572 |\n",
      "|     4      |    1.0    |       0.975        | 0.9873417721518987 | 0.9857142857142858 |\n",
      "|     5      |    1.0    |        1.0         |        1.0         |        1.0         |\n",
      "|     6      |    1.0    |        1.0         |        1.0         |        1.0         |\n",
      "|     7      |    1.0    |        1.0         |        1.0         |        1.0         |\n",
      "|     8      |    1.0    | 0.9761904761904762 | 0.9879518072289156 | 0.9855072463768116 |\n",
      "|     9      |    1.0    | 0.9772727272727273 | 0.9885057471264368 | 0.9855072463768116 |\n",
      "|     10     |    1.0    |        1.0         |        1.0         |        1.0         |\n",
      "+------------+-----------+--------------------+--------------------+--------------------+\n",
      "Rata-rata Precision logit = 0.9974999999999999\n",
      "Rata-rata Recall logit = 0.9879682715658324\n",
      "Rata-rata F1-Score logit = 0.9926762289470213\n",
      "Rata-rata Akurasi logit = 0.9913871635610766\n",
      "akurasi validasi logit = 0.9871794871794872\n",
      "selisih akurasi logit = 0.004207676381589365\n",
      "\n",
      "\n",
      "\n",
      "\u001b[1m\u001b[95mHasil training data Oversampling dengan model - svm\u001b[0m\n",
      "+------------+--------------------+--------------------+--------------------+--------------------+\n",
      "| Train ke - |     Precision      |       Recall       |      F1-Score      |      Accuracy      |\n",
      "+------------+--------------------+--------------------+--------------------+--------------------+\n",
      "|     1      |        1.0         |        1.0         |        1.0         |        1.0         |\n",
      "|     2      | 0.9787234042553191 | 0.9583333333333334 | 0.968421052631579  | 0.9571428571428572 |\n",
      "|     3      |       0.975        | 0.9512195121951219 | 0.9629629629629629 | 0.9571428571428572 |\n",
      "|     4      | 0.9743589743589743 |        0.95        | 0.9620253164556962 | 0.9571428571428572 |\n",
      "|     5      |        1.0         | 0.9803921568627451 |  0.99009900990099  | 0.9855072463768116 |\n",
      "|     6      | 0.9787234042553191 | 0.9787234042553191 | 0.9787234042553191 | 0.9710144927536232 |\n",
      "|     7      | 0.9795918367346939 |        1.0         | 0.9896907216494846 | 0.9855072463768116 |\n",
      "|     8      |        1.0         | 0.9523809523809523 | 0.975609756097561  | 0.9710144927536232 |\n",
      "|     9      | 0.9555555555555556 | 0.9772727272727273 | 0.9662921348314608 | 0.9565217391304348 |\n",
      "|     10     | 0.9743589743589743 |        1.0         | 0.9870129870129869 | 0.9855072463768116 |\n",
      "+------------+--------------------+--------------------+--------------------+--------------------+\n",
      "Rata-rata Precision svm = 0.9816312149518837\n",
      "Rata-rata Recall svm = 0.9748322086300198\n",
      "Rata-rata F1-Score svm = 0.9780837345798041\n",
      "Rata-rata Akurasi svm = 0.9726501035196689\n",
      "akurasi validasi svm = 0.9615384615384616\n",
      "selisih akurasi svm = 0.011111641981207288\n",
      "\n",
      "\n",
      "\n",
      "\u001b[1m\u001b[95mHasil training data Oversampling dengan model - rf\u001b[0m\n",
      "+------------+-----------+--------+----------+----------+\n",
      "| Train ke - | Precision | Recall | F1-Score | Accuracy |\n",
      "+------------+-----------+--------+----------+----------+\n",
      "|     1      |    1.0    |  1.0   |   1.0    |   1.0    |\n",
      "|     2      |    1.0    |  1.0   |   1.0    |   1.0    |\n",
      "|     3      |    1.0    |  1.0   |   1.0    |   1.0    |\n",
      "|     4      |    1.0    |  1.0   |   1.0    |   1.0    |\n",
      "|     5      |    1.0    |  1.0   |   1.0    |   1.0    |\n",
      "|     6      |    1.0    |  1.0   |   1.0    |   1.0    |\n",
      "|     7      |    1.0    |  1.0   |   1.0    |   1.0    |\n",
      "|     8      |    1.0    |  1.0   |   1.0    |   1.0    |\n",
      "|     9      |    1.0    |  1.0   |   1.0    |   1.0    |\n",
      "|     10     |    1.0    |  1.0   |   1.0    |   1.0    |\n",
      "+------------+-----------+--------+----------+----------+\n",
      "Rata-rata Precision rf = 1.0\n",
      "Rata-rata Recall rf = 1.0\n",
      "Rata-rata F1-Score rf = 1.0\n",
      "Rata-rata Akurasi rf = 1.0\n",
      "akurasi validasi rf = 1.0\n",
      "selisih akurasi rf = 0.0\n",
      "\n",
      "\n",
      "\n",
      "\u001b[1m\u001b[95mHasil training data Oversampling dengan model - slp\u001b[0m\n",
      "+------------+--------------------+--------------------+--------------------+--------------------+\n",
      "| Train ke - |     Precision      |       Recall       |      F1-Score      |      Accuracy      |\n",
      "+------------+--------------------+--------------------+--------------------+--------------------+\n",
      "|     1      |        1.0         | 0.9487179487179487 | 0.9736842105263158 | 0.9714285714285714 |\n",
      "|     2      |        1.0         | 0.7083333333333334 | 0.8292682926829268 |        0.8         |\n",
      "|     3      | 0.972972972972973  | 0.8780487804878049 | 0.923076923076923  | 0.9142857142857143 |\n",
      "|     4      | 0.9444444444444444 |        0.85        | 0.8947368421052632 | 0.8857142857142857 |\n",
      "|     5      |      0.796875      |        1.0         | 0.8869565217391304 | 0.8115942028985508 |\n",
      "|     6      | 0.9767441860465116 | 0.8936170212765957 | 0.9333333333333332 | 0.9130434782608695 |\n",
      "|     7      | 0.7384615384615385 |        1.0         | 0.8495575221238938 | 0.7536231884057971 |\n",
      "|     8      |        1.0         | 0.9761904761904762 | 0.9879518072289156 | 0.9855072463768116 |\n",
      "|     9      |        1.0         | 0.8181818181818182 |        0.9         | 0.8840579710144928 |\n",
      "|     10     |        0.95        |        1.0         | 0.9743589743589743 | 0.9710144927536232 |\n",
      "+------------+--------------------+--------------------+--------------------+--------------------+\n",
      "Rata-rata Precision slp = 0.9379498141925466\n",
      "Rata-rata Recall slp = 0.9073089378187976\n",
      "Rata-rata F1-Score slp = 0.9152924427175677\n",
      "Rata-rata Akurasi slp = 0.8890269151138718\n",
      "akurasi validasi slp = 0.9615384615384616\n",
      "selisih akurasi slp = -0.07251154642458979\n",
      "\n",
      "\n",
      "\n",
      "\u001b[1m\u001b[95mHasil training data Oversampling dengan model - mlp\u001b[0m\n",
      "+------------+-----------+--------------------+--------------------+--------------------+\n",
      "| Train ke - | Precision |       Recall       |      F1-Score      |      Accuracy      |\n",
      "+------------+-----------+--------------------+--------------------+--------------------+\n",
      "|     1      |    1.0    | 0.9743589743589743 | 0.9870129870129869 | 0.9857142857142858 |\n",
      "|     2      |    1.0    | 0.9791666666666666 | 0.9894736842105264 | 0.9857142857142858 |\n",
      "|     3      |   0.975   | 0.9512195121951219 | 0.9629629629629629 | 0.9571428571428572 |\n",
      "|     4      |    1.0    |        0.95        | 0.9743589743589743 | 0.9714285714285714 |\n",
      "|     5      |    1.0    |        1.0         |        1.0         |        1.0         |\n",
      "|     6      |    1.0    |        1.0         |        1.0         |        1.0         |\n",
      "|     7      |    1.0    |        1.0         |        1.0         |        1.0         |\n",
      "|     8      |    1.0    | 0.9761904761904762 | 0.9879518072289156 | 0.9855072463768116 |\n",
      "|     9      |    1.0    | 0.9772727272727273 | 0.9885057471264368 | 0.9855072463768116 |\n",
      "|     10     |    1.0    |        1.0         |        1.0         |        1.0         |\n",
      "+------------+-----------+--------------------+--------------------+--------------------+\n",
      "Rata-rata Precision mlp = 0.9974999999999999\n",
      "Rata-rata Recall mlp = 0.9808208356683966\n",
      "Rata-rata F1-Score mlp = 0.9890266162900803\n",
      "Rata-rata Akurasi mlp = 0.9871014492753624\n",
      "akurasi validasi mlp = 0.9871794871794872\n",
      "selisih akurasi mlp = -7.803790412486133e-05\n",
      "\n",
      "\n",
      "\n"
     ]
    },
    {
     "data": {
      "image/png": "[encoded data removed]",
      "text/plain": [
       "<Figure size 144x144 with 2 Axes>"
      ]
     },
     "metadata": {
      "needs_background": "light"
     },
     "output_type": "display_data"
    },
    {
     "data": {
      "image/png": "[encoded data removed]",
      "text/plain": [
       "<Figure size 144x144 with 2 Axes>"
      ]
     },
     "metadata": {
      "needs_background": "light"
     },
     "output_type": "display_data"
    },
    {
     "data": {
      "image/png": "[encoded data removed]",
      "text/plain": [
       "<Figure size 144x144 with 2 Axes>"
      ]
     },
     "metadata": {
      "needs_background": "light"
     },
     "output_type": "display_data"
    },
    {
     "data": {
      "image/png": "[encoded data removed]",
      "text/plain": [
       "<Figure size 144x144 with 2 Axes>"
      ]
     },
     "metadata": {
      "needs_background": "light"
     },
     "output_type": "display_data"
    },
    {
     "data": {
      "image/png": "[encoded data removed]",
      "text/plain": [
       "<Figure size 144x144 with 2 Axes>"
      ]
     },
     "metadata": {
      "needs_background": "light"
     },
     "output_type": "display_data"
    },
    {
     "data": {
      "image/png": "[encoded data removed]",
      "text/plain": [
       "<Figure size 144x144 with 2 Axes>"
      ]
     },
     "metadata": {
      "needs_background": "light"
     },
     "output_type": "display_data"
    }
   ],
   "source": [
    "# Memodelkan data dengan semua atribut disertakan\n",
    "class_model_OS(xd, xu, yd, yu, 10, models, modelname)\n"
   ]
  },
  {
   "cell_type": "code",
   "execution_count": 28,
   "metadata": {},
   "outputs": [
    {
     "name": "stdout",
     "output_type": "stream",
     "text": [
      "\u001b[1m\u001b[95mHasil training data Oversampling dengan model - knn\u001b[0m\n",
      "+------------+-----------+--------------------+--------------------+--------------------+\n",
      "| Train ke - | Precision |       Recall       |      F1-Score      |      Accuracy      |\n",
      "+------------+-----------+--------------------+--------------------+--------------------+\n",
      "|     1      |    1.0    |        1.0         |        1.0         |        1.0         |\n",
      "|     2      |    1.0    |        1.0         |        1.0         |        1.0         |\n",
      "|     3      |    1.0    | 0.9512195121951219 |       0.975        | 0.9714285714285714 |\n",
      "|     4      |    1.0    |       0.975        | 0.9873417721518987 | 0.9857142857142858 |\n",
      "|     5      |    1.0    |        1.0         |        1.0         |        1.0         |\n",
      "|     6      |    1.0    |        1.0         |        1.0         |        1.0         |\n",
      "|     7      |    1.0    |        1.0         |        1.0         |        1.0         |\n",
      "|     8      |    1.0    | 0.9761904761904762 | 0.9879518072289156 | 0.9855072463768116 |\n",
      "|     9      |    1.0    | 0.9772727272727273 | 0.9885057471264368 | 0.9855072463768116 |\n",
      "|     10     |    1.0    |        1.0         |        1.0         |        1.0         |\n",
      "+------------+-----------+--------------------+--------------------+--------------------+\n",
      "Rata-rata Precision knn = 1.0\n",
      "Rata-rata Recall knn = 0.9879682715658324\n",
      "Rata-rata F1-Score knn = 0.993879932650725\n",
      "Rata-rata Akurasi knn = 0.992815734989648\n",
      "akurasi validasi knn = 0.9871794871794872\n",
      "selisih akurasi knn = 0.0056362478101608104\n",
      "\n",
      "\n",
      "\n",
      "\u001b[1m\u001b[95mHasil training data Oversampling dengan model - logit\u001b[0m\n",
      "+------------+--------------------+--------------------+--------------------+--------------------+\n",
      "| Train ke - |     Precision      |       Recall       |      F1-Score      |      Accuracy      |\n",
      "+------------+--------------------+--------------------+--------------------+--------------------+\n",
      "|     1      |        1.0         | 0.9743589743589743 | 0.9870129870129869 | 0.9857142857142858 |\n",
      "|     2      |        1.0         | 0.9791666666666666 | 0.9894736842105264 | 0.9857142857142858 |\n",
      "|     3      | 0.9736842105263158 | 0.9024390243902439 | 0.9367088607594938 | 0.9285714285714286 |\n",
      "|     4      |        0.95        |        0.95        | 0.9500000000000001 | 0.9428571428571428 |\n",
      "|     5      |        1.0         |        1.0         |        1.0         |        1.0         |\n",
      "|     6      | 0.9782608695652174 | 0.9574468085106383 | 0.967741935483871  | 0.9565217391304348 |\n",
      "|     7      |        1.0         |        1.0         |        1.0         |        1.0         |\n",
      "|     8      |        1.0         | 0.9761904761904762 | 0.9879518072289156 | 0.9855072463768116 |\n",
      "|     9      |        1.0         | 0.9318181818181818 | 0.9647058823529412 | 0.9565217391304348 |\n",
      "|     10     |        1.0         |        1.0         |        1.0         |        1.0         |\n",
      "+------------+--------------------+--------------------+--------------------+--------------------+\n",
      "Rata-rata Precision logit = 0.9901945080091533\n",
      "Rata-rata Recall logit = 0.9671420131935182\n",
      "Rata-rata F1-Score logit = 0.9783595157048735\n",
      "Rata-rata Akurasi logit = 0.9741407867494825\n",
      "akurasi validasi logit = 0.9615384615384616\n",
      "selisih akurasi logit = 0.012602325211020893\n",
      "\n",
      "\n",
      "\n",
      "\u001b[1m\u001b[95mHasil training data Oversampling dengan model - svm\u001b[0m\n",
      "+------------+--------------------+--------------------+--------------------+--------------------+\n",
      "| Train ke - |     Precision      |       Recall       |      F1-Score      |      Accuracy      |\n",
      "+------------+--------------------+--------------------+--------------------+--------------------+\n",
      "|     1      |        1.0         |        1.0         |        1.0         |        1.0         |\n",
      "|     2      |        1.0         |        1.0         |        1.0         |        1.0         |\n",
      "|     3      |        1.0         | 0.9512195121951219 |       0.975        | 0.9714285714285714 |\n",
      "|     4      |        1.0         |       0.975        | 0.9873417721518987 | 0.9857142857142858 |\n",
      "|     5      |        1.0         |        1.0         |        1.0         |        1.0         |\n",
      "|     6      | 0.9791666666666666 |        1.0         | 0.9894736842105264 | 0.9855072463768116 |\n",
      "|     7      |        1.0         |        1.0         |        1.0         |        1.0         |\n",
      "|     8      |        1.0         | 0.9761904761904762 | 0.9879518072289156 | 0.9855072463768116 |\n",
      "|     9      |        1.0         | 0.9772727272727273 | 0.9885057471264368 | 0.9855072463768116 |\n",
      "|     10     |        1.0         |        1.0         |        1.0         |        1.0         |\n",
      "+------------+--------------------+--------------------+--------------------+--------------------+\n",
      "Rata-rata Precision svm = 0.9979166666666666\n",
      "Rata-rata Recall svm = 0.9879682715658324\n",
      "Rata-rata F1-Score svm = 0.9928273010717777\n",
      "Rata-rata Akurasi svm = 0.9913664596273293\n",
      "akurasi validasi svm = 0.9871794871794872\n",
      "selisih akurasi svm = 0.004186972447842052\n",
      "\n",
      "\n",
      "\n",
      "\u001b[1m\u001b[95mHasil training data Oversampling dengan model - rf\u001b[0m\n",
      "+------------+-----------+--------+----------+----------+\n",
      "| Train ke - | Precision | Recall | F1-Score | Accuracy |\n",
      "+------------+-----------+--------+----------+----------+\n",
      "|     1      |    1.0    |  1.0   |   1.0    |   1.0    |\n",
      "|     2      |    1.0    |  1.0   |   1.0    |   1.0    |\n",
      "|     3      |    1.0    |  1.0   |   1.0    |   1.0    |\n",
      "|     4      |    1.0    |  1.0   |   1.0    |   1.0    |\n",
      "|     5      |    1.0    |  1.0   |   1.0    |   1.0    |\n",
      "|     6      |    1.0    |  1.0   |   1.0    |   1.0    |\n",
      "|     7      |    1.0    |  1.0   |   1.0    |   1.0    |\n",
      "|     8      |    1.0    |  1.0   |   1.0    |   1.0    |\n",
      "|     9      |    1.0    |  1.0   |   1.0    |   1.0    |\n",
      "|     10     |    1.0    |  1.0   |   1.0    |   1.0    |\n",
      "+------------+-----------+--------+----------+----------+\n",
      "Rata-rata Precision rf = 1.0\n",
      "Rata-rata Recall rf = 1.0\n",
      "Rata-rata F1-Score rf = 1.0\n",
      "Rata-rata Akurasi rf = 1.0\n",
      "akurasi validasi rf = 1.0\n",
      "selisih akurasi rf = 0.0\n",
      "\n",
      "\n",
      "\n",
      "\u001b[1m\u001b[95mHasil training data Oversampling dengan model - slp\u001b[0m\n",
      "+------------+--------------------+--------------------+--------------------+--------------------+\n",
      "| Train ke - |     Precision      |       Recall       |      F1-Score      |      Accuracy      |\n",
      "+------------+--------------------+--------------------+--------------------+--------------------+\n",
      "|     1      |       0.975        |        1.0         | 0.9873417721518987 | 0.9857142857142858 |\n",
      "|     2      |        1.0         | 0.9583333333333334 | 0.9787234042553191 | 0.9714285714285714 |\n",
      "|     3      | 0.9736842105263158 | 0.9024390243902439 | 0.9367088607594938 | 0.9285714285714286 |\n",
      "|     4      |        1.0         |       0.975        | 0.9873417721518987 | 0.9857142857142858 |\n",
      "|     5      |        1.0         | 0.9803921568627451 |  0.99009900990099  | 0.9855072463768116 |\n",
      "|     6      |        1.0         | 0.9574468085106383 | 0.9782608695652174 | 0.9710144927536232 |\n",
      "|     7      | 0.9777777777777777 | 0.9166666666666666 | 0.946236559139785  | 0.927536231884058  |\n",
      "|     8      |       0.875        |        1.0         | 0.9333333333333333 | 0.9130434782608695 |\n",
      "|     9      | 0.9444444444444444 | 0.7727272727272727 |        0.85        | 0.8260869565217391 |\n",
      "|     10     | 0.9473684210526315 | 0.9473684210526315 | 0.9473684210526315 | 0.9420289855072463 |\n",
      "+------------+--------------------+--------------------+--------------------+--------------------+\n",
      "Rata-rata Precision slp = 0.969327485380117\n",
      "Rata-rata Recall slp = 0.9410373683543533\n",
      "Rata-rata F1-Score slp = 0.9535414002310567\n",
      "Rata-rata Akurasi slp = 0.9436645962732919\n",
      "akurasi validasi slp = 0.8205128205128205\n",
      "selisih akurasi slp = 0.12315177576047143\n",
      "\n",
      "\n",
      "\n",
      "\u001b[1m\u001b[95mHasil training data Oversampling dengan model - mlp\u001b[0m\n",
      "+------------+--------------------+--------------------+--------------------+--------------------+\n",
      "| Train ke - |     Precision      |       Recall       |      F1-Score      |      Accuracy      |\n",
      "+------------+--------------------+--------------------+--------------------+--------------------+\n",
      "|     1      |        1.0         |        1.0         |        1.0         |        1.0         |\n",
      "|     2      |        1.0         |        1.0         |        1.0         |        1.0         |\n",
      "|     3      | 0.9743589743589743 | 0.926829268292683  | 0.9500000000000001 | 0.9428571428571428 |\n",
      "|     4      |        1.0         |       0.975        | 0.9873417721518987 | 0.9857142857142858 |\n",
      "|     5      |        1.0         |        1.0         |        1.0         |        1.0         |\n",
      "|     6      | 0.9791666666666666 |        1.0         | 0.9894736842105264 | 0.9855072463768116 |\n",
      "|     7      |        1.0         |        1.0         |        1.0         |        1.0         |\n",
      "|     8      |        1.0         | 0.9761904761904762 | 0.9879518072289156 | 0.9855072463768116 |\n",
      "|     9      |        1.0         | 0.9772727272727273 | 0.9885057471264368 | 0.9855072463768116 |\n",
      "|     10     |        1.0         |        1.0         |        1.0         |        1.0         |\n",
      "+------------+--------------------+--------------------+--------------------+--------------------+\n",
      "Rata-rata Precision mlp = 0.995352564102564\n",
      "Rata-rata Recall mlp = 0.9855292471755887\n",
      "Rata-rata F1-Score mlp = 0.9903273010717777\n",
      "Rata-rata Akurasi mlp = 0.9885093167701864\n",
      "akurasi validasi mlp = 0.9871794871794872\n",
      "selisih akurasi mlp = 0.0013298295906991608\n",
      "\n",
      "\n",
      "\n"
     ]
    },
    {
     "data": {
      "image/png": "[encoded data removed]",
      "text/plain": [
       "<Figure size 144x144 with 2 Axes>"
      ]
     },
     "metadata": {
      "needs_background": "light"
     },
     "output_type": "display_data"
    },
    {
     "data": {
      "image/png": "[encoded data removed]",
      "text/plain": [
       "<Figure size 144x144 with 2 Axes>"
      ]
     },
     "metadata": {
      "needs_background": "light"
     },
     "output_type": "display_data"
    },
    {
     "data": {
      "image/png": "[encoded data removed]",
      "text/plain": [
       "<Figure size 144x144 with 2 Axes>"
      ]
     },
     "metadata": {
      "needs_background": "light"
     },
     "output_type": "display_data"
    },
    {
     "data": {
      "image/png": "[encoded data removed]",
      "text/plain": [
       "<Figure size 144x144 with 2 Axes>"
      ]
     },
     "metadata": {
      "needs_background": "light"
     },
     "output_type": "display_data"
    },
    {
     "data": {
      "image/png": "[encoded data removed]",
      "text/plain": [
       "<Figure size 144x144 with 2 Axes>"
      ]
     },
     "metadata": {
      "needs_background": "light"
     },
     "output_type": "display_data"
    },
    {
     "data": {
      "image/png": "[encoded data removed]",
      "text/plain": [
       "<Figure size 144x144 with 2 Axes>"
      ]
     },
     "metadata": {
      "needs_background": "light"
     },
     "output_type": "display_data"
    }
   ],
   "source": [
    "# Memodelkan data dengan 8 atribut saja yang disertakan berdasarkan feature selection\n",
    "class_model_OS(xdev_f, xunseen_f, ydev_f, yunseen_f, 10, models, modelname)\n"
   ]
  },
  {
   "cell_type": "markdown",
   "metadata": {},
   "source": [
    "Model > Rata-rata Akurasi > Akurasi Validasi > Selisih\n",
    "1. KNN   > 0.993 > 0.987 > 0.006\n",
    "2. Logit > 0.967 > 0.949 > 0.018\n",
    "3. SVM   > 0.991 > 0.987 > 0.004\n",
    "4. rf    > 0.999 > 1.000 > -0.001\n",
    "5. slp   > 0.932 > 0.949 > -0.017\n",
    "6. mlp   > 0.990 > 0.987 > 0.003"
   ]
  },
  {
   "cell_type": "code",
   "execution_count": 29,
   "metadata": {},
   "outputs": [
    {
     "name": "stdout",
     "output_type": "stream",
     "text": [
      "\u001b[1m\u001b[95mHasil training data Oversampling dengan model - knn\u001b[0m\n",
      "+------------+--------------------+--------------------+--------------------+--------------------+\n",
      "| Train ke - |     Precision      |       Recall       |      F1-Score      |      Accuracy      |\n",
      "+------------+--------------------+--------------------+--------------------+--------------------+\n",
      "|     1      |        1.0         | 0.9743589743589743 | 0.9870129870129869 | 0.9857142857142858 |\n",
      "|     2      |        1.0         | 0.8958333333333334 | 0.945054945054945  | 0.9285714285714286 |\n",
      "|     3      | 0.9487179487179487 | 0.9024390243902439 | 0.9249999999999999 | 0.9142857142857143 |\n",
      "|     4      | 0.9736842105263158 |       0.925        | 0.9487179487179489 | 0.9428571428571428 |\n",
      "|     5      |        0.98        | 0.9607843137254902 | 0.9702970297029702 | 0.9565217391304348 |\n",
      "|     6      | 0.9583333333333334 | 0.9787234042553191 | 0.968421052631579  | 0.9565217391304348 |\n",
      "|     7      | 0.9591836734693877 | 0.9791666666666666 | 0.9690721649484536 | 0.9565217391304348 |\n",
      "|     8      |        1.0         | 0.9761904761904762 | 0.9879518072289156 | 0.9855072463768116 |\n",
      "|     9      | 0.9761904761904762 | 0.9318181818181818 | 0.9534883720930233 | 0.9420289855072463 |\n",
      "|     10     | 0.9736842105263158 | 0.9736842105263158 | 0.9736842105263158 | 0.9710144927536232 |\n",
      "+------------+--------------------+--------------------+--------------------+--------------------+\n",
      "Rata-rata Precision knn = 0.9769793852763776\n",
      "Rata-rata Recall knn = 0.9497998585265002\n",
      "Rata-rata F1-Score knn = 0.9628700517917137\n",
      "Rata-rata Akurasi knn = 0.9539544513457556\n",
      "akurasi validasi knn = 0.9102564102564102\n",
      "selisih akurasi knn = 0.043698041089345385\n",
      "\n",
      "\n",
      "\n",
      "\u001b[1m\u001b[95mHasil training data Oversampling dengan model - logit\u001b[0m\n",
      "+------------+--------------------+--------------------+--------------------+--------------------+\n",
      "| Train ke - |     Precision      |       Recall       |      F1-Score      |      Accuracy      |\n",
      "+------------+--------------------+--------------------+--------------------+--------------------+\n",
      "|     1      | 0.972972972972973  | 0.9230769230769231 | 0.9473684210526315 | 0.9428571428571428 |\n",
      "|     2      |        1.0         | 0.8958333333333334 | 0.945054945054945  | 0.9285714285714286 |\n",
      "|     3      | 0.9444444444444444 | 0.8292682926829268 | 0.883116883116883  | 0.8714285714285714 |\n",
      "|     4      | 0.972972972972973  |        0.9         | 0.935064935064935  | 0.9285714285714286 |\n",
      "|     5      |        1.0         | 0.9803921568627451 |  0.99009900990099  | 0.9855072463768116 |\n",
      "|     6      | 0.9772727272727273 | 0.9148936170212766 | 0.945054945054945  | 0.927536231884058  |\n",
      "|     7      | 0.9787234042553191 | 0.9583333333333334 | 0.968421052631579  | 0.9565217391304348 |\n",
      "|     8      |        1.0         | 0.9523809523809523 | 0.975609756097561  | 0.9710144927536232 |\n",
      "|     9      |        1.0         | 0.9318181818181818 | 0.9647058823529412 | 0.9565217391304348 |\n",
      "|     10     | 0.9487179487179487 | 0.9736842105263158 | 0.9610389610389611 | 0.9565217391304348 |\n",
      "+------------+--------------------+--------------------+--------------------+--------------------+\n",
      "Rata-rata Precision logit = 0.9795104470636385\n",
      "Rata-rata Recall logit = 0.9259681001035988\n",
      "Rata-rata F1-Score logit = 0.951553479136637\n",
      "Rata-rata Akurasi logit = 0.942505175983437\n",
      "akurasi validasi logit = 0.9487179487179487\n",
      "selisih akurasi logit = -0.006212772734511707\n",
      "\n",
      "\n",
      "\n",
      "\u001b[1m\u001b[95mHasil training data Oversampling dengan model - svm\u001b[0m\n",
      "+------------+--------------------+--------------------+--------------------+--------------------+\n",
      "| Train ke - |     Precision      |       Recall       |      F1-Score      |      Accuracy      |\n",
      "+------------+--------------------+--------------------+--------------------+--------------------+\n",
      "|     1      |        1.0         | 0.9487179487179487 | 0.9736842105263158 | 0.9714285714285714 |\n",
      "|     2      |        1.0         | 0.8541666666666666 | 0.9213483146067416 |        0.9         |\n",
      "|     3      | 0.9743589743589743 | 0.926829268292683  | 0.9500000000000001 | 0.9428571428571428 |\n",
      "|     4      |        1.0         |        0.9         | 0.9473684210526316 | 0.9428571428571428 |\n",
      "|     5      | 0.9791666666666666 | 0.9215686274509803 | 0.9494949494949494 | 0.927536231884058  |\n",
      "|     6      | 0.9787234042553191 | 0.9787234042553191 | 0.9787234042553191 | 0.9710144927536232 |\n",
      "|     7      | 0.9777777777777777 | 0.9166666666666666 | 0.946236559139785  | 0.927536231884058  |\n",
      "|     8      |        1.0         | 0.9285714285714286 | 0.962962962962963  | 0.9565217391304348 |\n",
      "|     9      |        1.0         | 0.9545454545454546 | 0.9767441860465117 | 0.9710144927536232 |\n",
      "|     10     |        1.0         | 0.9473684210526315 | 0.972972972972973  | 0.9710144927536232 |\n",
      "+------------+--------------------+--------------------+--------------------+--------------------+\n",
      "Rata-rata Precision svm = 0.9910026823058737\n",
      "Rata-rata Recall svm = 0.9277157886219779\n",
      "Rata-rata F1-Score svm = 0.9579535981058191\n",
      "Rata-rata Akurasi svm = 0.9481780538302278\n",
      "akurasi validasi svm = 0.9230769230769231\n",
      "selisih akurasi svm = 0.025101130753304668\n",
      "\n",
      "\n",
      "\n",
      "\u001b[1m\u001b[95mHasil training data Oversampling dengan model - rf\u001b[0m\n",
      "+------------+--------------------+--------------------+--------------------+--------------------+\n",
      "| Train ke - |     Precision      |       Recall       |      F1-Score      |      Accuracy      |\n",
      "+------------+--------------------+--------------------+--------------------+--------------------+\n",
      "|     1      | 0.9743589743589743 | 0.9743589743589743 | 0.9743589743589743 | 0.9714285714285714 |\n",
      "|     2      |        1.0         | 0.9583333333333334 | 0.9787234042553191 | 0.9714285714285714 |\n",
      "|     3      | 0.975609756097561  | 0.975609756097561  | 0.975609756097561  | 0.9714285714285714 |\n",
      "|     4      |        1.0         |        0.95        | 0.9743589743589743 | 0.9714285714285714 |\n",
      "|     5      |        1.0         | 0.9607843137254902 |        0.98        | 0.9710144927536232 |\n",
      "|     6      | 0.9591836734693877 |        1.0         | 0.9791666666666666 | 0.9710144927536232 |\n",
      "|     7      |        1.0         | 0.9583333333333334 | 0.9787234042553191 | 0.9710144927536232 |\n",
      "|     8      | 0.975609756097561  | 0.9523809523809523 | 0.963855421686747  | 0.9565217391304348 |\n",
      "|     9      |        1.0         |        1.0         |        1.0         |        1.0         |\n",
      "|     10     |        1.0         |        1.0         |        1.0         |        1.0         |\n",
      "+------------+--------------------+--------------------+--------------------+--------------------+\n",
      "Rata-rata Precision rf = 0.9884762160023485\n",
      "Rata-rata Recall rf = 0.9729800663229644\n",
      "Rata-rata F1-Score rf = 0.9804796601679561\n",
      "Rata-rata Akurasi rf = 0.975527950310559\n",
      "akurasi validasi rf = 0.9743589743589743\n",
      "selisih akurasi rf = 0.0011689759515847165\n",
      "\n",
      "\n",
      "\n",
      "\u001b[1m\u001b[95mHasil training data Oversampling dengan model - slp\u001b[0m\n",
      "+------------+--------------------+--------------------+--------------------+--------------------+\n",
      "| Train ke - |     Precision      |       Recall       |      F1-Score      |      Accuracy      |\n",
      "+------------+--------------------+--------------------+--------------------+--------------------+\n",
      "|     1      | 0.9696969696969697 | 0.8205128205128205 | 0.8888888888888888 | 0.8857142857142857 |\n",
      "|     2      |        1.0         | 0.6458333333333334 | 0.7848101265822784 | 0.7571428571428571 |\n",
      "|     3      | 0.9444444444444444 | 0.8292682926829268 | 0.883116883116883  | 0.8714285714285714 |\n",
      "|     4      | 0.9333333333333333 |        0.7         |        0.8         |        0.8         |\n",
      "|     5      | 0.9803921568627451 | 0.9803921568627451 | 0.9803921568627451 | 0.9710144927536232 |\n",
      "|     6      | 0.975609756097561  | 0.851063829787234  | 0.9090909090909092 | 0.8840579710144928 |\n",
      "|     7      | 0.9767441860465116 |       0.875        | 0.923076923076923  | 0.8985507246376812 |\n",
      "|     8      |        0.7         |        1.0         | 0.8235294117647058 | 0.7391304347826086 |\n",
      "|     9      |        1.0         | 0.8863636363636364 | 0.9397590361445783 | 0.927536231884058  |\n",
      "|     10     |        1.0         | 0.868421052631579  | 0.9295774647887324 | 0.927536231884058  |\n",
      "+------------+--------------------+--------------------+--------------------+--------------------+\n",
      "Rata-rata Precision slp = 0.9480220846481565\n",
      "Rata-rata Recall slp = 0.8456855122174275\n",
      "Rata-rata F1-Score slp = 0.8862241800316644\n",
      "Rata-rata Akurasi slp = 0.8662111801242235\n",
      "akurasi validasi slp = 0.8717948717948718\n",
      "selisih akurasi slp = -0.005583691670648316\n",
      "\n",
      "\n",
      "\n",
      "\u001b[1m\u001b[95mHasil training data Oversampling dengan model - mlp\u001b[0m\n"
     ]
    },
    {
     "name": "stdout",
     "output_type": "stream",
     "text": [
      "+------------+--------------------+--------------------+--------------------+--------------------+\n",
      "| Train ke - |     Precision      |       Recall       |      F1-Score      |      Accuracy      |\n",
      "+------------+--------------------+--------------------+--------------------+--------------------+\n",
      "|     1      | 0.9736842105263158 | 0.9487179487179487 | 0.9610389610389611 | 0.9571428571428572 |\n",
      "|     2      |        1.0         |       0.875        | 0.9333333333333333 | 0.9142857142857143 |\n",
      "|     3      | 0.9487179487179487 | 0.9024390243902439 | 0.9249999999999999 | 0.9142857142857143 |\n",
      "|     4      |        1.0         |       0.925        | 0.961038961038961  | 0.9571428571428572 |\n",
      "|     5      | 0.9607843137254902 | 0.9607843137254902 | 0.9607843137254902 | 0.9420289855072463 |\n",
      "|     6      | 0.9387755102040817 | 0.9787234042553191 | 0.9583333333333333 | 0.9420289855072463 |\n",
      "|     7      |        1.0         | 0.9583333333333334 | 0.9787234042553191 | 0.9710144927536232 |\n",
      "|     8      |        1.0         | 0.9285714285714286 | 0.962962962962963  | 0.9565217391304348 |\n",
      "|     9      | 0.9767441860465116 | 0.9545454545454546 | 0.9655172413793104 | 0.9565217391304348 |\n",
      "|     10     |        1.0         | 0.9736842105263158 | 0.9866666666666666 | 0.9855072463768116 |\n",
      "+------------+--------------------+--------------------+--------------------+--------------------+\n",
      "Rata-rata Precision mlp = 0.9798706169220349\n",
      "Rata-rata Recall mlp = 0.9405799118065534\n",
      "Rata-rata F1-Score mlp = 0.9593399177734337\n",
      "Rata-rata Akurasi mlp = 0.9496480331262941\n",
      "akurasi validasi mlp = 0.9615384615384616\n",
      "selisih akurasi mlp = -0.011890428412167475\n",
      "\n",
      "\n",
      "\n"
     ]
    },
    {
     "data": {
      "image/png": "[encoded data removed]",
      "text/plain": [
       "<Figure size 144x144 with 2 Axes>"
      ]
     },
     "metadata": {
      "needs_background": "light"
     },
     "output_type": "display_data"
    },
    {
     "data": {
      "image/png": "[encoded data removed]",
      "text/plain": [
       "<Figure size 144x144 with 2 Axes>"
      ]
     },
     "metadata": {
      "needs_background": "light"
     },
     "output_type": "display_data"
    },
    {
     "data": {
      "image/png": "[encoded data removed]",
      "text/plain": [
       "<Figure size 144x144 with 2 Axes>"
      ]
     },
     "metadata": {
      "needs_background": "light"
     },
     "output_type": "display_data"
    },
    {
     "data": {
      "image/png": "[encoded data removed]",
      "text/plain": [
       "<Figure size 144x144 with 2 Axes>"
      ]
     },
     "metadata": {
      "needs_background": "light"
     },
     "output_type": "display_data"
    },
    {
     "data": {
      "image/png": "[encoded data removed]",
      "text/plain": [
       "<Figure size 144x144 with 2 Axes>"
      ]
     },
     "metadata": {
      "needs_background": "light"
     },
     "output_type": "display_data"
    },
    {
     "data": {
      "image/png": "[encoded data removed]",
      "text/plain": [
       "<Figure size 144x144 with 2 Axes>"
      ]
     },
     "metadata": {
      "needs_background": "light"
     },
     "output_type": "display_data"
    }
   ],
   "source": [
    "# Memodelkan data dengan 8 atribut saja yang disertakan\n",
    "# Sesuai Paper\n",
    "class_model_OS(xdev, xunseen, ydev, yunseen, 10, models, modelname)\n"
   ]
  },
  {
   "cell_type": "markdown",
   "metadata": {},
   "source": [
    "## UnderSampling"
   ]
  },
  {
   "cell_type": "code",
   "execution_count": 30,
   "metadata": {},
   "outputs": [],
   "source": [
    "# Pendefinisian Model Classifier dengan input :\n",
    "# xdev = training data untuk attribute selain target attribute\n",
    "# xunseen = validation data untuk attribute selain target attribute\n",
    "# ydev = training data untuk target attribute\n",
    "# yunseen = validation data untuk target attribute\n",
    "# n = nilai k untuk K-Flod Cross Validation\n",
    "# models = model classifier yang digunakan\n",
    "# list_model = Daftar nama model classifier yang digunakan\n",
    "\n",
    "def class_model_US (xdev, xunseen, ydev, yunseen, n, models, list_model):\n",
    "\n",
    "    # train model terhadap dev data\n",
    "    for i in range (len(list_model)):\n",
    "        kf = KFold(n_splits=n)     \n",
    "        ntrain, psc, rsc, fsc, acc = [], [], [], [], []\n",
    "        \n",
    "        print (color.BOLD + color.PURPLE + \"Hasil training data UnderSampling dengan model -\", list_model[i] + color.END)\n",
    "        j = 0\n",
    "        for train_index, test_index in kf.split(xdev):\n",
    "            \n",
    "            X_train, X_test = xdev[train_index], xdev[test_index]\n",
    "            Y_train, Y_test = ydev[train_index], ydev[test_index] \n",
    "            \n",
    "            # UNDER SAMPLING\n",
    "            X_US, Y_US = ClusterCentroids().fit_resample(X_train, Y_train)\n",
    "            \n",
    "            model = models[list_model[i]]\n",
    "            model.fit(X_US, Y_US)\n",
    "            y_pred = model.predict(X_test)\n",
    "            \n",
    "            j = j+1\n",
    "            ntrain.append(j)\n",
    "            psc.append(precision_score(Y_test, y_pred))\n",
    "            rsc.append(recall_score(Y_test, y_pred))\n",
    "            fsc.append(f1_score(Y_test, y_pred))\n",
    "            acc.append(model.score(X_test, Y_test))\n",
    "        \n",
    "        # Tabulasi hasil per model\n",
    "        from prettytable import PrettyTable\n",
    "        table = PrettyTable(['Train ke -', 'Precision', 'Recall', 'F1-Score', 'Accuracy'])\n",
    "        for r in range (n):\n",
    "            table.add_row([ntrain[r], psc[r], rsc[r], fsc[r], acc[r]])\n",
    " \n",
    "        print(table)\n",
    "        print('Rata-rata Precision', list_model[i], \"=\", np.mean(psc))\n",
    "        print('Rata-rata Recall', list_model[i], \"=\", np.mean(rsc))\n",
    "        print('Rata-rata F1-Score', list_model[i], \"=\", np.mean(fsc))\n",
    "        print('Rata-rata Akurasi', list_model[i], \"=\", np.mean(acc))\n",
    "        \n",
    "        # Akurasi data validasi\n",
    "        yay = model.predict(xunseen)\n",
    "        print('akurasi validasi',list_model[i] ,\"=\", accuracy_score(yunseen, yay))\n",
    "        print('selisih akurasi', list_model[i], '=', (np.mean(acc) - accuracy_score(yunseen,yay)))\n",
    "        print(\"\\n\\n\")\n",
    "        \n",
    "        #Build confusion matrix validation data \n",
    "        f, axes = plt.subplots(1, 1, figsize=(2,2))\n",
    "        sns.heatmap(confusion_matrix(yunseen, yay), annot=True, \n",
    "                    fmt='.2f').set(title = list_model[i])\n",
    "  "
   ]
  },
  {
   "cell_type": "code",
   "execution_count": 31,
   "metadata": {
    "scrolled": true
   },
   "outputs": [
    {
     "name": "stdout",
     "output_type": "stream",
     "text": [
      "\u001b[1m\u001b[95mHasil training data UnderSampling dengan model - knn\u001b[0m\n",
      "+------------+--------------------+--------------------+--------------------+--------------------+\n",
      "| Train ke - |     Precision      |       Recall       |      F1-Score      |      Accuracy      |\n",
      "+------------+--------------------+--------------------+--------------------+--------------------+\n",
      "|     1      |        1.0         | 0.6666666666666666 |        0.8         | 0.8142857142857143 |\n",
      "|     2      |        1.0         |        0.5         | 0.6666666666666666 | 0.6571428571428571 |\n",
      "|     3      |        1.0         | 0.5853658536585366 | 0.7384615384615384 | 0.7571428571428571 |\n",
      "|     4      |        1.0         |       0.625        | 0.7692307692307693 | 0.7857142857142857 |\n",
      "|     5      |        1.0         | 0.6666666666666666 |        0.8         | 0.7536231884057971 |\n",
      "|     6      |        1.0         | 0.7446808510638298 | 0.8536585365853657 | 0.8260869565217391 |\n",
      "|     7      |        1.0         | 0.7291666666666666 | 0.8433734939759037 | 0.8115942028985508 |\n",
      "|     8      |        1.0         | 0.5476190476190477 | 0.7076923076923077 | 0.7246376811594203 |\n",
      "|     9      | 0.9333333333333333 | 0.6363636363636364 | 0.7567567567567568 | 0.7391304347826086 |\n",
      "|     10     | 0.9565217391304348 | 0.5789473684210527 | 0.721311475409836  | 0.7536231884057971 |\n",
      "+------------+--------------------+--------------------+--------------------+--------------------+\n",
      "Rata-rata Precision knn = 0.9889855072463769\n",
      "Rata-rata Recall knn = 0.6280476757126104\n",
      "Rata-rata F1-Score knn = 0.7657151544779144\n",
      "Rata-rata Akurasi knn = 0.7622981366459627\n",
      "akurasi validasi knn = 0.8205128205128205\n",
      "selisih akurasi knn = -0.0582146838668578\n",
      "\n",
      "\n",
      "\n",
      "\u001b[1m\u001b[95mHasil training data UnderSampling dengan model - logit\u001b[0m\n",
      "+------------+--------------------+--------------------+--------------------+--------------------+\n",
      "| Train ke - |     Precision      |       Recall       |      F1-Score      |      Accuracy      |\n",
      "+------------+--------------------+--------------------+--------------------+--------------------+\n",
      "|     1      |        1.0         | 0.9743589743589743 | 0.9870129870129869 | 0.9857142857142858 |\n",
      "|     2      |        1.0         |       0.9375       | 0.967741935483871  | 0.9571428571428572 |\n",
      "|     3      | 0.9736842105263158 | 0.9024390243902439 | 0.9367088607594938 | 0.9285714285714286 |\n",
      "|     4      |        1.0         |        0.95        | 0.9743589743589743 | 0.9714285714285714 |\n",
      "|     5      |        1.0         | 0.9803921568627451 |  0.99009900990099  | 0.9855072463768116 |\n",
      "|     6      |        1.0         |        1.0         |        1.0         |        1.0         |\n",
      "|     7      |        1.0         |        1.0         |        1.0         |        1.0         |\n",
      "|     8      |        1.0         | 0.9761904761904762 | 0.9879518072289156 | 0.9855072463768116 |\n",
      "|     9      |        1.0         | 0.9090909090909091 | 0.9523809523809523 | 0.9420289855072463 |\n",
      "|     10     |        1.0         |        1.0         |        1.0         |        1.0         |\n",
      "+------------+--------------------+--------------------+--------------------+--------------------+\n",
      "Rata-rata Precision logit = 0.9973684210526315\n",
      "Rata-rata Recall logit = 0.962997154089335\n",
      "Rata-rata F1-Score logit = 0.9796254527126184\n",
      "Rata-rata Akurasi logit = 0.9755900621118012\n",
      "akurasi validasi logit = 0.9743589743589743\n",
      "selisih akurasi logit = 0.001231087752826876\n",
      "\n",
      "\n",
      "\n",
      "\u001b[1m\u001b[95mHasil training data UnderSampling dengan model - svm\u001b[0m\n",
      "+------------+--------------------+--------------------+--------------------+--------------------+\n",
      "| Train ke - |     Precision      |       Recall       |      F1-Score      |      Accuracy      |\n",
      "+------------+--------------------+--------------------+--------------------+--------------------+\n",
      "|     1      |        1.0         | 0.8974358974358975 | 0.945945945945946  | 0.9428571428571428 |\n",
      "|     2      | 0.9743589743589743 | 0.7916666666666666 | 0.8735632183908045 | 0.8428571428571429 |\n",
      "|     3      | 0.9722222222222222 | 0.8536585365853658 | 0.9090909090909091 |        0.9         |\n",
      "|     4      |      0.96875       |       0.775        | 0.8611111111111113 | 0.8571428571428571 |\n",
      "|     5      |        1.0         | 0.9411764705882353 | 0.9696969696969697 | 0.9565217391304348 |\n",
      "|     6      | 0.9767441860465116 | 0.8936170212765957 | 0.9333333333333332 | 0.9130434782608695 |\n",
      "|     7      | 0.9772727272727273 | 0.8958333333333334 | 0.9347826086956522 | 0.9130434782608695 |\n",
      "|     8      |        1.0         | 0.8095238095238095 | 0.8947368421052632 | 0.8840579710144928 |\n",
      "|     9      | 0.9523809523809523 | 0.9090909090909091 | 0.9302325581395349 | 0.9130434782608695 |\n",
      "|     10     | 0.9696969696969697 | 0.8421052631578947 | 0.9014084507042254 | 0.8985507246376812 |\n",
      "+------------+--------------------+--------------------+--------------------+--------------------+\n",
      "Rata-rata Precision svm = 0.9791426031978357\n",
      "Rata-rata Recall svm = 0.8609107907658707\n",
      "Rata-rata F1-Score svm = 0.9153901947213751\n",
      "Rata-rata Akurasi svm = 0.902111801242236\n",
      "akurasi validasi svm = 0.8974358974358975\n",
      "selisih akurasi svm = 0.004675903806338533\n",
      "\n",
      "\n",
      "\n",
      "\u001b[1m\u001b[95mHasil training data UnderSampling dengan model - rf\u001b[0m\n",
      "+------------+-----------+--------------------+--------------------+--------------------+\n",
      "| Train ke - | Precision |       Recall       |      F1-Score      |      Accuracy      |\n",
      "+------------+-----------+--------------------+--------------------+--------------------+\n",
      "|     1      |    1.0    |        1.0         |        1.0         |        1.0         |\n",
      "|     2      |    1.0    |        1.0         |        1.0         |        1.0         |\n",
      "|     3      |    1.0    |        1.0         |        1.0         |        1.0         |\n",
      "|     4      |    1.0    |        1.0         |        1.0         |        1.0         |\n",
      "|     5      |    1.0    |        1.0         |        1.0         |        1.0         |\n",
      "|     6      |    1.0    |        1.0         |        1.0         |        1.0         |\n",
      "|     7      |    1.0    |        1.0         |        1.0         |        1.0         |\n",
      "|     8      |    1.0    | 0.9761904761904762 | 0.9879518072289156 | 0.9855072463768116 |\n",
      "|     9      |    1.0    |        1.0         |        1.0         |        1.0         |\n",
      "|     10     |    1.0    |        1.0         |        1.0         |        1.0         |\n",
      "+------------+-----------+--------------------+--------------------+--------------------+\n",
      "Rata-rata Precision rf = 1.0\n",
      "Rata-rata Recall rf = 0.9976190476190476\n",
      "Rata-rata F1-Score rf = 0.9987951807228915\n",
      "Rata-rata Akurasi rf = 0.9985507246376812\n",
      "akurasi validasi rf = 1.0\n",
      "selisih akurasi rf = -0.0014492753623187582\n",
      "\n",
      "\n",
      "\n",
      "\u001b[1m\u001b[95mHasil training data UnderSampling dengan model - slp\u001b[0m\n",
      "+------------+--------------------+--------------------+--------------------+--------------------+\n",
      "| Train ke - |     Precision      |       Recall       |      F1-Score      |      Accuracy      |\n",
      "+------------+--------------------+--------------------+--------------------+--------------------+\n",
      "|     1      | 0.9666666666666667 | 0.7435897435897436 | 0.8405797101449275 | 0.8428571428571429 |\n",
      "|     2      |        1.0         |       0.625        | 0.7692307692307693 | 0.7428571428571429 |\n",
      "|     3      | 0.9705882352941176 | 0.8048780487804879 | 0.8800000000000001 | 0.8714285714285714 |\n",
      "|     4      | 0.926829268292683  |        0.95        | 0.9382716049382716 | 0.9285714285714286 |\n",
      "|     5      |        1.0         | 0.7843137254901961 | 0.8791208791208792 | 0.8405797101449275 |\n",
      "|     6      | 0.9545454545454546 | 0.8936170212765957 | 0.9230769230769231 | 0.8985507246376812 |\n",
      "|     7      | 0.9767441860465116 |       0.875        | 0.923076923076923  | 0.8985507246376812 |\n",
      "|     8      |        1.0         | 0.7619047619047619 | 0.8648648648648648 | 0.855072463768116  |\n",
      "|     9      | 0.9736842105263158 | 0.8409090909090909 | 0.9024390243902439 | 0.8840579710144928 |\n",
      "|     10     | 0.9705882352941176 | 0.868421052631579  | 0.9166666666666667 | 0.9130434782608695 |\n",
      "+------------+--------------------+--------------------+--------------------+--------------------+\n",
      "Rata-rata Precision slp = 0.9739646256665866\n",
      "Rata-rata Recall slp = 0.8147633444582455\n",
      "Rata-rata F1-Score slp = 0.8837327365510468\n",
      "Rata-rata Akurasi slp = 0.8675569358178056\n",
      "akurasi validasi slp = 0.8846153846153846\n",
      "selisih akurasi slp = -0.017058448797579007\n",
      "\n",
      "\n",
      "\n",
      "\u001b[1m\u001b[95mHasil training data UnderSampling dengan model - mlp\u001b[0m\n"
     ]
    },
    {
     "name": "stdout",
     "output_type": "stream",
     "text": [
      "+------------+--------------------+--------------------+--------------------+--------------------+\n",
      "| Train ke - |     Precision      |       Recall       |      F1-Score      |      Accuracy      |\n",
      "+------------+--------------------+--------------------+--------------------+--------------------+\n",
      "|     1      |        1.0         | 0.8461538461538461 | 0.9166666666666666 | 0.9142857142857143 |\n",
      "|     2      |        1.0         |       0.875        | 0.9333333333333333 | 0.9142857142857143 |\n",
      "|     3      | 0.9736842105263158 | 0.9024390243902439 | 0.9367088607594938 | 0.9285714285714286 |\n",
      "|     4      |        1.0         |       0.925        | 0.961038961038961  | 0.9571428571428572 |\n",
      "|     5      |        1.0         | 0.9803921568627451 |  0.99009900990099  | 0.9855072463768116 |\n",
      "|     6      |        1.0         | 0.8936170212765957 | 0.9438202247191011 | 0.927536231884058  |\n",
      "|     7      |        1.0         |        1.0         |        1.0         |        1.0         |\n",
      "|     8      |        1.0         | 0.8809523809523809 | 0.9367088607594937 | 0.927536231884058  |\n",
      "|     9      |        1.0         | 0.8409090909090909 | 0.9135802469135803 | 0.8985507246376812 |\n",
      "|     10     |        1.0         | 0.9736842105263158 | 0.9866666666666666 | 0.9855072463768116 |\n",
      "+------------+--------------------+--------------------+--------------------+--------------------+\n",
      "Rata-rata Precision mlp = 0.9973684210526315\n",
      "Rata-rata Recall mlp = 0.9118147731071218\n",
      "Rata-rata F1-Score mlp = 0.9518622830758288\n",
      "Rata-rata Akurasi mlp = 0.9438923395445136\n",
      "akurasi validasi mlp = 0.9615384615384616\n",
      "selisih akurasi mlp = -0.017646121993947994\n",
      "\n",
      "\n",
      "\n"
     ]
    },
    {
     "data": {
      "image/png": "[encoded data removed]",
      "text/plain": [
       "<Figure size 144x144 with 2 Axes>"
      ]
     },
     "metadata": {
      "needs_background": "light"
     },
     "output_type": "display_data"
    },
    {
     "data": {
      "image/png": "[encoded data removed]",
      "text/plain": [
       "<Figure size 144x144 with 2 Axes>"
      ]
     },
     "metadata": {
      "needs_background": "light"
     },
     "output_type": "display_data"
    },
    {
     "data": {
      "image/png": "[encoded data removed]",
      "text/plain": [
       "<Figure size 144x144 with 2 Axes>"
      ]
     },
     "metadata": {
      "needs_background": "light"
     },
     "output_type": "display_data"
    },
    {
     "data": {
      "image/png": "[encoded data removed]",
      "text/plain": [
       "<Figure size 144x144 with 2 Axes>"
      ]
     },
     "metadata": {
      "needs_background": "light"
     },
     "output_type": "display_data"
    },
    {
     "data": {
      "image/png": "[encoded data removed]",
      "text/plain": [
       "<Figure size 144x144 with 2 Axes>"
      ]
     },
     "metadata": {
      "needs_background": "light"
     },
     "output_type": "display_data"
    },
    {
     "data": {
      "image/png": "[encoded data removed]",
      "text/plain": [
       "<Figure size 144x144 with 2 Axes>"
      ]
     },
     "metadata": {
      "needs_background": "light"
     },
     "output_type": "display_data"
    }
   ],
   "source": [
    "# Memodelkan data dengan semua atribut disertakan\n",
    "class_model_US(xd, xu, yd, yu, 10, models, modelname)\n"
   ]
  },
  {
   "cell_type": "code",
   "execution_count": 32,
   "metadata": {},
   "outputs": [
    {
     "name": "stdout",
     "output_type": "stream",
     "text": [
      "\u001b[1m\u001b[95mHasil training data UnderSampling dengan model - knn\u001b[0m\n",
      "+------------+-----------+--------------------+--------------------+--------------------+\n",
      "| Train ke - | Precision |       Recall       |      F1-Score      |      Accuracy      |\n",
      "+------------+-----------+--------------------+--------------------+--------------------+\n",
      "|     1      |    1.0    | 0.9230769230769231 | 0.9600000000000001 | 0.9571428571428572 |\n",
      "|     2      |    1.0    | 0.8958333333333334 | 0.945054945054945  | 0.9285714285714286 |\n",
      "|     3      |    1.0    | 0.8780487804878049 | 0.9350649350649352 | 0.9285714285714286 |\n",
      "|     4      |    1.0    |       0.925        | 0.961038961038961  | 0.9571428571428572 |\n",
      "|     5      |    1.0    | 0.9803921568627451 |  0.99009900990099  | 0.9855072463768116 |\n",
      "|     6      |    1.0    | 0.9574468085106383 | 0.9782608695652174 | 0.9710144927536232 |\n",
      "|     7      |    1.0    | 0.9791666666666666 | 0.9894736842105264 | 0.9855072463768116 |\n",
      "|     8      |    1.0    | 0.9285714285714286 | 0.962962962962963  | 0.9565217391304348 |\n",
      "|     9      |    1.0    | 0.8863636363636364 | 0.9397590361445783 | 0.927536231884058  |\n",
      "|     10     |    1.0    |        1.0         |        1.0         |        1.0         |\n",
      "+------------+-----------+--------------------+--------------------+--------------------+\n",
      "Rata-rata Precision knn = 1.0\n",
      "Rata-rata Recall knn = 0.9353899733873178\n",
      "Rata-rata F1-Score knn = 0.9661714403943116\n",
      "Rata-rata Akurasi knn = 0.9597515527950311\n",
      "akurasi validasi knn = 0.9487179487179487\n",
      "selisih akurasi knn = 0.011033604077082426\n",
      "\n",
      "\n",
      "\n",
      "\u001b[1m\u001b[95mHasil training data UnderSampling dengan model - logit\u001b[0m\n",
      "+------------+--------------------+--------------------+--------------------+--------------------+\n",
      "| Train ke - |     Precision      |       Recall       |      F1-Score      |      Accuracy      |\n",
      "+------------+--------------------+--------------------+--------------------+--------------------+\n",
      "|     1      |        1.0         | 0.7692307692307693 | 0.8695652173913044 | 0.8714285714285714 |\n",
      "|     2      |        1.0         |       0.625        | 0.7692307692307693 | 0.7428571428571429 |\n",
      "|     3      | 0.9655172413793104 | 0.6829268292682927 | 0.8000000000000002 |        0.8         |\n",
      "|     4      | 0.9655172413793104 |        0.7         | 0.8115942028985508 | 0.8142857142857143 |\n",
      "|     5      |        1.0         | 0.803921568627451  | 0.891304347826087  | 0.855072463768116  |\n",
      "|     6      | 0.9743589743589743 | 0.8085106382978723 | 0.8837209302325582 | 0.855072463768116  |\n",
      "|     7      |        1.0         | 0.7916666666666666 | 0.8837209302325582 | 0.855072463768116  |\n",
      "|     8      |        1.0         | 0.7619047619047619 | 0.8648648648648648 | 0.855072463768116  |\n",
      "|     9      |        1.0         | 0.6818181818181818 | 0.8108108108108109 | 0.7971014492753623 |\n",
      "|     10     |        1.0         | 0.7894736842105263 | 0.8823529411764706 | 0.8840579710144928 |\n",
      "+------------+--------------------+--------------------+--------------------+--------------------+\n",
      "Rata-rata Precision logit = 0.9905393457117595\n",
      "Rata-rata Recall logit = 0.7414453100024521\n",
      "Rata-rata F1-Score logit = 0.8467165014663974\n",
      "Rata-rata Akurasi logit = 0.8330020703933748\n",
      "akurasi validasi logit = 0.8846153846153846\n",
      "selisih akurasi logit = -0.051613314222009765\n",
      "\n",
      "\n",
      "\n",
      "\u001b[1m\u001b[95mHasil training data UnderSampling dengan model - svm\u001b[0m\n",
      "+------------+--------------------+--------------------+--------------------+--------------------+\n",
      "| Train ke - |     Precision      |       Recall       |      F1-Score      |      Accuracy      |\n",
      "+------------+--------------------+--------------------+--------------------+--------------------+\n",
      "|     1      |        1.0         |        1.0         |        1.0         |        1.0         |\n",
      "|     2      |        1.0         |        1.0         |        1.0         |        1.0         |\n",
      "|     3      |        1.0         | 0.9512195121951219 |       0.975        | 0.9714285714285714 |\n",
      "|     4      |        1.0         |       0.975        | 0.9873417721518987 | 0.9857142857142858 |\n",
      "|     5      |        1.0         |        1.0         |        1.0         |        1.0         |\n",
      "|     6      | 0.9791666666666666 |        1.0         | 0.9894736842105264 | 0.9855072463768116 |\n",
      "|     7      |        1.0         |        1.0         |        1.0         |        1.0         |\n",
      "|     8      |        1.0         | 0.9761904761904762 | 0.9879518072289156 | 0.9855072463768116 |\n",
      "|     9      |        1.0         | 0.9772727272727273 | 0.9885057471264368 | 0.9855072463768116 |\n",
      "|     10     |        1.0         |        1.0         |        1.0         |        1.0         |\n",
      "+------------+--------------------+--------------------+--------------------+--------------------+\n",
      "Rata-rata Precision svm = 0.9979166666666666\n",
      "Rata-rata Recall svm = 0.9879682715658324\n",
      "Rata-rata F1-Score svm = 0.9928273010717777\n",
      "Rata-rata Akurasi svm = 0.9913664596273293\n",
      "akurasi validasi svm = 0.9871794871794872\n",
      "selisih akurasi svm = 0.004186972447842052\n",
      "\n",
      "\n",
      "\n",
      "\u001b[1m\u001b[95mHasil training data UnderSampling dengan model - rf\u001b[0m\n",
      "+------------+-----------+--------+----------+----------+\n",
      "| Train ke - | Precision | Recall | F1-Score | Accuracy |\n",
      "+------------+-----------+--------+----------+----------+\n",
      "|     1      |    1.0    |  1.0   |   1.0    |   1.0    |\n",
      "|     2      |    1.0    |  1.0   |   1.0    |   1.0    |\n",
      "|     3      |    1.0    |  1.0   |   1.0    |   1.0    |\n",
      "|     4      |    1.0    |  1.0   |   1.0    |   1.0    |\n",
      "|     5      |    1.0    |  1.0   |   1.0    |   1.0    |\n",
      "|     6      |    1.0    |  1.0   |   1.0    |   1.0    |\n",
      "|     7      |    1.0    |  1.0   |   1.0    |   1.0    |\n",
      "|     8      |    1.0    |  1.0   |   1.0    |   1.0    |\n",
      "|     9      |    1.0    |  1.0   |   1.0    |   1.0    |\n",
      "|     10     |    1.0    |  1.0   |   1.0    |   1.0    |\n",
      "+------------+-----------+--------+----------+----------+\n",
      "Rata-rata Precision rf = 1.0\n",
      "Rata-rata Recall rf = 1.0\n",
      "Rata-rata F1-Score rf = 1.0\n",
      "Rata-rata Akurasi rf = 1.0\n",
      "akurasi validasi rf = 1.0\n",
      "selisih akurasi rf = 0.0\n",
      "\n",
      "\n",
      "\n",
      "\u001b[1m\u001b[95mHasil training data UnderSampling dengan model - slp\u001b[0m\n",
      "+------------+--------------------+--------------------+--------------------+--------------------+\n",
      "| Train ke - |     Precision      |       Recall       |      F1-Score      |      Accuracy      |\n",
      "+------------+--------------------+--------------------+--------------------+--------------------+\n",
      "|     1      | 0.972972972972973  | 0.9230769230769231 | 0.9473684210526315 | 0.9428571428571428 |\n",
      "|     2      |        1.0         | 0.6458333333333334 | 0.7848101265822784 | 0.7571428571428571 |\n",
      "|     3      | 0.9722222222222222 | 0.8536585365853658 | 0.9090909090909091 |        0.9         |\n",
      "|     4      | 0.9473684210526315 |        0.9         | 0.9230769230769231 | 0.9142857142857143 |\n",
      "|     5      |        1.0         | 0.9803921568627451 |  0.99009900990099  | 0.9855072463768116 |\n",
      "|     6      | 0.9347826086956522 | 0.9148936170212766 | 0.924731182795699  | 0.8985507246376812 |\n",
      "|     7      | 0.9523809523809523 | 0.8333333333333334 | 0.888888888888889  | 0.855072463768116  |\n",
      "|     8      |        1.0         | 0.6904761904761905 | 0.8169014084507042 | 0.8115942028985508 |\n",
      "|     9      |        1.0         | 0.6136363636363636 | 0.7605633802816901 | 0.7536231884057971 |\n",
      "|     10     | 0.9736842105263158 | 0.9736842105263158 | 0.9736842105263158 | 0.9710144927536232 |\n",
      "+------------+--------------------+--------------------+--------------------+--------------------+\n",
      "Rata-rata Precision slp = 0.9753411387850747\n",
      "Rata-rata Recall slp = 0.8328984664851846\n",
      "Rata-rata F1-Score slp = 0.891921446064703\n",
      "Rata-rata Akurasi slp = 0.8789648033126294\n",
      "akurasi validasi slp = 0.9102564102564102\n",
      "selisih akurasi slp = -0.03129160694378086\n",
      "\n",
      "\n",
      "\n",
      "\u001b[1m\u001b[95mHasil training data UnderSampling dengan model - mlp\u001b[0m\n",
      "+------------+--------------------+--------------------+--------------------+--------------------+\n",
      "| Train ke - |     Precision      |       Recall       |      F1-Score      |      Accuracy      |\n",
      "+------------+--------------------+--------------------+--------------------+--------------------+\n",
      "|     1      |        1.0         | 0.8205128205128205 | 0.9014084507042254 |        0.9         |\n",
      "|     2      |        1.0         | 0.6666666666666666 |        0.8         | 0.7714285714285715 |\n",
      "|     3      | 0.9705882352941176 | 0.8048780487804879 | 0.8800000000000001 | 0.8714285714285714 |\n",
      "|     4      | 0.9333333333333333 |        0.7         |        0.8         |        0.8         |\n",
      "|     5      |        1.0         | 0.8627450980392157 | 0.9263157894736842 | 0.8985507246376812 |\n",
      "|     6      | 0.9761904761904762 | 0.8723404255319149 | 0.9213483146067415 | 0.8985507246376812 |\n",
      "|     7      |        1.0         | 0.8541666666666666 | 0.9213483146067416 | 0.8985507246376812 |\n",
      "|     8      |        1.0         | 0.9047619047619048 | 0.9500000000000001 | 0.9420289855072463 |\n",
      "|     9      |        1.0         | 0.7954545454545454 | 0.8860759493670886 | 0.8695652173913043 |\n",
      "|     10     |        1.0         | 0.8421052631578947 | 0.9142857142857143 | 0.9130434782608695 |\n",
      "+------------+--------------------+--------------------+--------------------+--------------------+\n",
      "Rata-rata Precision mlp = 0.9880112044817928\n",
      "Rata-rata Recall mlp = 0.8123631439572119\n",
      "Rata-rata F1-Score mlp = 0.8900782533044195\n",
      "Rata-rata Akurasi mlp = 0.8763146997929606\n",
      "akurasi validasi mlp = 0.9102564102564102\n",
      "selisih akurasi mlp = -0.033941710463449626\n",
      "\n",
      "\n",
      "\n"
     ]
    },
    {
     "data": {
      "image/png": "[encoded data removed]",
      "text/plain": [
       "<Figure size 144x144 with 2 Axes>"
      ]
     },
     "metadata": {
      "needs_background": "light"
     },
     "output_type": "display_data"
    },
    {
     "data": {
      "image/png": "[encoded data removed]",
      "text/plain": [
       "<Figure size 144x144 with 2 Axes>"
      ]
     },
     "metadata": {
      "needs_background": "light"
     },
     "output_type": "display_data"
    },
    {
     "data": {
      "image/png": "[encoded data removed]",
      "text/plain": [
       "<Figure size 144x144 with 2 Axes>"
      ]
     },
     "metadata": {
      "needs_background": "light"
     },
     "output_type": "display_data"
    },
    {
     "data": {
      "image/png": "[encoded data removed]",
      "text/plain": [
       "<Figure size 144x144 with 2 Axes>"
      ]
     },
     "metadata": {
      "needs_background": "light"
     },
     "output_type": "display_data"
    },
    {
     "data": {
      "image/png": "[encoded data removed]",
      "text/plain": [
       "<Figure size 144x144 with 2 Axes>"
      ]
     },
     "metadata": {
      "needs_background": "light"
     },
     "output_type": "display_data"
    },
    {
     "data": {
      "image/png": "[encoded data removed]",
      "text/plain": [
       "<Figure size 144x144 with 2 Axes>"
      ]
     },
     "metadata": {
      "needs_background": "light"
     },
     "output_type": "display_data"
    }
   ],
   "source": [
    "# Memodelkan data dengan 8 atribut saja yang disertakan berdasarkan feature selection\n",
    "class_model_US(xdev_f, xunseen_f, ydev_f, yunseen_f, 10, models, modelname)\n"
   ]
  },
  {
   "cell_type": "code",
   "execution_count": 33,
   "metadata": {
    "scrolled": true
   },
   "outputs": [
    {
     "name": "stdout",
     "output_type": "stream",
     "text": [
      "\u001b[1m\u001b[95mHasil training data UnderSampling dengan model - knn\u001b[0m\n",
      "+------------+--------------------+--------------------+--------------------+--------------------+\n",
      "| Train ke - |     Precision      |       Recall       |      F1-Score      |      Accuracy      |\n",
      "+------------+--------------------+--------------------+--------------------+--------------------+\n",
      "|     1      |        1.0         | 0.717948717948718  | 0.835820895522388  | 0.8428571428571429 |\n",
      "|     2      |        1.0         | 0.5833333333333334 | 0.7368421052631579 | 0.7142857142857143 |\n",
      "|     3      | 0.9705882352941176 | 0.8048780487804879 | 0.8800000000000001 | 0.8714285714285714 |\n",
      "|     4      |        1.0         |        0.65        | 0.787878787878788  |        0.8         |\n",
      "|     5      |        1.0         | 0.803921568627451  | 0.891304347826087  | 0.855072463768116  |\n",
      "|     6      |        1.0         | 0.8297872340425532 | 0.9069767441860465 | 0.8840579710144928 |\n",
      "|     7      |        1.0         | 0.8333333333333334 | 0.9090909090909091 | 0.8840579710144928 |\n",
      "|     8      |        1.0         | 0.7142857142857143 | 0.8333333333333333 | 0.8260869565217391 |\n",
      "|     9      |        1.0         | 0.7272727272727273 | 0.8421052631578948 | 0.8260869565217391 |\n",
      "|     10     |        1.0         | 0.7368421052631579 | 0.8484848484848484 | 0.855072463768116  |\n",
      "+------------+--------------------+--------------------+--------------------+--------------------+\n",
      "Rata-rata Precision knn = 0.9970588235294118\n",
      "Rata-rata Recall knn = 0.7401602782887476\n",
      "Rata-rata F1-Score knn = 0.8471837234743452\n",
      "Rata-rata Akurasi knn = 0.8359006211180124\n",
      "akurasi validasi knn = 0.8589743589743589\n",
      "selisih akurasi knn = -0.023073737856346477\n",
      "\n",
      "\n",
      "\n",
      "\u001b[1m\u001b[95mHasil training data UnderSampling dengan model - logit\u001b[0m\n",
      "+------------+--------------------+--------------------+--------------------+--------------------+\n",
      "| Train ke - |     Precision      |       Recall       |      F1-Score      |      Accuracy      |\n",
      "+------------+--------------------+--------------------+--------------------+--------------------+\n",
      "|     1      |        1.0         | 0.8205128205128205 | 0.9014084507042254 |        0.9         |\n",
      "|     2      |        1.0         | 0.6458333333333334 | 0.7848101265822784 | 0.7571428571428571 |\n",
      "|     3      | 0.9696969696969697 | 0.7804878048780488 | 0.8648648648648648 | 0.8571428571428571 |\n",
      "|     4      | 0.9666666666666667 |       0.725        | 0.8285714285714285 | 0.8285714285714286 |\n",
      "|     5      |        1.0         | 0.8627450980392157 | 0.9263157894736842 | 0.8985507246376812 |\n",
      "|     6      | 0.9761904761904762 | 0.8723404255319149 | 0.9213483146067415 | 0.8985507246376812 |\n",
      "|     7      |        1.0         | 0.8333333333333334 | 0.9090909090909091 | 0.8840579710144928 |\n",
      "|     8      |        1.0         | 0.8095238095238095 | 0.8947368421052632 | 0.8840579710144928 |\n",
      "|     9      |        1.0         |        0.75        | 0.8571428571428571 | 0.8405797101449275 |\n",
      "|     10     |        1.0         | 0.7894736842105263 | 0.8823529411764706 | 0.8840579710144928 |\n",
      "+------------+--------------------+--------------------+--------------------+--------------------+\n",
      "Rata-rata Precision logit = 0.9912554112554112\n",
      "Rata-rata Recall logit = 0.7889250309363003\n",
      "Rata-rata F1-Score logit = 0.8770642524318722\n",
      "Rata-rata Akurasi logit = 0.8632712215320911\n",
      "akurasi validasi logit = 0.8717948717948718\n",
      "selisih akurasi logit = -0.00852365026278068\n",
      "\n",
      "\n",
      "\n",
      "\u001b[1m\u001b[95mHasil training data UnderSampling dengan model - svm\u001b[0m\n",
      "+------------+--------------------+--------------------+--------------------+--------------------+\n",
      "| Train ke - |     Precision      |       Recall       |      F1-Score      |      Accuracy      |\n",
      "+------------+--------------------+--------------------+--------------------+--------------------+\n",
      "|     1      |        1.0         | 0.8461538461538461 | 0.9166666666666666 | 0.9142857142857143 |\n",
      "|     2      |        1.0         | 0.6666666666666666 |        0.8         | 0.7714285714285715 |\n",
      "|     3      | 0.9705882352941176 | 0.8048780487804879 | 0.8800000000000001 | 0.8714285714285714 |\n",
      "|     4      |        1.0         |       0.725        | 0.8405797101449275 | 0.8428571428571429 |\n",
      "|     5      |        1.0         | 0.8431372549019608 | 0.9148936170212766 | 0.8840579710144928 |\n",
      "|     6      | 0.9761904761904762 | 0.8723404255319149 | 0.9213483146067415 | 0.8985507246376812 |\n",
      "|     7      | 0.9761904761904762 | 0.8541666666666666 | 0.9111111111111111 | 0.8840579710144928 |\n",
      "|     8      |        1.0         | 0.7619047619047619 | 0.8648648648648648 | 0.855072463768116  |\n",
      "|     9      |        1.0         | 0.7954545454545454 | 0.8860759493670886 | 0.8695652173913043 |\n",
      "|     10     |        1.0         | 0.7894736842105263 | 0.8823529411764706 | 0.8840579710144928 |\n",
      "+------------+--------------------+--------------------+--------------------+--------------------+\n",
      "Rata-rata Precision svm = 0.992296918767507\n",
      "Rata-rata Recall svm = 0.7959175900271377\n",
      "Rata-rata F1-Score svm = 0.8817893174959147\n",
      "Rata-rata Akurasi svm = 0.867536231884058\n",
      "akurasi validasi svm = 0.8974358974358975\n",
      "selisih akurasi svm = -0.029899665551839427\n",
      "\n",
      "\n",
      "\n",
      "\u001b[1m\u001b[95mHasil training data UnderSampling dengan model - rf\u001b[0m\n",
      "+------------+--------------------+--------------------+--------------------+--------------------+\n",
      "| Train ke - |     Precision      |       Recall       |      F1-Score      |      Accuracy      |\n",
      "+------------+--------------------+--------------------+--------------------+--------------------+\n",
      "|     1      | 0.9743589743589743 | 0.9743589743589743 | 0.9743589743589743 | 0.9714285714285714 |\n",
      "|     2      |        1.0         | 0.7708333333333334 | 0.8705882352941177 | 0.8428571428571429 |\n",
      "|     3      |        1.0         | 0.926829268292683  | 0.9620253164556963 | 0.9571428571428572 |\n",
      "|     4      |        1.0         |        0.9         | 0.9473684210526316 | 0.9428571428571428 |\n",
      "|     5      |        1.0         | 0.9803921568627451 |  0.99009900990099  | 0.9855072463768116 |\n",
      "|     6      | 0.9777777777777777 | 0.9361702127659575 | 0.9565217391304347 | 0.9420289855072463 |\n",
      "|     7      |        1.0         | 0.8333333333333334 | 0.9090909090909091 | 0.8840579710144928 |\n",
      "|     8      |        1.0         | 0.8809523809523809 | 0.9367088607594937 | 0.927536231884058  |\n",
      "|     9      |        1.0         | 0.7727272727272727 | 0.8717948717948718 | 0.855072463768116  |\n",
      "|     10     |        1.0         | 0.9473684210526315 | 0.972972972972973  | 0.9710144927536232 |\n",
      "+------------+--------------------+--------------------+--------------------+--------------------+\n",
      "Rata-rata Precision rf = 0.9952136752136752\n",
      "Rata-rata Recall rf = 0.8922965353679311\n",
      "Rata-rata F1-Score rf = 0.9391529310811093\n",
      "Rata-rata Akurasi rf = 0.9279503105590061\n",
      "akurasi validasi rf = 0.9615384615384616\n",
      "selisih akurasi rf = -0.033588150979455444\n",
      "\n",
      "\n",
      "\n",
      "\u001b[1m\u001b[95mHasil training data UnderSampling dengan model - slp\u001b[0m\n",
      "+------------+--------------------+--------------------+--------------------+--------------------+\n",
      "| Train ke - |     Precision      |       Recall       |      F1-Score      |      Accuracy      |\n",
      "+------------+--------------------+--------------------+--------------------+--------------------+\n",
      "|     1      |        1.0         | 0.5641025641025641 | 0.7213114754098361 | 0.7571428571428571 |\n",
      "|     2      |        1.0         | 0.5833333333333334 | 0.7368421052631579 | 0.7142857142857143 |\n",
      "|     3      | 0.8974358974358975 | 0.8536585365853658 |       0.875        | 0.8571428571428571 |\n",
      "|     4      | 0.9285714285714286 |        0.65        | 0.7647058823529412 | 0.7714285714285715 |\n",
      "|     5      |        1.0         | 0.7843137254901961 | 0.8791208791208792 | 0.8405797101449275 |\n",
      "|     6      | 0.9743589743589743 | 0.8085106382978723 | 0.8837209302325582 | 0.855072463768116  |\n",
      "|     7      | 0.9714285714285714 | 0.7083333333333334 | 0.8192771084337349 | 0.782608695652174  |\n",
      "|     8      |        1.0         | 0.6428571428571429 | 0.782608695652174  | 0.782608695652174  |\n",
      "|     9      |        1.0         | 0.7272727272727273 | 0.8421052631578948 | 0.8260869565217391 |\n",
      "|     10     |        1.0         | 0.7631578947368421 | 0.8656716417910448 | 0.8695652173913043 |\n",
      "+------------+--------------------+--------------------+--------------------+--------------------+\n",
      "Rata-rata Precision slp = 0.9771794871794872\n",
      "Rata-rata Recall slp = 0.7085539896009377\n",
      "Rata-rata F1-Score slp = 0.8170363981414221\n",
      "Rata-rata Akurasi slp = 0.8056521739130436\n",
      "akurasi validasi slp = 0.8205128205128205\n",
      "selisih akurasi slp = -0.014860646599776928\n",
      "\n",
      "\n",
      "\n",
      "\u001b[1m\u001b[95mHasil training data UnderSampling dengan model - mlp\u001b[0m\n"
     ]
    },
    {
     "name": "stdout",
     "output_type": "stream",
     "text": [
      "+------------+--------------------+--------------------+--------------------+--------------------+\n",
      "| Train ke - |     Precision      |       Recall       |      F1-Score      |      Accuracy      |\n",
      "+------------+--------------------+--------------------+--------------------+--------------------+\n",
      "|     1      |        1.0         | 0.8205128205128205 | 0.9014084507042254 |        0.9         |\n",
      "|     2      |        1.0         | 0.6666666666666666 |        0.8         | 0.7714285714285715 |\n",
      "|     3      | 0.9696969696969697 | 0.7804878048780488 | 0.8648648648648648 | 0.8571428571428571 |\n",
      "|     4      |        1.0         |        0.75        | 0.8571428571428571 | 0.8571428571428571 |\n",
      "|     5      |        1.0         | 0.8823529411764706 |       0.9375       | 0.9130434782608695 |\n",
      "|     6      | 0.9767441860465116 | 0.8936170212765957 | 0.9333333333333332 | 0.9130434782608695 |\n",
      "|     7      |        1.0         | 0.8541666666666666 | 0.9213483146067416 | 0.8985507246376812 |\n",
      "|     8      |        1.0         | 0.8333333333333334 | 0.9090909090909091 | 0.8985507246376812 |\n",
      "|     9      |        1.0         | 0.7954545454545454 | 0.8860759493670886 | 0.8695652173913043 |\n",
      "|     10     |        1.0         | 0.868421052631579  | 0.9295774647887324 | 0.927536231884058  |\n",
      "+------------+--------------------+--------------------+--------------------+--------------------+\n",
      "Rata-rata Precision mlp = 0.9946441155743482\n",
      "Rata-rata Recall mlp = 0.8145012852596727\n",
      "Rata-rata F1-Score mlp = 0.8940342143898752\n",
      "Rata-rata Akurasi mlp = 0.8806004140786751\n",
      "akurasi validasi mlp = 0.8974358974358975\n",
      "selisih akurasi mlp = -0.016835483357222403\n",
      "\n",
      "\n",
      "\n"
     ]
    },
    {
     "data": {
      "image/png": "[encoded data removed]",
      "text/plain": [
       "<Figure size 144x144 with 2 Axes>"
      ]
     },
     "metadata": {
      "needs_background": "light"
     },
     "output_type": "display_data"
    },
    {
     "data": {
      "image/png": "[encoded data removed]",
      "text/plain": [
       "<Figure size 144x144 with 2 Axes>"
      ]
     },
     "metadata": {
      "needs_background": "light"
     },
     "output_type": "display_data"
    },
    {
     "data": {
      "image/png": "[encoded data removed]",
      "text/plain": [
       "<Figure size 144x144 with 2 Axes>"
      ]
     },
     "metadata": {
      "needs_background": "light"
     },
     "output_type": "display_data"
    },
    {
     "data": {
      "image/png": "[encoded data removed]",
      "text/plain": [
       "<Figure size 144x144 with 2 Axes>"
      ]
     },
     "metadata": {
      "needs_background": "light"
     },
     "output_type": "display_data"
    },
    {
     "data": {
      "image/png": "[encoded data removed]",
      "text/plain": [
       "<Figure size 144x144 with 2 Axes>"
      ]
     },
     "metadata": {
      "needs_background": "light"
     },
     "output_type": "display_data"
    },
    {
     "data": {
      "image/png": "[encoded data removed]",
      "text/plain": [
       "<Figure size 144x144 with 2 Axes>"
      ]
     },
     "metadata": {
      "needs_background": "light"
     },
     "output_type": "display_data"
    }
   ],
   "source": [
    "# Memodelkan data dengan 8 atribut saja yang disertakan\n",
    "# Sesuai Paper\n",
    "class_model_US(xdev, xunseen, ydev, yunseen, 10, models, modelname)\n"
   ]
  },
  {
   "cell_type": "markdown",
   "metadata": {},
   "source": [
    "# Re-Modelling \n",
    "Dilakukan remodel terhadap seen data (data latih dan data test) dengan 8 feature sesuai paper untuk : \n",
    "1. data tanpa resampling\n",
    "2. data Oversampling"
   ]
  },
  {
   "cell_type": "markdown",
   "metadata": {},
   "source": [
    "### Logistic Regression"
   ]
  },
  {
   "cell_type": "code",
   "execution_count": 35,
   "metadata": {
    "scrolled": true
   },
   "outputs": [
    {
     "data": {
      "text/plain": [
       "[0.9338673730361708,\n",
       " 0.9467872366337838,\n",
       " 0.9511563755937157,\n",
       " 0.9554627938131773,\n",
       " 0.9554627938131773,\n",
       " 0.9554627938131773,\n",
       " 0.9569333820484716,\n",
       " 0.9555048106199001,\n",
       " 0.9569753988551943,\n",
       " 0.9569753988551943,\n",
       " 0.9569753988551943,\n",
       " 0.9555048106199001,\n",
       " 0.9569753988551943,\n",
       " 0.9555468274266227,\n",
       " 0.9555468274266227]"
      ]
     },
     "execution_count": 35,
     "metadata": {},
     "output_type": "execute_result"
    }
   ],
   "source": [
    "# Data tanpa Resampling\n",
    "# Memodelkan data dengan 8 atribut saja yang disertakan\n",
    "# Sesuai Paper\n",
    "from sklearn.model_selection import cross_val_score\n",
    "\n",
    "C_values = np.arange(0.1, 3.1, 0.2)\n",
    "logit_scores = []\n",
    "for i in C_values:\n",
    "    logit = LogisticRegression(C=i)\n",
    "    scores = cross_val_score(logit, xdev, ydev, cv=10, scoring='accuracy')\n",
    "    logit_scores.append(scores.mean())\n",
    "logit_scores"
   ]
  },
  {
   "cell_type": "code",
   "execution_count": 36,
   "metadata": {},
   "outputs": [
    {
     "data": {
      "text/plain": [
       "Text(0, 0.5, 'Cross-Validated Accuracy')"
      ]
     },
     "execution_count": 36,
     "metadata": {},
     "output_type": "execute_result"
    },
    {
     "data": {
      "image/png": "[encoded data removed]",
      "text/plain": [
       "<Figure size 432x288 with 1 Axes>"
      ]
     },
     "metadata": {
      "needs_background": "light"
     },
     "output_type": "display_data"
    }
   ],
   "source": [
    "# plot the value of C for Logit (x-axis) versus the cross-validated accuracy (y-axis)\n",
    "plt.plot(C_values, logit_scores)\n",
    "plt.xlabel('Value of C for Logit')\n",
    "plt.ylabel('Cross-Validated Accuracy')"
   ]
  },
  {
   "cell_type": "code",
   "execution_count": 37,
   "metadata": {},
   "outputs": [
    {
     "data": {
      "text/plain": [
       "[0.925872093023256,\n",
       " 0.9429968287526428,\n",
       " 0.9475687103594079,\n",
       " 0.9521670190274844,\n",
       " 0.953303382663848,\n",
       " 0.9544397463002113,\n",
       " 0.9555761099365749,\n",
       " 0.9578488372093024,\n",
       " 0.9601479915433405,\n",
       " 0.9578752642706132,\n",
       " 0.9578752642706132,\n",
       " 0.9578752642706132,\n",
       " 0.9578752642706132,\n",
       " 0.9578752642706132,\n",
       " 0.9578752642706132]"
      ]
     },
     "execution_count": 37,
     "metadata": {},
     "output_type": "execute_result"
    }
   ],
   "source": [
    "# Data tanpa OverSampling\n",
    "# Memodelkan data dengan 8 atribut saja yang disertakan\n",
    "# Sesuai Paper\n",
    "x_OS, y_OS = SMOTE().fit_resample(xdev,ydev)\n",
    "\n",
    "logit_scores_OS = []\n",
    "for i in C_values:\n",
    "    logit_OS = LogisticRegression(C=i)\n",
    "    scores_OS = cross_val_score(logit_OS, x_OS, y_OS, cv=10, scoring='accuracy')\n",
    "    logit_scores_OS.append(scores_OS.mean())\n",
    "logit_scores_OS"
   ]
  },
  {
   "cell_type": "code",
   "execution_count": 38,
   "metadata": {
    "scrolled": true
   },
   "outputs": [
    {
     "data": {
      "text/plain": [
       "Text(0, 0.5, 'Cross-Validated Accuracy')"
      ]
     },
     "execution_count": 38,
     "metadata": {},
     "output_type": "execute_result"
    },
    {
     "data": {
      "image/png": "[encoded data removed]",
      "text/plain": [
       "<Figure size 432x288 with 1 Axes>"
      ]
     },
     "metadata": {
      "needs_background": "light"
     },
     "output_type": "display_data"
    }
   ],
   "source": [
    "# plot the value of C for Logit (x-axis) versus the cross-validated accuracy (y-axis)\n",
    "plt.plot(C_values, logit_scores_OS)\n",
    "plt.xlabel('Value of C for Logit_OS')\n",
    "plt.ylabel('Cross-Validated Accuracy')"
   ]
  },
  {
   "cell_type": "markdown",
   "metadata": {},
   "source": [
    "Hasil terbaik LogisticRegression aadalah\n",
    "1. Akurasi dengan data tanpa resampling : 0.957 dengan C= 1.3 dan C=2.5\n",
    "2. Akurasi dengan data dengan Oversampling :0.960 dengan C=1.7"
   ]
  },
  {
   "cell_type": "markdown",
   "metadata": {},
   "source": [
    "### Random Forest"
   ]
  },
  {
   "cell_type": "code",
   "execution_count": 39,
   "metadata": {
    "scrolled": true
   },
   "outputs": [
    {
     "data": {
      "text/plain": [
       "[0.9813250517598344,\n",
       " 0.9813037388868591,\n",
       " 0.9841608817440018,\n",
       " 0.9856314699792961,\n",
       " 0.9841608817440018,\n",
       " 0.9871014492753624,\n",
       " 0.9885300207039338,\n",
       " 0.9870807453416148,\n",
       " 0.9870807453416148,\n",
       " 0.9842028985507246]"
      ]
     },
     "execution_count": 39,
     "metadata": {},
     "output_type": "execute_result"
    }
   ],
   "source": [
    "# Memodelkan data tanpa resampling\n",
    "# Memodelkan data dengan 8 atribut saja yang disertakan\n",
    "# Sesuai Paper\n",
    "\n",
    "estimator = list(range(10,101,10))\n",
    "\n",
    "rf_scores = []\n",
    "for i in estimator:\n",
    "    rf = RandomForestClassifier(n_estimators = i)\n",
    "    scores = cross_val_score(rf, xdev, ydev, cv=10, scoring='accuracy')\n",
    "    rf_scores.append(scores.mean())\n",
    "rf_scores"
   ]
  },
  {
   "cell_type": "code",
   "execution_count": 40,
   "metadata": {},
   "outputs": [
    {
     "data": {
      "text/plain": [
       "Text(0, 0.5, 'Cross-Validated Accuracy')"
      ]
     },
     "execution_count": 40,
     "metadata": {},
     "output_type": "execute_result"
    },
    {
     "data": {
      "image/png": "[encoded data removed]",
      "text/plain": [
       "<Figure size 432x288 with 1 Axes>"
      ]
     },
     "metadata": {
      "needs_background": "light"
     },
     "output_type": "display_data"
    }
   ],
   "source": [
    "# plot the value of n_estimator for rf (x-axis) versus the cross-validated accuracy (y-axis)\n",
    "plt.plot(estimator, rf_scores)\n",
    "plt.xlabel('Value of n_estimator for rf')\n",
    "plt.ylabel('Cross-Validated Accuracy')"
   ]
  },
  {
   "cell_type": "code",
   "execution_count": 41,
   "metadata": {},
   "outputs": [
    {
     "data": {
      "text/plain": [
       "[0.9886099365750528,\n",
       " 0.990909090909091,\n",
       " 0.9897727272727274,\n",
       " 0.9920454545454545,\n",
       " 0.9897463002114165,\n",
       " 0.9908826638477801,\n",
       " 0.9897727272727274,\n",
       " 0.9886099365750528,\n",
       " 0.9897727272727274,\n",
       " 0.9875]"
      ]
     },
     "execution_count": 41,
     "metadata": {},
     "output_type": "execute_result"
    }
   ],
   "source": [
    "# Data Oversampling\n",
    "# Memodelkan data dengan 8 atribut saja yang disertakan\n",
    "# Sesuai Paper\n",
    "\n",
    "estimator = list(range(10,101,10))\n",
    "\n",
    "rf_scores_OS = []\n",
    "for i in estimator:\n",
    "    rf_OS = RandomForestClassifier(n_estimators = i)\n",
    "    scores_OS = cross_val_score(rf_OS, x_OS, y_OS, cv=10, scoring='accuracy')\n",
    "    rf_scores_OS.append(scores_OS.mean())\n",
    "rf_scores_OS"
   ]
  },
  {
   "cell_type": "code",
   "execution_count": 42,
   "metadata": {},
   "outputs": [
    {
     "data": {
      "text/plain": [
       "Text(0, 0.5, 'Cross-Validated Accuracy')"
      ]
     },
     "execution_count": 42,
     "metadata": {},
     "output_type": "execute_result"
    },
    {
     "data": {
      "image/png": "[encoded data removed]",
      "text/plain": [
       "<Figure size 432x288 with 1 Axes>"
      ]
     },
     "metadata": {
      "needs_background": "light"
     },
     "output_type": "display_data"
    }
   ],
   "source": [
    "# plot the value of n_estimator for rf  (x-axis) versus the cross-validated accuracy (y-axis)\n",
    "plt.plot(estimator, rf_scores_OS)\n",
    "plt.xlabel('Value of n_estimator for rf_OS')\n",
    "plt.ylabel('Cross-Validated Accuracy')"
   ]
  },
  {
   "cell_type": "markdown",
   "metadata": {},
   "source": [
    "Hasil terbaik Random Forest aadalah\n",
    "1. Akurasi dengan data tanpa resampling : 0.989 dengan n_estimator=70\n",
    "2. Akurasi dengan data dengan Oversampling : 0.990 dengan n_estimator=40"
   ]
  },
  {
   "cell_type": "markdown",
   "metadata": {},
   "source": [
    "### Multi Layer Perceptron"
   ]
  },
  {
   "cell_type": "code",
   "execution_count": 43,
   "metadata": {
    "scrolled": true
   },
   "outputs": [
    {
     "data": {
      "text/plain": [
       "[0.877693947144075,\n",
       " 0.9079862379734502,\n",
       " 0.9296663013031299,\n",
       " 0.9367665327000365,\n",
       " 0.9439514066496162,\n",
       " 0.9367245158933137,\n",
       " 0.9397284131043723,\n",
       " 0.9526062598952624,\n",
       " 0.9525648520277675,\n",
       " 0.9554634027524053,\n",
       " 0.9525642430885398,\n",
       " 0.9582785288028255]"
      ]
     },
     "execution_count": 43,
     "metadata": {},
     "output_type": "execute_result"
    }
   ],
   "source": [
    "# Data tanpa Resampling\n",
    "# Memodelkan data dengan 8 atribut saja yang disertakan\n",
    "# Sesuai Paper\n",
    "\n",
    "_iter = list(range(25,301,25))\n",
    "mlp_scores = []\n",
    "for i in _iter:\n",
    "    mlp = MLPClassifier(max_iter= i)       \n",
    "    scores = cross_val_score(mlp, xdev, ydev, cv=10, scoring='accuracy')\n",
    "    mlp_scores.append(scores.mean())\n",
    "mlp_scores"
   ]
  },
  {
   "cell_type": "code",
   "execution_count": 44,
   "metadata": {},
   "outputs": [
    {
     "data": {
      "text/plain": [
       "Text(0, 0.5, 'Cross-Validated Accuracy')"
      ]
     },
     "execution_count": 44,
     "metadata": {},
     "output_type": "execute_result"
    },
    {
     "data": {
      "image/png": "[encoded data removed]",
      "text/plain": [
       "<Figure size 432x288 with 1 Axes>"
      ]
     },
     "metadata": {
      "needs_background": "light"
     },
     "output_type": "display_data"
    }
   ],
   "source": [
    "# plot the value of max_iter for mlp (x-axis) versus the cross-validated accuracy (y-axis)\n",
    "plt.plot(_iter, mlp_scores)\n",
    "plt.xlabel('Value of max_iter for mlp')\n",
    "plt.ylabel('Cross-Validated Accuracy')"
   ]
  },
  {
   "cell_type": "code",
   "execution_count": 45,
   "metadata": {},
   "outputs": [
    {
     "data": {
      "text/plain": [
       "[0.8961416490486259,\n",
       " 0.9144820295983088,\n",
       " 0.9362315010570825,\n",
       " 0.946485200845666,\n",
       " 0.9567124735729386,\n",
       " 0.9578488372093024,\n",
       " 0.9624207188160675,\n",
       " 0.9612843551797038,\n",
       " 0.9624207188160675,\n",
       " 0.9624207188160678,\n",
       " 0.9647198731501057,\n",
       " 0.9601479915433405]"
      ]
     },
     "execution_count": 45,
     "metadata": {},
     "output_type": "execute_result"
    }
   ],
   "source": [
    "# Data dengan Oversampling\n",
    "# Memodelkan data dengan 8 atribut saja yang disertakan\n",
    "# Sesuai Paper\n",
    "\n",
    "_iter = list(range(25,301,25))\n",
    "mlp_scores_OS = []\n",
    "for i in _iter:\n",
    "    mlp_OS = MLPClassifier(max_iter= i)       \n",
    "    scores = cross_val_score(mlp_OS, x_OS, y_OS, cv=10, scoring='accuracy')\n",
    "    mlp_scores_OS.append(scores.mean())\n",
    "mlp_scores_OS"
   ]
  },
  {
   "cell_type": "code",
   "execution_count": 46,
   "metadata": {},
   "outputs": [
    {
     "data": {
      "text/plain": [
       "Text(0, 0.5, 'Cross-Validated Accuracy')"
      ]
     },
     "execution_count": 46,
     "metadata": {},
     "output_type": "execute_result"
    },
    {
     "data": {
      "image/png": "[encoded data removed]",
      "text/plain": [
       "<Figure size 432x288 with 1 Axes>"
      ]
     },
     "metadata": {
      "needs_background": "light"
     },
     "output_type": "display_data"
    }
   ],
   "source": [
    "# plot the value of max_iter for mlp (x-axis) versus the cross-validated accuracy (y-axis)\n",
    "plt.plot(_iter, mlp_scores_OS)\n",
    "plt.xlabel('Value of max_iter for mlp_OS')\n",
    "plt.ylabel('Cross-Validated Accuracy')"
   ]
  },
  {
   "cell_type": "markdown",
   "metadata": {},
   "source": [
    "Hasil terbaik Multi Layer Perceptron aadalah\n",
    "1. Akurasi dengan data tanpa resampling : 0.958 dengan max_iter=300\n",
    "2. Akurasi dengan data dengan Oversampling : 0.964 dengan max_iter=275"
   ]
  },
  {
   "cell_type": "markdown",
   "metadata": {},
   "source": [
    "# Results\n",
    "\n"
   ]
  },
  {
   "cell_type": "code",
   "execution_count": 47,
   "metadata": {
    "scrolled": true
   },
   "outputs": [
    {
     "name": "stdout",
     "output_type": "stream",
     "text": [
      "\u001b[1m\u001b[95mHasil training model - logit\u001b[0m\n",
      "+------------+--------------------+--------------------+--------------------+--------------------+\n",
      "| Train ke - |     Precision      |       Recall       |      F1-Score      |      Accuracy      |\n",
      "+------------+--------------------+--------------------+--------------------+--------------------+\n",
      "|     1      | 0.972972972972973  | 0.9230769230769231 | 0.9473684210526315 | 0.9428571428571428 |\n",
      "|     2      |        1.0         | 0.9583333333333334 | 0.9787234042553191 | 0.9714285714285714 |\n",
      "|     3      | 0.9210526315789473 | 0.8536585365853658 | 0.8860759493670887 | 0.8714285714285714 |\n",
      "|     4      |        0.95        |        0.95        | 0.9500000000000001 | 0.9428571428571428 |\n",
      "|     5      | 0.9807692307692307 |        1.0         | 0.9902912621359222 | 0.9855072463768116 |\n",
      "|     6      | 0.9565217391304348 | 0.9361702127659575 | 0.9462365591397849 | 0.927536231884058  |\n",
      "|     7      | 0.9795918367346939 |        1.0         | 0.9896907216494846 | 0.9855072463768116 |\n",
      "|     8      | 0.9534883720930233 | 0.9761904761904762 | 0.9647058823529412 | 0.9565217391304348 |\n",
      "|     9      |        1.0         | 0.9772727272727273 | 0.9885057471264368 | 0.9855072463768116 |\n",
      "|     10     |        0.95        |        1.0         | 0.9743589743589743 | 0.9710144927536232 |\n",
      "+------------+--------------------+--------------------+--------------------+--------------------+\n",
      "Rata-rata Precision logit = 0.9664396783279303\n",
      "Rata-rata Recall logit = 0.9574702209224784\n",
      "Rata-rata F1-Score logit = 0.9615956921438583\n",
      "Rata-rata Akurasi logit = 0.954016563146998\n",
      "akurasi validasi logit = 0.9487179487179487\n",
      "selisih akurasi logit = 0.005298614429049331\n",
      "\n",
      "\n",
      "\n",
      "\u001b[1m\u001b[95mHasil training model - rf\u001b[0m\n",
      "+------------+--------------------+--------------------+--------------------+--------------------+\n",
      "| Train ke - |     Precision      |       Recall       |      F1-Score      |      Accuracy      |\n",
      "+------------+--------------------+--------------------+--------------------+--------------------+\n",
      "|     1      |       0.975        |        1.0         | 0.9873417721518987 | 0.9857142857142858 |\n",
      "|     2      |        1.0         |        1.0         |        1.0         |        1.0         |\n",
      "|     3      | 0.975609756097561  | 0.975609756097561  | 0.975609756097561  | 0.9714285714285714 |\n",
      "|     4      | 0.9743589743589743 |        0.95        | 0.9620253164556962 | 0.9571428571428572 |\n",
      "|     5      |        1.0         |        1.0         |        1.0         |        1.0         |\n",
      "|     6      | 0.9791666666666666 |        1.0         | 0.9894736842105264 | 0.9855072463768116 |\n",
      "|     7      |        1.0         |        1.0         |        1.0         |        1.0         |\n",
      "|     8      | 0.9761904761904762 | 0.9761904761904762 | 0.9761904761904762 | 0.9710144927536232 |\n",
      "|     9      |        1.0         |        1.0         |        1.0         |        1.0         |\n",
      "|     10     |        1.0         |        1.0         |        1.0         |        1.0         |\n",
      "+------------+--------------------+--------------------+--------------------+--------------------+\n",
      "Rata-rata Precision rf = 0.9880325873313678\n",
      "Rata-rata Recall rf = 0.9901800232288037\n",
      "Rata-rata F1-Score rf = 0.9890641005106158\n",
      "Rata-rata Akurasi rf = 0.9870807453416148\n",
      "akurasi validasi rf = 0.9743589743589743\n",
      "selisih akurasi rf = 0.01272177098264049\n",
      "\n",
      "\n",
      "\n",
      "\u001b[1m\u001b[95mHasil training model - mlp\u001b[0m\n",
      "+------------+--------------------+--------------------+--------------------+--------------------+\n",
      "| Train ke - |     Precision      |       Recall       |      F1-Score      |      Accuracy      |\n",
      "+------------+--------------------+--------------------+--------------------+--------------------+\n",
      "|     1      | 0.9743589743589743 | 0.9743589743589743 | 0.9743589743589743 | 0.9714285714285714 |\n",
      "|     2      |        1.0         |       0.9375       | 0.967741935483871  | 0.9571428571428572 |\n",
      "|     3      | 0.9285714285714286 | 0.9512195121951219 | 0.9397590361445782 | 0.9285714285714286 |\n",
      "|     4      |        1.0         |       0.925        | 0.961038961038961  | 0.9571428571428572 |\n",
      "|     5      | 0.9444444444444444 |        1.0         | 0.9714285714285714 | 0.9565217391304348 |\n",
      "|     6      |       0.9375       | 0.9574468085106383 | 0.9473684210526315 | 0.927536231884058  |\n",
      "|     7      |        1.0         | 0.9583333333333334 | 0.9787234042553191 | 0.9710144927536232 |\n",
      "|     8      | 0.9523809523809523 | 0.9523809523809523 | 0.9523809523809523 | 0.9420289855072463 |\n",
      "|     9      | 0.9767441860465116 | 0.9545454545454546 | 0.9655172413793104 | 0.9565217391304348 |\n",
      "|     10     | 0.9743589743589743 |        1.0         | 0.9870129870129869 | 0.9855072463768116 |\n",
      "+------------+--------------------+--------------------+--------------------+--------------------+\n",
      "Rata-rata Precision mlp = 0.9688358960161286\n",
      "Rata-rata Recall mlp = 0.9610785035324476\n",
      "Rata-rata F1-Score mlp = 0.9645330484536156\n",
      "Rata-rata Akurasi mlp = 0.9553416149068324\n",
      "akurasi validasi mlp = 0.9358974358974359\n",
      "selisih akurasi mlp = 0.019444179009396545\n",
      "\n",
      "\n",
      "\n"
     ]
    },
    {
     "data": {
      "image/png": "[encoded data removed]",
      "text/plain": [
       "<Figure size 144x144 with 2 Axes>"
      ]
     },
     "metadata": {
      "needs_background": "light"
     },
     "output_type": "display_data"
    },
    {
     "data": {
      "image/png": "[encoded data removed]",
      "text/plain": [
       "<Figure size 144x144 with 2 Axes>"
      ]
     },
     "metadata": {
      "needs_background": "light"
     },
     "output_type": "display_data"
    },
    {
     "data": {
      "image/png": "[encoded data removed]",
      "text/plain": [
       "<Figure size 144x144 with 2 Axes>"
      ]
     },
     "metadata": {
      "needs_background": "light"
     },
     "output_type": "display_data"
    }
   ],
   "source": [
    "models_final = {\n",
    "    \"logit\": LogisticRegression(C=2.5),\n",
    "    \"rf\": RandomForestClassifier(n_estimators=70),\n",
    "    \"mlp\" : MLPClassifier(max_iter=300)\n",
    "}\n",
    "modelname_final = [\"logit\", \"rf\", \"mlp\"]\n",
    "class_model(xdev, xunseen, ydev, yunseen, 10, models_final, modelname_final)"
   ]
  },
  {
   "cell_type": "code",
   "execution_count": 48,
   "metadata": {
    "scrolled": true
   },
   "outputs": [
    {
     "name": "stdout",
     "output_type": "stream",
     "text": [
      "\u001b[1m\u001b[95mHasil training data Oversampling dengan model - logit\u001b[0m\n",
      "+------------+--------------------+--------------------+--------------------+--------------------+\n",
      "| Train ke - |     Precision      |       Recall       |      F1-Score      |      Accuracy      |\n",
      "+------------+--------------------+--------------------+--------------------+--------------------+\n",
      "|     1      | 0.972972972972973  | 0.9230769230769231 | 0.9473684210526315 | 0.9428571428571428 |\n",
      "|     2      |        1.0         |       0.9375       | 0.967741935483871  | 0.9571428571428572 |\n",
      "|     3      | 0.9444444444444444 | 0.8292682926829268 | 0.883116883116883  | 0.8714285714285714 |\n",
      "|     4      | 0.9736842105263158 |       0.925        | 0.9487179487179489 | 0.9428571428571428 |\n",
      "|     5      |        1.0         | 0.9607843137254902 |        0.98        | 0.9710144927536232 |\n",
      "|     6      | 0.9772727272727273 | 0.9148936170212766 | 0.945054945054945  | 0.927536231884058  |\n",
      "|     7      | 0.9791666666666666 | 0.9791666666666666 | 0.9791666666666666 | 0.9710144927536232 |\n",
      "|     8      | 0.975609756097561  | 0.9523809523809523 | 0.963855421686747  | 0.9565217391304348 |\n",
      "|     9      |        1.0         | 0.9318181818181818 | 0.9647058823529412 | 0.9565217391304348 |\n",
      "|     10     | 0.9487179487179487 | 0.9736842105263158 | 0.9610389610389611 | 0.9565217391304348 |\n",
      "+------------+--------------------+--------------------+--------------------+--------------------+\n",
      "Rata-rata Precision logit = 0.9771868726698637\n",
      "Rata-rata Recall logit = 0.9327573157898733\n",
      "Rata-rata F1-Score logit = 0.9540767065171595\n",
      "Rata-rata Akurasi logit = 0.9453416149068324\n",
      "akurasi validasi logit = 0.9487179487179487\n",
      "selisih akurasi logit = -0.003376333811116239\n",
      "\n",
      "\n",
      "\n",
      "\u001b[1m\u001b[95mHasil training data Oversampling dengan model - rf\u001b[0m\n",
      "+------------+--------------------+--------------------+--------------------+--------------------+\n",
      "| Train ke - |     Precision      |       Recall       |      F1-Score      |      Accuracy      |\n",
      "+------------+--------------------+--------------------+--------------------+--------------------+\n",
      "|     1      |       0.975        |        1.0         | 0.9873417721518987 | 0.9857142857142858 |\n",
      "|     2      |        1.0         | 0.9791666666666666 | 0.9894736842105264 | 0.9857142857142858 |\n",
      "|     3      | 0.975609756097561  | 0.975609756097561  | 0.975609756097561  | 0.9714285714285714 |\n",
      "|     4      |        0.95        |        0.95        | 0.9500000000000001 | 0.9428571428571428 |\n",
      "|     5      |        1.0         |        1.0         |        1.0         |        1.0         |\n",
      "|     6      | 0.9791666666666666 |        1.0         | 0.9894736842105264 | 0.9855072463768116 |\n",
      "|     7      |        1.0         | 0.9791666666666666 | 0.9894736842105264 | 0.9855072463768116 |\n",
      "|     8      | 0.9761904761904762 | 0.9761904761904762 | 0.9761904761904762 | 0.9710144927536232 |\n",
      "|     9      |        1.0         | 0.9772727272727273 | 0.9885057471264368 | 0.9855072463768116 |\n",
      "|     10     |        1.0         |        1.0         |        1.0         |        1.0         |\n",
      "+------------+--------------------+--------------------+--------------------+--------------------+\n",
      "Rata-rata Precision rf = 0.9855966898954703\n",
      "Rata-rata Recall rf = 0.9837406292894096\n",
      "Rata-rata F1-Score rf = 0.9846068804197952\n",
      "Rata-rata Akurasi rf = 0.9813250517598344\n",
      "akurasi validasi rf = 0.9743589743589743\n",
      "selisih akurasi rf = 0.006966077400860082\n",
      "\n",
      "\n",
      "\n",
      "\u001b[1m\u001b[95mHasil training data Oversampling dengan model - mlp\u001b[0m\n",
      "+------------+--------------------+--------------------+--------------------+--------------------+\n",
      "| Train ke - |     Precision      |       Recall       |      F1-Score      |      Accuracy      |\n",
      "+------------+--------------------+--------------------+--------------------+--------------------+\n",
      "|     1      | 0.972972972972973  | 0.9230769230769231 | 0.9473684210526315 | 0.9428571428571428 |\n",
      "|     2      |        1.0         | 0.9166666666666666 | 0.9565217391304348 | 0.9428571428571428 |\n",
      "|     3      | 0.9487179487179487 | 0.9024390243902439 | 0.9249999999999999 | 0.9142857142857143 |\n",
      "|     4      |        1.0         |        0.95        | 0.9743589743589743 | 0.9714285714285714 |\n",
      "|     5      |        1.0         | 0.9607843137254902 |        0.98        | 0.9710144927536232 |\n",
      "|     6      | 0.9387755102040817 | 0.9787234042553191 | 0.9583333333333333 | 0.9420289855072463 |\n",
      "|     7      |        1.0         | 0.9583333333333334 | 0.9787234042553191 | 0.9710144927536232 |\n",
      "|     8      |       0.975        | 0.9285714285714286 | 0.951219512195122  | 0.9420289855072463 |\n",
      "|     9      | 0.9555555555555556 | 0.9772727272727273 | 0.9662921348314608 | 0.9565217391304348 |\n",
      "|     10     |        1.0         | 0.9736842105263158 | 0.9866666666666666 | 0.9855072463768116 |\n",
      "+------------+--------------------+--------------------+--------------------+--------------------+\n",
      "Rata-rata Precision mlp = 0.9791021987450559\n",
      "Rata-rata Recall mlp = 0.9469552031818447\n",
      "Rata-rata F1-Score mlp = 0.9624484185823942\n",
      "Rata-rata Akurasi mlp = 0.9539544513457558\n",
      "akurasi validasi mlp = 0.9487179487179487\n",
      "selisih akurasi mlp = 0.005236502627807171\n",
      "\n",
      "\n",
      "\n"
     ]
    },
    {
     "data": {
      "image/png": "[encoded data removed]",
      "text/plain": [
       "<Figure size 144x144 with 2 Axes>"
      ]
     },
     "metadata": {
      "needs_background": "light"
     },
     "output_type": "display_data"
    },
    {
     "data": {
      "image/png": "[encoded data removed]",
      "text/plain": [
       "<Figure size 144x144 with 2 Axes>"
      ]
     },
     "metadata": {
      "needs_background": "light"
     },
     "output_type": "display_data"
    },
    {
     "data": {
      "image/png": "[encoded data removed]",
      "text/plain": [
       "<Figure size 144x144 with 2 Axes>"
      ]
     },
     "metadata": {
      "needs_background": "light"
     },
     "output_type": "display_data"
    }
   ],
   "source": [
    "# Oversampling\n",
    "models_final_OS = {\n",
    "    \"logit\": LogisticRegression(C=1.7),\n",
    "    \"rf\": RandomForestClassifier(n_estimators=40),\n",
    "    \"mlp\" : MLPClassifier(max_iter=275)\n",
    "}\n",
    "modelname_final_OS = [\"logit\", \"rf\", \"mlp\"]\n",
    "class_model_OS(xdev, xunseen, ydev, yunseen, 10, models_final_OS, modelname_final_OS)"
   ]
  },
  {
   "cell_type": "code",
   "execution_count": null,
   "metadata": {},
   "outputs": [],
   "source": []
  }
 ],
 "metadata": {
  "kernelspec": {
   "display_name": "Python 3",
   "language": "python",
   "name": "python3"
  },
  "language_info": {
   "codemirror_mode": {
    "name": "ipython",
    "version": 3
   },
   "file_extension": ".py",
   "mimetype": "text/x-python",
   "name": "python",
   "nbconvert_exporter": "python",
   "pygments_lexer": "ipython3",
   "version": "3.7.3"
  }
 },
 "nbformat": 4,
 "nbformat_minor": 2
}
